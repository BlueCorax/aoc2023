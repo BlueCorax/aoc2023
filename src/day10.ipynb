{
 "cells": [
  {
   "cell_type": "code",
   "execution_count": 1,
   "id": "8f9f85b2-9a85-408e-aef5-1a21e35be255",
   "metadata": {},
   "outputs": [],
   "source": [
    "from ipynb.fs.defs.utils import read_lines "
   ]
  },
  {
   "cell_type": "code",
   "execution_count": 2,
   "id": "80c78c25-70a3-4bfd-8682-6e605d1d21ac",
   "metadata": {},
   "outputs": [],
   "source": [
    "puzzle_input = read_lines('day10.txt')"
   ]
  },
  {
   "cell_type": "code",
   "execution_count": 3,
   "id": "9f908405-1b94-402c-a976-bf207f962222",
   "metadata": {},
   "outputs": [],
   "source": [
    "test_input = \"\"\"..F7.\n",
    ".FJ|.\n",
    "SJ.L7\n",
    "|F--J\n",
    "LJ...\"\"\".splitlines()"
   ]
  },
  {
   "cell_type": "code",
   "execution_count": 4,
   "id": "c705399b-1286-4c98-857b-d48f8d502e03",
   "metadata": {},
   "outputs": [],
   "source": [
    "def parse_map(schematics):\n",
    "    map_dict = {}\n",
    "    for y in range(len(schematics)):\n",
    "        for x in range(len(schematics[y])):\n",
    "            tile = schematics[y][x]\n",
    "            if tile != '.':\n",
    "                map_dict[(x, y)] = tile\n",
    "    return map_dict"
   ]
  },
  {
   "cell_type": "code",
   "execution_count": 5,
   "id": "b001cfbe-68b1-440d-92fd-c2d36c94b314",
   "metadata": {},
   "outputs": [
    {
     "data": {
      "text/plain": [
       "{(2, 0): 'F',\n",
       " (3, 0): '7',\n",
       " (1, 1): 'F',\n",
       " (2, 1): 'J',\n",
       " (3, 1): '|',\n",
       " (0, 2): 'S',\n",
       " (1, 2): 'J',\n",
       " (3, 2): 'L',\n",
       " (4, 2): '7',\n",
       " (0, 3): '|',\n",
       " (1, 3): 'F',\n",
       " (2, 3): '-',\n",
       " (3, 3): '-',\n",
       " (4, 3): 'J',\n",
       " (0, 4): 'L',\n",
       " (1, 4): 'J'}"
      ]
     },
     "execution_count": 5,
     "metadata": {},
     "output_type": "execute_result"
    }
   ],
   "source": [
    "parse_map(test_input)"
   ]
  },
  {
   "cell_type": "code",
   "execution_count": 6,
   "id": "5899c236-0adf-4272-9ffd-1b8ba736c37d",
   "metadata": {},
   "outputs": [],
   "source": [
    "def get_starting_point(pipe_map):\n",
    "    for loc in pipe_map:\n",
    "        if pipe_map[loc] == 'S':\n",
    "            return loc"
   ]
  },
  {
   "cell_type": "code",
   "execution_count": 7,
   "id": "4c2e616a-3232-4631-a911-195bbfac09a9",
   "metadata": {},
   "outputs": [],
   "source": [
    "def get_connecting_pipes(loc, pipe_map):\n",
    "    tile = pipe_map[loc]\n",
    "    x, y = loc\n",
    "    pipes = []\n",
    "    if tile in ('|LJS'):\n",
    "        pipes.append((x, y - 1))\n",
    "    if tile in ('-LFS'):\n",
    "        pipes.append((x + 1, y))\n",
    "    if tile in ('|7FS'):\n",
    "        pipes.append((x, y + 1))\n",
    "    if tile in ('-J7S'):\n",
    "        pipes.append((x - 1, y))\n",
    "    pipes =  [p for p in pipes if pipe_map.get(p)]\n",
    "    if tile == 'S':\n",
    "        start_conns = []\n",
    "        for p in pipes:\n",
    "            if loc in get_connecting_pipes(p, pipe_map):\n",
    "                start_conns.append(p)\n",
    "        return start_conns\n",
    "    else:\n",
    "        return pipes"
   ]
  },
  {
   "cell_type": "code",
   "execution_count": 8,
   "id": "89202bf4-f33f-45de-8b21-63d9fd703746",
   "metadata": {},
   "outputs": [],
   "source": [
    "def get_loop(pipe_map):\n",
    "    start = get_starting_point(pipe_map)\n",
    "    path = [start]\n",
    "    while path[-1] != start or len(path) < 2:\n",
    "        connecting_pipes = get_connecting_pipes(path[-1], pipe_map)\n",
    "        if len(path) < 2 or path[-2] == connecting_pipes[0]:\n",
    "            path.append(connecting_pipes[1])\n",
    "        else:\n",
    "            path.append(connecting_pipes[0])\n",
    "    return path"
   ]
  },
  {
   "cell_type": "code",
   "execution_count": 9,
   "id": "f5a44fbf-eeb8-4316-9033-b4469eb17f70",
   "metadata": {},
   "outputs": [],
   "source": [
    "def part1(schematics):\n",
    "    pipe_map = parse_map(schematics)\n",
    "    path = get_loop(pipe_map)\n",
    "    return len(path) // 2"
   ]
  },
  {
   "cell_type": "code",
   "execution_count": 10,
   "id": "2b3135eb-1cf2-403e-9662-ab6241d9963c",
   "metadata": {},
   "outputs": [
    {
     "data": {
      "text/plain": [
       "7063"
      ]
     },
     "execution_count": 10,
     "metadata": {},
     "output_type": "execute_result"
    }
   ],
   "source": [
    "part1(puzzle_input)"
   ]
  },
  {
   "cell_type": "code",
   "execution_count": 11,
   "id": "8768ecbc-9ed4-42ed-9f74-b568de445dbf",
   "metadata": {},
   "outputs": [],
   "source": [
    "def calc_shape(loc, pipe_map):\n",
    "    connected_locs = get_connecting_pipes(loc, pipe_map)\n",
    "    x, y = loc\n",
    "    north = (x, y - 1) in connected_locs\n",
    "    east = (x + 1, y) in connected_locs\n",
    "    south = (x, y + 1) in connected_locs\n",
    "    west = (x - 1, y) in connected_locs\n",
    "    if north and south:\n",
    "        return '|'\n",
    "    if north and east:\n",
    "        return 'L'\n",
    "    if north and west:\n",
    "        return 'J'\n",
    "    if east and west:\n",
    "        return '-'\n",
    "    if east and south:\n",
    "        return 'F'\n",
    "    if south and west:\n",
    "        return '7'\n",
    "    print(f'Unknown shape at {loc}')"
   ]
  },
  {
   "cell_type": "code",
   "execution_count": 12,
   "id": "0874313d-deb4-42d6-a462-f74552e154f1",
   "metadata": {},
   "outputs": [],
   "source": [
    "def part2(schematics, verbose = False):\n",
    "    pipe_map = parse_map(schematics)\n",
    "    path = get_loop(pipe_map)\n",
    "    prev_edge_tile = None\n",
    "    enclosing_count = 0\n",
    "    for y in range(len(schematics)):\n",
    "        inside = False\n",
    "        for x in range(len(schematics[y])):\n",
    "            loc = (x, y)\n",
    "            tile = schematics[y][x]\n",
    "            if tile == 'S':\n",
    "                tile = calc_shape(loc, pipe_map)\n",
    "            if loc in path:\n",
    "                # check pipe divides space vertically: | or L--7 or F--J (arbitrary amount of - tiles)\n",
    "                if tile == '|' or (prev_edge_tile == 'L' and tile == '7') or (prev_edge_tile == 'F' and tile == 'J'):\n",
    "                    inside = not inside\n",
    "                    prev_edge_tile = None\n",
    "                    if verbose: print(inside, loc)\n",
    "                if tile in 'LF':\n",
    "                    prev_edge_tile = tile\n",
    "                elif not tile == '-':\n",
    "                    prev_edge_tile = None\n",
    "            elif inside:\n",
    "                prev_edge_tile = None\n",
    "                enclosing_count += 1\n",
    "                if verbose: print(f'inside: {loc}')\n",
    "    return enclosing_count"
   ]
  },
  {
   "cell_type": "code",
   "execution_count": 13,
   "id": "e3a63599-7bef-4f8f-85d4-c9078d670216",
   "metadata": {
    "scrolled": true
   },
   "outputs": [
    {
     "name": "stdout",
     "output_type": "stream",
     "text": [
      "True (2, 1)\n",
      "False (3, 1)\n",
      "True (1, 2)\n",
      "inside: (2, 2)\n",
      "False (4, 2)\n",
      "True (0, 3)\n",
      "False (4, 3)\n"
     ]
    },
    {
     "data": {
      "text/plain": [
       "1"
      ]
     },
     "execution_count": 13,
     "metadata": {},
     "output_type": "execute_result"
    }
   ],
   "source": [
    "part2(test_input, verbose=True)"
   ]
  },
  {
   "cell_type": "code",
   "execution_count": 14,
   "id": "377cd408-a0df-4060-9aa3-258515e30415",
   "metadata": {},
   "outputs": [],
   "source": [
    "test_input2 = \"\"\"...........\n",
    ".S-------7.\n",
    ".|F-----7|.\n",
    ".||OOOOO||.\n",
    ".||OOOOO||.\n",
    ".|L-7OF-J|.\n",
    ".|II|O|II|.\n",
    ".L--JOL--J.\n",
    ".....O.....\"\"\".splitlines()"
   ]
  },
  {
   "cell_type": "code",
   "execution_count": 15,
   "id": "c8540499-ade4-4faf-9268-3d00fa22d500",
   "metadata": {},
   "outputs": [
    {
     "name": "stdout",
     "output_type": "stream",
     "text": [
      "True (1, 2)\n",
      "False (9, 2)\n",
      "True (1, 3)\n",
      "False (2, 3)\n",
      "True (8, 3)\n",
      "False (9, 3)\n",
      "True (1, 4)\n",
      "False (2, 4)\n",
      "True (8, 4)\n",
      "False (9, 4)\n",
      "True (1, 5)\n",
      "False (4, 5)\n",
      "True (8, 5)\n",
      "False (9, 5)\n",
      "True (1, 6)\n",
      "inside: (2, 6)\n",
      "inside: (3, 6)\n",
      "False (4, 6)\n",
      "True (6, 6)\n",
      "inside: (7, 6)\n",
      "inside: (8, 6)\n",
      "False (9, 6)\n"
     ]
    },
    {
     "data": {
      "text/plain": [
       "4"
      ]
     },
     "execution_count": 15,
     "metadata": {},
     "output_type": "execute_result"
    }
   ],
   "source": [
    "part2(test_input2, verbose=True)"
   ]
  },
  {
   "cell_type": "code",
   "execution_count": 16,
   "id": "26f6d03a-20ae-4adf-bcad-1d82ed0203b8",
   "metadata": {},
   "outputs": [
    {
     "data": {
      "text/plain": [
       "589"
      ]
     },
     "execution_count": 16,
     "metadata": {},
     "output_type": "execute_result"
    }
   ],
   "source": [
    "part2(puzzle_input)"
   ]
  },
  {
   "cell_type": "code",
   "execution_count": null,
   "id": "f953ac4f-f4b4-4e49-9e28-20e9c0fcbc3a",
   "metadata": {},
   "outputs": [],
   "source": []
  }
 ],
 "metadata": {
  "kernelspec": {
   "display_name": "Python 3 (ipykernel)",
   "language": "python",
   "name": "python3"
  },
  "language_info": {
   "codemirror_mode": {
    "name": "ipython",
    "version": 3
   },
   "file_extension": ".py",
   "mimetype": "text/x-python",
   "name": "python",
   "nbconvert_exporter": "python",
   "pygments_lexer": "ipython3",
   "version": "3.11.6"
  }
 },
 "nbformat": 4,
 "nbformat_minor": 5
}
