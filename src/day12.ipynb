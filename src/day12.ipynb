{
 "cells": [
  {
   "cell_type": "code",
   "execution_count": 1,
   "id": "5371a5fa-4832-47b9-be25-f033f28d5da8",
   "metadata": {},
   "outputs": [],
   "source": [
    "from ipynb.fs.defs.utils import read_lines"
   ]
  },
  {
   "cell_type": "code",
   "execution_count": 2,
   "id": "1c95ba00-be7c-4c51-bea2-8f7195ef562e",
   "metadata": {},
   "outputs": [],
   "source": [
    "import re"
   ]
  },
  {
   "cell_type": "code",
   "execution_count": 3,
   "id": "e15bf934-2751-4ac5-b729-81a52015e911",
   "metadata": {},
   "outputs": [],
   "source": [
    "puzzle_input = read_lines('day12.txt')"
   ]
  },
  {
   "cell_type": "code",
   "execution_count": 4,
   "id": "cfac668b-c931-49c6-952b-8cd89abf884c",
   "metadata": {},
   "outputs": [],
   "source": [
    "test_input = \"\"\"???.### 1,1,3\n",
    ".??..??...?##. 1,1,3\n",
    "?#?#?#?#?#?#?#? 1,3,1,6\n",
    "????.#...#... 4,1,1\n",
    "????.######..#####. 1,6,5\n",
    "?###???????? 3,2,1\"\"\".splitlines()"
   ]
  },
  {
   "cell_type": "code",
   "execution_count": 5,
   "id": "a72be764-2cf3-4d85-920b-b0f039b043b3",
   "metadata": {},
   "outputs": [],
   "source": [
    "OK = '.'\n",
    "NOK = '#'\n",
    "UNKNOWN = '?'"
   ]
  },
  {
   "cell_type": "code",
   "execution_count": 6,
   "id": "8961a078-2644-44b5-aeaa-f3a01f4f8f20",
   "metadata": {},
   "outputs": [],
   "source": [
    "def part1(inp):\n",
    "    records = parse_input(inp)\n",
    "    return sum([len(get_arrangements(rec[0], rec[1])) for rec in records])"
   ]
  },
  {
   "cell_type": "code",
   "execution_count": 7,
   "id": "0c0276b0-43be-4236-805a-a9783605fce9",
   "metadata": {},
   "outputs": [],
   "source": [
    "def parse_input(inp):\n",
    "    return [parse_record(rec) for rec in inp]"
   ]
  },
  {
   "cell_type": "code",
   "execution_count": 8,
   "id": "573ddf53-35de-49ed-a8ae-4439af8f4a4b",
   "metadata": {},
   "outputs": [],
   "source": [
    "def parse_record(record):\n",
    "    schema, groups = record.split(' ')\n",
    "    return (schema, tuple(map(int, groups.split(',')))) # using tuple because it's hashable contrary to list"
   ]
  },
  {
   "cell_type": "code",
   "execution_count": 9,
   "id": "99e18a5e-044a-4859-8f64-635dfa35fba6",
   "metadata": {},
   "outputs": [],
   "source": [
    "def get_arrangements(schema, groups):\n",
    "    # print(f'inp: {schema}, {groups}')\n",
    "    if len(groups) < 1:\n",
    "        if not NOK in schema:\n",
    "            print(f'found! leftover: {schema}')\n",
    "        return [] if NOK in schema else [OK*len(schema)]\n",
    "    options = []\n",
    "    group = groups[0]\n",
    "    last_idx_with_enough_space = len(schema) - sum(groups) + 1 \n",
    "    first_NOK = schema.find(NOK)\n",
    "    must_match_until = min(first_NOK + 1, last_idx_with_enough_space) if first_NOK >= 0 else last_idx_with_enough_space\n",
    "    for i in range(must_match_until):\n",
    "        #print(f'try {schema[i:i+group]}, groups {groups}')\n",
    "        if len(groups) == 1:\n",
    "            if valid_group(schema[i:i+group]) and not NOK in schema[i+group:]:\n",
    "                options.append(OK*i + NOK*group + OK*(len(schema) - i - group))\n",
    "        else:\n",
    "            if valid_group(schema[i:i+group]) and valid_separator(schema[i+group]):\n",
    "                #print(f'valid: {schema[i:i+group]}, {groups}, {i}')\n",
    "                option_start = OK*i + NOK*group + OK\n",
    "                options += [option_start + option_end for option_end in get_arrangements(schema[i+group+1:], groups[1:])]\n",
    "    #print(f'{schema}, {groups} ---> {options}')\n",
    "    return options"
   ]
  },
  {
   "cell_type": "code",
   "execution_count": 10,
   "id": "f6dcd0a6-35f6-4bf0-85a6-220e497b257d",
   "metadata": {},
   "outputs": [],
   "source": [
    "def valid_group(schema):\n",
    "    return not OK in schema"
   ]
  },
  {
   "cell_type": "code",
   "execution_count": 11,
   "id": "d769084e-f53b-4b3e-a9a2-8271017b0119",
   "metadata": {},
   "outputs": [],
   "source": [
    "def valid_separator(char):\n",
    "    return char != NOK"
   ]
  },
  {
   "cell_type": "code",
   "execution_count": 12,
   "id": "f1730fcb-a1dc-483a-bbdf-829e282e1fe5",
   "metadata": {},
   "outputs": [
    {
     "data": {
      "text/plain": [
       "['.###.##.#...',\n",
       " '.###.##..#..',\n",
       " '.###.##...#.',\n",
       " '.###.##....#',\n",
       " '.###..##.#..',\n",
       " '.###..##..#.',\n",
       " '.###..##...#',\n",
       " '.###...##.#.',\n",
       " '.###...##..#',\n",
       " '.###....##.#']"
      ]
     },
     "execution_count": 12,
     "metadata": {},
     "output_type": "execute_result"
    }
   ],
   "source": [
    "get_arrangements(*parse_record('?###???????? 3,2,1'))"
   ]
  },
  {
   "cell_type": "code",
   "execution_count": 13,
   "id": "1cc74181-44b9-4519-af51-c2147814adb8",
   "metadata": {},
   "outputs": [
    {
     "data": {
      "text/plain": [
       "['#..', '.#.', '..#']"
      ]
     },
     "execution_count": 13,
     "metadata": {},
     "output_type": "execute_result"
    }
   ],
   "source": [
    "get_arrangements(*parse_record('??? 1'))"
   ]
  },
  {
   "cell_type": "code",
   "execution_count": 14,
   "id": "cb77be52-a32f-49f9-93d0-3da95c31c6fd",
   "metadata": {},
   "outputs": [
    {
     "data": {
      "text/plain": [
       "7032"
      ]
     },
     "execution_count": 14,
     "metadata": {},
     "output_type": "execute_result"
    }
   ],
   "source": [
    "part1(puzzle_input)"
   ]
  },
  {
   "cell_type": "code",
   "execution_count": 15,
   "id": "f82a8f5e-4a2e-4660-b9d0-83a9ee32b5e2",
   "metadata": {},
   "outputs": [],
   "source": [
    "def part2(inp):\n",
    "    records = parse_input(inp)\n",
    "    expanded = [ ( UNKNOWN.join([rec[0]] * 5), rec[1] * 5 ) for rec in records]\n",
    "    return sum([count_arrangements(rec[0], rec[1]) for rec in expanded])"
   ]
  },
  {
   "cell_type": "code",
   "execution_count": 16,
   "id": "cebd5a4f-7771-4e30-ad0c-2830b6c03581",
   "metadata": {},
   "outputs": [],
   "source": [
    "cache = {}\n",
    "def count_arrangements(schema, groups):\n",
    "    if (schema, groups) in cache:\n",
    "        return cache[(schema, groups)]\n",
    "    options = 0\n",
    "    group = groups[0]\n",
    "    last_idx_with_enough_space = len(schema) - sum(groups) + 1 \n",
    "    first_NOK = schema.find(NOK)\n",
    "    must_match_until = min(first_NOK + 1, last_idx_with_enough_space) if first_NOK >= 0 else last_idx_with_enough_space\n",
    "    for i in range(must_match_until):\n",
    "        if len(groups) == 1:\n",
    "            if valid_group(schema[i:i+group]) and not NOK in schema[i+group:]:\n",
    "                options += 1\n",
    "        else:\n",
    "            if valid_group(schema[i:i+group]) and valid_separator(schema[i+group]):\n",
    "                options += count_arrangements(schema[i+group+1:], groups[1:])\n",
    "    #print(f'{schema}, {groups} ---> {options}')\n",
    "    cache[(schema, groups)] = options\n",
    "    return options"
   ]
  },
  {
   "cell_type": "code",
   "execution_count": 17,
   "id": "7c419a77-5c31-4fcd-8703-3a7a4dea9104",
   "metadata": {
    "scrolled": true
   },
   "outputs": [
    {
     "data": {
      "text/plain": [
       "1493340882140"
      ]
     },
     "execution_count": 17,
     "metadata": {},
     "output_type": "execute_result"
    }
   ],
   "source": [
    "part2(puzzle_input)"
   ]
  },
  {
   "cell_type": "code",
   "execution_count": 18,
   "id": "ad2af0c0-0557-4c6d-978d-5424d551751d",
   "metadata": {},
   "outputs": [
    {
     "data": {
      "text/plain": [
       "119962"
      ]
     },
     "execution_count": 18,
     "metadata": {},
     "output_type": "execute_result"
    }
   ],
   "source": [
    "len(cache)"
   ]
  },
  {
   "cell_type": "code",
   "execution_count": null,
   "id": "7ea24344-73f0-4e1a-a7a0-8b06fbaeeb7c",
   "metadata": {},
   "outputs": [],
   "source": []
  }
 ],
 "metadata": {
  "kernelspec": {
   "display_name": "Python 3 (ipykernel)",
   "language": "python",
   "name": "python3"
  },
  "language_info": {
   "codemirror_mode": {
    "name": "ipython",
    "version": 3
   },
   "file_extension": ".py",
   "mimetype": "text/x-python",
   "name": "python",
   "nbconvert_exporter": "python",
   "pygments_lexer": "ipython3",
   "version": "3.11.6"
  }
 },
 "nbformat": 4,
 "nbformat_minor": 5
}
