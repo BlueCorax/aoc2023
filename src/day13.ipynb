{
 "cells": [
  {
   "cell_type": "markdown",
   "id": "164b52d0-4129-4701-b89c-1f490dcf290c",
   "metadata": {},
   "source": [
    "# Day 13"
   ]
  },
  {
   "cell_type": "code",
   "execution_count": 1,
   "id": "88a89e89-dfb6-44d1-b6d7-9b4977421991",
   "metadata": {},
   "outputs": [],
   "source": [
    "with open('../data/day13.txt') as f:\n",
    "    puzzle_input = f.read()"
   ]
  },
  {
   "cell_type": "code",
   "execution_count": 2,
   "id": "7b79fbf1-c34c-4a4f-beaa-1e513f3ec225",
   "metadata": {},
   "outputs": [],
   "source": [
    "test_input = \"\"\"#.##..##.\n",
    "..#.##.#.\n",
    "##......#\n",
    "##......#\n",
    "..#.##.#.\n",
    "..##..##.\n",
    "#.#.##.#.\n",
    "\n",
    "#...##..#\n",
    "#....#..#\n",
    "..##..###\n",
    "#####.##.\n",
    "#####.##.\n",
    "..##..###\n",
    "#....#..#\"\"\""
   ]
  },
  {
   "cell_type": "code",
   "execution_count": 3,
   "id": "958dcabc-081d-4cf9-9f40-30ec5faf1036",
   "metadata": {},
   "outputs": [],
   "source": [
    "test_1 = ['...#.#.##.#.#....', '..###..##..###...', '#..##.#..#.##..##', '#.###.####.###.#.', '####..#..#..####.', '####.##..##.#####', '#..#.##..##.#..#.', '..####.#######..#', '......####......#', '...#........#...#', '...#........#...#']\n"
   ]
  },
  {
   "cell_type": "code",
   "execution_count": 4,
   "id": "beeb3bd3-1093-404a-b4fe-3eec6c24961a",
   "metadata": {},
   "outputs": [],
   "source": [
    "def parse_patterns(inp):\n",
    "    return [p.splitlines() for p in inp.split('\\n\\n')]"
   ]
  },
  {
   "cell_type": "code",
   "execution_count": 5,
   "id": "b42962b9-2741-4e5f-8874-a3750d8f5843",
   "metadata": {},
   "outputs": [
    {
     "data": {
      "text/plain": [
       "[['#.##..##.',\n",
       "  '..#.##.#.',\n",
       "  '##......#',\n",
       "  '##......#',\n",
       "  '..#.##.#.',\n",
       "  '..##..##.',\n",
       "  '#.#.##.#.'],\n",
       " ['#...##..#',\n",
       "  '#....#..#',\n",
       "  '..##..###',\n",
       "  '#####.##.',\n",
       "  '#####.##.',\n",
       "  '..##..###',\n",
       "  '#....#..#']]"
      ]
     },
     "execution_count": 5,
     "metadata": {},
     "output_type": "execute_result"
    }
   ],
   "source": [
    "parse_patterns(test_input)"
   ]
  },
  {
   "cell_type": "code",
   "execution_count": 6,
   "id": "8f3d88ae-f671-467d-98c3-d89ee427e5e6",
   "metadata": {},
   "outputs": [],
   "source": [
    "def get_pattern_value(pattern):\n",
    "    refl_row = get_reflection_row(pattern)\n",
    "    if refl_row:\n",
    "        return refl_row * 100\n",
    "    refl_col = get_reflection_column(pattern)\n",
    "    if refl_col :\n",
    "        return refl_col\n",
    "    print(f'No reflection found in pattern:')\n",
    "    print_pattern(pattern)\n",
    "    return 0"
   ]
  },
  {
   "cell_type": "code",
   "execution_count": 7,
   "id": "979132ed-ed7a-4f1b-9892-b8c8c46a268f",
   "metadata": {},
   "outputs": [],
   "source": [
    "def reflects(row, pattern):\n",
    "    for i in range(min(row, len(pattern) - row)):\n",
    "        if pattern[row + i] != pattern[row - i - 1]:\n",
    "            return False\n",
    "    return True"
   ]
  },
  {
   "cell_type": "code",
   "execution_count": 8,
   "id": "ca447ada-09ea-41f3-b11e-df6a3faed0f3",
   "metadata": {},
   "outputs": [],
   "source": [
    "def get_reflection_row(pattern):\n",
    "    for i in range(1, len(pattern)):\n",
    "        if reflects(i, pattern):\n",
    "            return i\n",
    "    return None"
   ]
  },
  {
   "cell_type": "code",
   "execution_count": 9,
   "id": "b8235e17-404b-407a-95e6-aea6d3ef4ed4",
   "metadata": {},
   "outputs": [],
   "source": [
    "def transpose(pattern):\n",
    "    return [''.join(row) for row in list(zip(*pattern))]"
   ]
  },
  {
   "cell_type": "code",
   "execution_count": 10,
   "id": "e197ec2c-003d-430d-9d50-4daf5feca160",
   "metadata": {},
   "outputs": [],
   "source": [
    "def get_reflection_column(pattern):\n",
    "    return get_reflection_row(transpose(pattern))"
   ]
  },
  {
   "cell_type": "code",
   "execution_count": 11,
   "id": "018ae7dc-962e-4402-87b9-7039604b6425",
   "metadata": {},
   "outputs": [],
   "source": [
    "def print_pattern(p):\n",
    "    print('\\n'.join(p))"
   ]
  },
  {
   "cell_type": "code",
   "execution_count": 12,
   "id": "ae3e65c9-d84d-46f0-ace5-cbfbf7d67075",
   "metadata": {},
   "outputs": [
    {
     "name": "stdout",
     "output_type": "stream",
     "text": [
      "...#.#.##.#.#....\n",
      "..###..##..###...\n",
      "#..##.#..#.##..##\n",
      "#.###.####.###.#.\n",
      "####..#..#..####.\n",
      "####.##..##.#####\n",
      "#..#.##..##.#..#.\n",
      "..####.#######..#\n",
      "......####......#\n",
      "...#........#...#\n",
      "...#........#...#\n"
     ]
    }
   ],
   "source": [
    "print_pattern(test_1)"
   ]
  },
  {
   "cell_type": "code",
   "execution_count": 13,
   "id": "c8a14d8e-b86e-46d3-9b61-c15ca6d143f0",
   "metadata": {},
   "outputs": [
    {
     "data": {
      "text/plain": [
       "True"
      ]
     },
     "execution_count": 13,
     "metadata": {},
     "output_type": "execute_result"
    }
   ],
   "source": [
    "reflects(10, test_1)"
   ]
  },
  {
   "cell_type": "code",
   "execution_count": 14,
   "id": "5aa4caf9-d3ca-40ac-8bfa-1dd5b2d94341",
   "metadata": {},
   "outputs": [
    {
     "data": {
      "text/plain": [
       "4"
      ]
     },
     "execution_count": 14,
     "metadata": {},
     "output_type": "execute_result"
    }
   ],
   "source": [
    "get_reflection_row(parse_patterns(test_input)[1])"
   ]
  },
  {
   "cell_type": "code",
   "execution_count": 15,
   "id": "daf71b22-def7-4458-b5c1-870b8d1ecef5",
   "metadata": {},
   "outputs": [
    {
     "data": {
      "text/plain": [
       "5"
      ]
     },
     "execution_count": 15,
     "metadata": {},
     "output_type": "execute_result"
    }
   ],
   "source": [
    "get_reflection_column(parse_patterns(test_input)[0])"
   ]
  },
  {
   "cell_type": "code",
   "execution_count": 16,
   "id": "13d86399-695f-4890-998b-9bae7c33d083",
   "metadata": {},
   "outputs": [],
   "source": [
    "def part1(inp):\n",
    "    patterns = parse_patterns(inp)\n",
    "    return sum([get_pattern_value(p) for p in patterns])"
   ]
  },
  {
   "cell_type": "code",
   "execution_count": 17,
   "id": "09681876-d06c-4211-86fc-6743a8b9ed11",
   "metadata": {},
   "outputs": [
    {
     "data": {
      "text/plain": [
       "405"
      ]
     },
     "execution_count": 17,
     "metadata": {},
     "output_type": "execute_result"
    }
   ],
   "source": [
    "part1(test_input)"
   ]
  },
  {
   "cell_type": "code",
   "execution_count": 18,
   "id": "b19dbe08-afeb-4a67-8ae9-0f52c6dd60f2",
   "metadata": {},
   "outputs": [
    {
     "data": {
      "text/plain": [
       "35360"
      ]
     },
     "execution_count": 18,
     "metadata": {},
     "output_type": "execute_result"
    }
   ],
   "source": [
    "part1(puzzle_input)"
   ]
  },
  {
   "cell_type": "code",
   "execution_count": 19,
   "id": "55d2f15a-3eeb-4e49-87fa-e86d28ebaa15",
   "metadata": {},
   "outputs": [],
   "source": [
    "def reflect_dist(row, pattern):\n",
    "    dist = 0\n",
    "    for i in range(min(row, len(pattern) - row)):\n",
    "        for l, r in zip(pattern[row + i], pattern[row - i - 1]):\n",
    "            if l != r:\n",
    "                dist += 1\n",
    "    return dist"
   ]
  },
  {
   "cell_type": "code",
   "execution_count": 20,
   "id": "8f18a059-3600-4591-846f-625606d52146",
   "metadata": {},
   "outputs": [],
   "source": [
    "def get_reflection_with_smudge_row(pattern):\n",
    "    for i in range(1, len(pattern)):\n",
    "        dist = reflect_dist(i, pattern)\n",
    "        if dist == 1:\n",
    "            return i\n",
    "    return None"
   ]
  },
  {
   "cell_type": "code",
   "execution_count": 21,
   "id": "fe4fc29e-294a-4dbf-aaa3-6cdf649460a9",
   "metadata": {},
   "outputs": [],
   "source": [
    "def get_reflection_with_smudge_col(pattern):\n",
    "    return get_reflection_with_smudge_row(transpose(pattern))"
   ]
  },
  {
   "cell_type": "code",
   "execution_count": 22,
   "id": "f6128f51-1dfb-41bf-8898-4499ef22fc49",
   "metadata": {},
   "outputs": [],
   "source": [
    "def get_pattern_value_smudge(pattern):\n",
    "    refl_row = get_reflection_with_smudge_row(pattern)\n",
    "    if refl_row:\n",
    "        return refl_row * 100\n",
    "    refl_col = get_reflection_with_smudge_col(pattern)\n",
    "    if refl_col :\n",
    "        return refl_col\n",
    "    print(f'No reflection found in pattern:')\n",
    "    print_pattern(pattern)\n",
    "    return 0"
   ]
  },
  {
   "cell_type": "code",
   "execution_count": 23,
   "id": "12c627be-acf3-45ab-8ee6-08a0a228f14a",
   "metadata": {},
   "outputs": [],
   "source": [
    "def part2(inp):\n",
    "    patterns = parse_patterns(inp)\n",
    "    return sum([get_pattern_value_smudge(p) for p in patterns])"
   ]
  },
  {
   "cell_type": "code",
   "execution_count": 24,
   "id": "aedff478-4faf-4f29-b8c8-02dc7df728f6",
   "metadata": {},
   "outputs": [
    {
     "data": {
      "text/plain": [
       "36755"
      ]
     },
     "execution_count": 24,
     "metadata": {},
     "output_type": "execute_result"
    }
   ],
   "source": [
    "part2(puzzle_input)"
   ]
  },
  {
   "cell_type": "code",
   "execution_count": null,
   "id": "3b6d6e6f-b490-460f-841e-49f981be1ebf",
   "metadata": {},
   "outputs": [],
   "source": []
  }
 ],
 "metadata": {
  "kernelspec": {
   "display_name": "Python 3 (ipykernel)",
   "language": "python",
   "name": "python3"
  },
  "language_info": {
   "codemirror_mode": {
    "name": "ipython",
    "version": 3
   },
   "file_extension": ".py",
   "mimetype": "text/x-python",
   "name": "python",
   "nbconvert_exporter": "python",
   "pygments_lexer": "ipython3",
   "version": "3.11.5"
  }
 },
 "nbformat": 4,
 "nbformat_minor": 5
}
