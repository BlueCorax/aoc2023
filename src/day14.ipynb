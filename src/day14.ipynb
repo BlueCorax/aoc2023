{
 "cells": [
  {
   "cell_type": "markdown",
   "id": "1990f179-b4e9-44b6-92ff-7eac36bede3c",
   "metadata": {},
   "source": [
    "# Day 14"
   ]
  },
  {
   "cell_type": "code",
   "execution_count": 1,
   "id": "f3ecdd82-ddf5-4a7a-8810-8225adf0b158",
   "metadata": {},
   "outputs": [],
   "source": [
    "from ipynb.fs.defs.utils import read_lines"
   ]
  },
  {
   "cell_type": "code",
   "execution_count": 2,
   "id": "85540400-2812-4016-a684-518a34292f32",
   "metadata": {},
   "outputs": [],
   "source": [
    "puzzle_input = read_lines('day14.txt')"
   ]
  },
  {
   "cell_type": "code",
   "execution_count": 3,
   "id": "f31d11e0-b2ac-44b2-9a4d-81c7cf8ce8e3",
   "metadata": {},
   "outputs": [],
   "source": [
    "test_input = \"\"\"O....#....\n",
    "O.OO#....#\n",
    ".....##...\n",
    "OO.#O....O\n",
    ".O.....O#.\n",
    "O.#..O.#.#\n",
    "..O..#O..O\n",
    ".......O..\n",
    "#....###..\n",
    "#OO..#....\"\"\".splitlines()"
   ]
  },
  {
   "cell_type": "code",
   "execution_count": 4,
   "id": "737bfd26-6302-4410-8904-da0302a55969",
   "metadata": {},
   "outputs": [],
   "source": [
    "def transpose(array):\n",
    "    return [''.join(row) for row in zip(*array)]"
   ]
  },
  {
   "cell_type": "code",
   "execution_count": 5,
   "id": "5ae3d242-c38f-439c-93e5-5020e835da33",
   "metadata": {},
   "outputs": [
    {
     "data": {
      "text/plain": [
       "['OO.O.O..##',\n",
       " '...OO....O',\n",
       " '.O...#O..O',\n",
       " '.O.#......',\n",
       " '.#.O......',\n",
       " '#.#..O#.##',\n",
       " '..#...O.#.',\n",
       " '....O#.O#.',\n",
       " '....#.....',\n",
       " '.#.O.#O...']"
      ]
     },
     "execution_count": 5,
     "metadata": {},
     "output_type": "execute_result"
    }
   ],
   "source": [
    "transpose(test_input)"
   ]
  },
  {
   "cell_type": "code",
   "execution_count": 6,
   "id": "a4e01797-c51a-48a4-982e-4a012f3c0bc8",
   "metadata": {},
   "outputs": [],
   "source": [
    "CUBE = '#'\n",
    "ROUND = 'O'"
   ]
  },
  {
   "cell_type": "code",
   "execution_count": 7,
   "id": "ac34a59b-e034-4834-b486-d3321e0ea04c",
   "metadata": {},
   "outputs": [],
   "source": [
    "def column_load(col):\n",
    "    weight = 0\n",
    "    last_cube = len(col)\n",
    "    for i in range(len(col)):\n",
    "        if(col[i] == ROUND):\n",
    "            weight += last_cube\n",
    "            last_cube -= 1\n",
    "        elif(col[i] == CUBE):\n",
    "            last_cube = len(col) - i - 1\n",
    "    return weight"
   ]
  },
  {
   "cell_type": "code",
   "execution_count": 8,
   "id": "1f325be4-fbd6-4f5d-84f2-4cf213b04512",
   "metadata": {},
   "outputs": [
    {
     "data": {
      "text/plain": [
       "34"
      ]
     },
     "execution_count": 8,
     "metadata": {},
     "output_type": "execute_result"
    }
   ],
   "source": [
    "column_load(transpose(test_input)[0])"
   ]
  },
  {
   "cell_type": "code",
   "execution_count": 9,
   "id": "24d6c865-27af-481e-97f7-220d38e18b54",
   "metadata": {},
   "outputs": [],
   "source": [
    "def part1(inp):\n",
    "    return sum([column_load(col) for col in transpose(inp)])"
   ]
  },
  {
   "cell_type": "code",
   "execution_count": 10,
   "id": "7948f9fc-6bdf-4dc0-90e0-8113097b63af",
   "metadata": {},
   "outputs": [
    {
     "data": {
      "text/plain": [
       "105784"
      ]
     },
     "execution_count": 10,
     "metadata": {},
     "output_type": "execute_result"
    }
   ],
   "source": [
    "part1(puzzle_input)"
   ]
  },
  {
   "cell_type": "code",
   "execution_count": 11,
   "id": "273f5b1a-de84-4dd8-8d31-d1a795be53d2",
   "metadata": {},
   "outputs": [],
   "source": [
    "def tilt_col(col):\n",
    "    new_col = ['.' for _ in range(len(col))]\n",
    "    last_cube = 0\n",
    "    for i in range(len(col)):\n",
    "        if(col[i] == ROUND):\n",
    "            new_col[last_cube] = ROUND\n",
    "            last_cube += 1\n",
    "        elif(col[i] == CUBE):\n",
    "            new_col[i] = CUBE\n",
    "            last_cube = i + 1\n",
    "    return ''.join(new_col)"
   ]
  },
  {
   "cell_type": "code",
   "execution_count": 12,
   "id": "a0e81cf3-aa9e-4a8a-9991-f7a6198e032d",
   "metadata": {},
   "outputs": [
    {
     "data": {
      "text/plain": [
       "'O....#O.#.'"
      ]
     },
     "execution_count": 12,
     "metadata": {},
     "output_type": "execute_result"
    }
   ],
   "source": [
    "tilt_col('....O#.O#.')"
   ]
  },
  {
   "cell_type": "code",
   "execution_count": 13,
   "id": "a240ecff-0bbd-4768-9e13-7ef4a5957946",
   "metadata": {},
   "outputs": [],
   "source": [
    "def tilt_west(platform):\n",
    "    return [tilt_col(col) for col in platform]"
   ]
  },
  {
   "cell_type": "code",
   "execution_count": 14,
   "id": "a93696f4-e0da-44c7-9f49-17c380e245d9",
   "metadata": {},
   "outputs": [
    {
     "data": {
      "text/plain": [
       "['O....#....',\n",
       " 'O.OO#....#',\n",
       " '.....##...',\n",
       " 'OO.#O....O',\n",
       " '.O.....O#.',\n",
       " 'O.#..O.#.#',\n",
       " '..O..#O..O',\n",
       " '.......O..',\n",
       " '#....###..',\n",
       " '#OO..#....']"
      ]
     },
     "execution_count": 14,
     "metadata": {},
     "output_type": "execute_result"
    }
   ],
   "source": [
    "test_input"
   ]
  },
  {
   "cell_type": "code",
   "execution_count": 15,
   "id": "f992cc12-4767-40d2-bdc2-3ee1b8814479",
   "metadata": {},
   "outputs": [
    {
     "data": {
      "text/plain": [
       "['O....#....',\n",
       " 'OOO.#....#',\n",
       " '.....##...',\n",
       " 'OO.#OO....',\n",
       " 'OO......#.',\n",
       " 'O.#O...#.#',\n",
       " 'O....#OO..',\n",
       " 'O.........',\n",
       " '#....###..',\n",
       " '#OO..#....']"
      ]
     },
     "execution_count": 15,
     "metadata": {},
     "output_type": "execute_result"
    }
   ],
   "source": [
    "tilt_west(test_input)"
   ]
  },
  {
   "cell_type": "code",
   "execution_count": 16,
   "id": "9b34d921-23e0-4ca6-98ed-6a9669e5c20f",
   "metadata": {},
   "outputs": [],
   "source": [
    "def rotate_left(platform):\n",
    "    return transpose(platform)[::-1]"
   ]
  },
  {
   "cell_type": "code",
   "execution_count": 17,
   "id": "dc174c2a-ab19-400d-bdf0-4c27541ef695",
   "metadata": {},
   "outputs": [
    {
     "data": {
      "text/plain": [
       "['.#.O.#O...',\n",
       " '....#.....',\n",
       " '....O#.O#.',\n",
       " '..#...O.#.',\n",
       " '#.#..O#.##',\n",
       " '.#.O......',\n",
       " '.O.#......',\n",
       " '.O...#O..O',\n",
       " '...OO....O',\n",
       " 'OO.O.O..##']"
      ]
     },
     "execution_count": 17,
     "metadata": {},
     "output_type": "execute_result"
    }
   ],
   "source": [
    "rotate_left(test_input)"
   ]
  },
  {
   "cell_type": "code",
   "execution_count": 18,
   "id": "c9e0f18a-fa23-42fe-9dfc-763ec5d2908e",
   "metadata": {},
   "outputs": [],
   "source": [
    "def rotate_right(platform):\n",
    "    return transpose(platform[::-1])"
   ]
  },
  {
   "cell_type": "code",
   "execution_count": 19,
   "id": "40c782ed-fefb-4122-b451-6c874a385aef",
   "metadata": {},
   "outputs": [
    {
     "data": {
      "text/plain": [
       "['##..O.O.OO',\n",
       " 'O....OO...',\n",
       " 'O..O#...O.',\n",
       " '......#.O.',\n",
       " '......O.#.',\n",
       " '##.#O..#.#',\n",
       " '.#.O...#..',\n",
       " '.#O.#O....',\n",
       " '.....#....',\n",
       " '...O#.O.#.']"
      ]
     },
     "execution_count": 19,
     "metadata": {},
     "output_type": "execute_result"
    }
   ],
   "source": [
    "rotate_right(test_input)"
   ]
  },
  {
   "cell_type": "code",
   "execution_count": 20,
   "id": "72a6c532-442f-47d0-812b-96725bea058d",
   "metadata": {},
   "outputs": [],
   "source": [
    "def to_hashable(platform):\n",
    "    return '\\n'.join(platform)"
   ]
  },
  {
   "cell_type": "code",
   "execution_count": 21,
   "id": "798dfd5c-3bed-405d-902c-d59481277143",
   "metadata": {},
   "outputs": [],
   "source": [
    "cache = {}\n",
    "def spin(platform):\n",
    "    platform_id = to_hashable(platform)\n",
    "    if platform_id in cache:\n",
    "        return cache[platform_id]\n",
    "    new_platform = rotate_left(platform)\n",
    "    for _ in range(4):\n",
    "        new_platform = tilt_west(new_platform)\n",
    "        new_platform = rotate_right(new_platform)\n",
    "    new_platform = rotate_right(new_platform)\n",
    "    cache[platform_id] = new_platform\n",
    "    return new_platform"
   ]
  },
  {
   "cell_type": "code",
   "execution_count": 22,
   "id": "6e92f415-fc16-4ca8-8739-86ed472c93f2",
   "metadata": {},
   "outputs": [
    {
     "data": {
      "text/plain": [
       "['.....#....',\n",
       " '....#...O#',\n",
       " '...OO##...',\n",
       " '.OO#......',\n",
       " '.....OOO#.',\n",
       " '.O#...O#.#',\n",
       " '....O#....',\n",
       " '......OOOO',\n",
       " '#...O###..',\n",
       " '#..OO#....']"
      ]
     },
     "execution_count": 22,
     "metadata": {},
     "output_type": "execute_result"
    }
   ],
   "source": [
    "spin(test_input)"
   ]
  },
  {
   "cell_type": "code",
   "execution_count": 23,
   "id": "700c63c2-90b8-4372-9a96-3c9f027045db",
   "metadata": {},
   "outputs": [
    {
     "data": {
      "text/plain": [
       "['O....#....',\n",
       " 'O.OO#....#',\n",
       " '.....##...',\n",
       " 'OO.#O....O',\n",
       " '.O.....O#.',\n",
       " 'O.#..O.#.#',\n",
       " '..O..#O..O',\n",
       " '.......O..',\n",
       " '#....###..',\n",
       " '#OO..#....']"
      ]
     },
     "execution_count": 23,
     "metadata": {},
     "output_type": "execute_result"
    }
   ],
   "source": [
    "test_input"
   ]
  },
  {
   "cell_type": "code",
   "execution_count": 24,
   "id": "49041ae2-aa5d-4361-982e-b4b5ab7a54a3",
   "metadata": {},
   "outputs": [],
   "source": [
    "def platform_load(platform):\n",
    "    return sum([row.count(ROUND) * (weight + 1) for weight, row in enumerate(platform[::-1])])"
   ]
  },
  {
   "cell_type": "code",
   "execution_count": 25,
   "id": "3888389d-ffde-4cd6-ac61-09f47270b2be",
   "metadata": {},
   "outputs": [
    {
     "data": {
      "text/plain": [
       "9"
      ]
     },
     "execution_count": 25,
     "metadata": {},
     "output_type": "execute_result"
    }
   ],
   "source": [
    "platform_load(test_input[:3])"
   ]
  },
  {
   "cell_type": "code",
   "execution_count": 26,
   "id": "51498700-150a-4041-a95b-acb0669dfdef",
   "metadata": {},
   "outputs": [],
   "source": [
    "def calc_left(iteration, seen_idx, total_iterations):\n",
    "    print(iteration, seen_idx, total_iterations)\n",
    "    return (total_iterations - iteration - 1) % (iteration - seen_idx)"
   ]
  },
  {
   "cell_type": "code",
   "execution_count": 27,
   "id": "bf298985-a4b5-4ebb-8ad5-4ef498b84f6b",
   "metadata": {},
   "outputs": [
    {
     "name": "stdout",
     "output_type": "stream",
     "text": [
      "5 3 11\n"
     ]
    },
    {
     "data": {
      "text/plain": [
       "1"
      ]
     },
     "execution_count": 27,
     "metadata": {},
     "output_type": "execute_result"
    }
   ],
   "source": [
    "calc_left(5, 3, 11)"
   ]
  },
  {
   "cell_type": "code",
   "execution_count": 28,
   "id": "b5cfa87e-6b2e-496f-a1c8-4ba6c017873b",
   "metadata": {},
   "outputs": [
    {
     "name": "stdout",
     "output_type": "stream",
     "text": [
      "118 109 1000000000\n"
     ]
    },
    {
     "data": {
      "text/plain": [
       "8"
      ]
     },
     "execution_count": 28,
     "metadata": {},
     "output_type": "execute_result"
    }
   ],
   "source": [
    "calc_left(118, 109, 1000000000)"
   ]
  },
  {
   "cell_type": "code",
   "execution_count": 29,
   "id": "cad082b2-3c27-4de1-9a9c-d9898ff4edf4",
   "metadata": {},
   "outputs": [],
   "source": [
    "CYCLES = 1000000000\n",
    "def part2(inp):\n",
    "    platform = inp\n",
    "    last_results = []\n",
    "    for i in range(CYCLES):\n",
    "        platform = spin(platform)\n",
    "        id = to_hashable(platform)\n",
    "        if id in last_results:\n",
    "            break\n",
    "        last_results.append(id)\n",
    "    leftover_it = calc_left(i, last_results.index(id), CYCLES)\n",
    "    print(f'leftover: {leftover_it}') \n",
    "    for j in range(leftover_it):\n",
    "        print(j, platform_load(platform))\n",
    "        platform = spin(platform)\n",
    "    return platform_load(platform)"
   ]
  },
  {
   "cell_type": "code",
   "execution_count": 30,
   "id": "47601c28-c76f-409d-be2b-9e7f21aab0da",
   "metadata": {},
   "outputs": [
    {
     "name": "stdout",
     "output_type": "stream",
     "text": [
      "9 2 1000000000\n",
      "leftover: 3\n",
      "0 69\n",
      "1 69\n",
      "2 65\n"
     ]
    },
    {
     "data": {
      "text/plain": [
       "64"
      ]
     },
     "execution_count": 30,
     "metadata": {},
     "output_type": "execute_result"
    }
   ],
   "source": [
    "part2(test_input)"
   ]
  },
  {
   "cell_type": "code",
   "execution_count": 31,
   "id": "c72a272e-43de-4802-a485-e1a970d97277",
   "metadata": {},
   "outputs": [
    {
     "name": "stdout",
     "output_type": "stream",
     "text": [
      "118 109 1000000000\n",
      "leftover: 8\n",
      "0 91270\n",
      "1 91278\n",
      "2 91295\n",
      "3 91317\n",
      "4 91333\n",
      "5 91332\n",
      "6 91320\n",
      "7 91306\n"
     ]
    },
    {
     "data": {
      "text/plain": [
       "91286"
      ]
     },
     "execution_count": 31,
     "metadata": {},
     "output_type": "execute_result"
    }
   ],
   "source": [
    "part2(puzzle_input)"
   ]
  },
  {
   "cell_type": "code",
   "execution_count": 32,
   "id": "8611964a-12fc-45fa-8af2-f9d481150483",
   "metadata": {},
   "outputs": [
    {
     "data": {
      "text/plain": [
       "129"
      ]
     },
     "execution_count": 32,
     "metadata": {},
     "output_type": "execute_result"
    }
   ],
   "source": [
    "len(cache)"
   ]
  },
  {
   "cell_type": "code",
   "execution_count": null,
   "id": "0e1aeefc-2c03-4aac-86de-ae8754791365",
   "metadata": {},
   "outputs": [],
   "source": []
  }
 ],
 "metadata": {
  "kernelspec": {
   "display_name": "Python 3 (ipykernel)",
   "language": "python",
   "name": "python3"
  },
  "language_info": {
   "codemirror_mode": {
    "name": "ipython",
    "version": 3
   },
   "file_extension": ".py",
   "mimetype": "text/x-python",
   "name": "python",
   "nbconvert_exporter": "python",
   "pygments_lexer": "ipython3",
   "version": "3.11.5"
  }
 },
 "nbformat": 4,
 "nbformat_minor": 5
}
