{
 "cells": [
  {
   "cell_type": "markdown",
   "id": "65237a37-678a-4a4a-ab80-5c3a9b1d28b7",
   "metadata": {},
   "source": [
    "# Day 15"
   ]
  },
  {
   "cell_type": "code",
   "execution_count": 1,
   "id": "1ebfe6c5-3293-401b-b3ba-2001c734c74c",
   "metadata": {},
   "outputs": [],
   "source": [
    "from ipynb.fs.defs.utils import read_lines\n",
    "puzzle_input = read_lines('day15.txt')[0]"
   ]
  },
  {
   "cell_type": "code",
   "execution_count": 2,
   "id": "3aae2e20-f823-410f-b905-fea72f391690",
   "metadata": {},
   "outputs": [
    {
     "data": {
      "text/plain": [
       "22785"
      ]
     },
     "execution_count": 2,
     "metadata": {},
     "output_type": "execute_result"
    }
   ],
   "source": [
    "len(puzzle_input)"
   ]
  },
  {
   "cell_type": "code",
   "execution_count": 3,
   "id": "3cfcba19-5606-413e-9a89-d4189d28037d",
   "metadata": {},
   "outputs": [],
   "source": [
    "test_input = \"rn=1,cm-,qp=3,cm=2,qp-,pc=4,ot=9,ab=5,pc-,pc=6,ot=7\""
   ]
  },
  {
   "cell_type": "code",
   "execution_count": 4,
   "id": "bc10d522-e0e3-4011-abc0-a6f1e99825ad",
   "metadata": {},
   "outputs": [],
   "source": [
    "def hash(string, mult = 17, mod = 256):\n",
    "    value = 0\n",
    "    for c in string:\n",
    "        value = ((value + ord(c)) * mult) % mod\n",
    "    return value"
   ]
  },
  {
   "cell_type": "code",
   "execution_count": 5,
   "id": "08a9f7ed-41dc-45bb-a844-7d189300749d",
   "metadata": {},
   "outputs": [
    {
     "data": {
      "text/plain": [
       "52"
      ]
     },
     "execution_count": 5,
     "metadata": {},
     "output_type": "execute_result"
    }
   ],
   "source": [
    "hash('HASH')"
   ]
  },
  {
   "cell_type": "code",
   "execution_count": 6,
   "id": "72407508-efec-4437-84d8-0c5424ecf66d",
   "metadata": {},
   "outputs": [],
   "source": [
    "def parse_seq(string):\n",
    "    string = string.replace('\\n','')\n",
    "    return string.split(',')"
   ]
  },
  {
   "cell_type": "code",
   "execution_count": 7,
   "id": "0645b8b2-fe0b-4e2a-8710-b46227598b69",
   "metadata": {},
   "outputs": [
    {
     "data": {
      "text/plain": [
       "['rn=1',\n",
       " 'cm-',\n",
       " 'qp=3',\n",
       " 'cm=2',\n",
       " 'qp-',\n",
       " 'pc=4',\n",
       " 'ot=9',\n",
       " 'ab=5',\n",
       " 'pc-',\n",
       " 'pc=6',\n",
       " 'ot=7']"
      ]
     },
     "execution_count": 7,
     "metadata": {},
     "output_type": "execute_result"
    }
   ],
   "source": [
    "parse_seq(test_input)"
   ]
  },
  {
   "cell_type": "code",
   "execution_count": 8,
   "id": "2f7766e7-ec53-431f-a989-d75da49f9493",
   "metadata": {},
   "outputs": [],
   "source": [
    "def part1(string):\n",
    "    instr = parse_seq(string)\n",
    "    return sum([hash(i) for i in instr])"
   ]
  },
  {
   "cell_type": "code",
   "execution_count": 9,
   "id": "604ceb3e-58f8-4f8a-b952-7db68a6bd5b3",
   "metadata": {},
   "outputs": [
    {
     "data": {
      "text/plain": [
       "1320"
      ]
     },
     "execution_count": 9,
     "metadata": {},
     "output_type": "execute_result"
    }
   ],
   "source": [
    "part1(test_input)"
   ]
  },
  {
   "cell_type": "code",
   "execution_count": 10,
   "id": "e58e9a87-7f20-483c-8ddc-4b711043b08c",
   "metadata": {},
   "outputs": [
    {
     "data": {
      "text/plain": [
       "504036"
      ]
     },
     "execution_count": 10,
     "metadata": {},
     "output_type": "execute_result"
    }
   ],
   "source": [
    "part1(puzzle_input)"
   ]
  },
  {
   "cell_type": "code",
   "execution_count": 11,
   "id": "54d4725d-e6d3-47bf-99f1-169b56bb9ff3",
   "metadata": {},
   "outputs": [
    {
     "data": {
      "text/plain": [
       "[1, 2, 3, 4, 5, 6, 7, 8, 9]"
      ]
     },
     "execution_count": 11,
     "metadata": {},
     "output_type": "execute_result"
    }
   ],
   "source": [
    "FOCAL_LENGTHS = [i for i in range(1, 10)]\n",
    "FOCAL_LENGTHS"
   ]
  },
  {
   "cell_type": "code",
   "execution_count": 12,
   "id": "5e41ea6c-a974-4150-8b24-9113f1898ae6",
   "metadata": {},
   "outputs": [],
   "source": [
    "def parse_instr(instr):\n",
    "    if '=' in instr:\n",
    "        label, focal_length = instr.split('=')\n",
    "        return hash(label), label, '=', int(focal_length)\n",
    "    if '-' in instr:\n",
    "        label = instr[:-1]\n",
    "        return hash(label), label, '-', None\n",
    "    parse(f'Unable to parse {instr}')"
   ]
  },
  {
   "cell_type": "code",
   "execution_count": 13,
   "id": "121b5b56-10d2-447c-b98a-45a882a4e53f",
   "metadata": {},
   "outputs": [],
   "source": [
    "def dash(box, lense, boxes):\n",
    "    if lense in boxes[box]:\n",
    "        del boxes[box][lense]\n",
    "    return boxes"
   ]
  },
  {
   "cell_type": "code",
   "execution_count": 14,
   "id": "e3be1246-bc82-4faa-ae2e-8d6ba04306a8",
   "metadata": {},
   "outputs": [],
   "source": [
    "def assign(box, lense, focal_length, boxes):\n",
    "    boxes[box][lense] = focal_length\n",
    "    return boxes"
   ]
  },
  {
   "cell_type": "code",
   "execution_count": 15,
   "id": "050b0e70-5e04-4e76-b700-13da8840fb1f",
   "metadata": {},
   "outputs": [],
   "source": [
    "def foc_power(boxes):\n",
    "    foc_sum = 0\n",
    "    for i in range(len(boxes)):\n",
    "        pow = 0\n",
    "        for j, k in enumerate(boxes[i]):\n",
    "            pow += (i + 1) * (j+1) * boxes[i][k]\n",
    "        if len(boxes[i]) > 0: print(f'{i+1}: {boxes[i]} power {pow}')\n",
    "        foc_sum += pow\n",
    "    return foc_sum"
   ]
  },
  {
   "cell_type": "code",
   "execution_count": 16,
   "id": "0907d4ec-a238-466c-a51e-3160dd79597c",
   "metadata": {},
   "outputs": [],
   "source": [
    "def part2(string):\n",
    "    boxes = [{} for _ in range(256)]\n",
    "    seq = parse_seq(string)\n",
    "    for instr in seq:\n",
    "        box, label, op, focal = parse_instr(instr)\n",
    "        if(op == '-'):\n",
    "            boxes = dash(box, label, boxes)\n",
    "        elif(op == '='):\n",
    "            boxes = assign(box, label, focal, boxes)\n",
    "    return foc_power(boxes)"
   ]
  },
  {
   "cell_type": "code",
   "execution_count": 17,
   "id": "5c1974d2-a038-44ca-8fb5-e18e39f923b6",
   "metadata": {},
   "outputs": [
    {
     "name": "stdout",
     "output_type": "stream",
     "text": [
      "1: {'rn': 1, 'cm': 2} power 5\n",
      "4: {'ot': 7, 'ab': 5, 'pc': 6} power 140\n"
     ]
    },
    {
     "data": {
      "text/plain": [
       "145"
      ]
     },
     "execution_count": 17,
     "metadata": {},
     "output_type": "execute_result"
    }
   ],
   "source": [
    "part2(test_input)"
   ]
  },
  {
   "cell_type": "code",
   "execution_count": 18,
   "id": "01bc3fc5-5772-49d4-9eee-87fd684a999a",
   "metadata": {},
   "outputs": [
    {
     "name": "stdout",
     "output_type": "stream",
     "text": [
      "1: {'zkknr': 2} power 2\n",
      "4: {'srn': 9, 'pc': 1} power 44\n",
      "5: {'phl': 5} power 25\n",
      "9: {'km': 4} power 36\n",
      "12: {'hs': 5} power 60\n",
      "15: {'tvd': 1} power 15\n",
      "16: {'tk': 7, 'zxm': 1} power 144\n",
      "17: {'svg': 8, 'dl': 9, 'ltp': 5, 'fbh': 6} power 1105\n",
      "18: {'dsz': 3} power 54\n",
      "19: {'zqsd': 1, 'lrt': 4} power 171\n",
      "20: {'fgdr': 9} power 180\n",
      "21: {'kcv': 6} power 126\n",
      "24: {'vmcq': 3, 'jcj': 3, 'rcb': 3} power 432\n",
      "26: {'htm': 3} power 78\n",
      "28: {'pch': 7} power 196\n",
      "29: {'ht': 1} power 29\n",
      "30: {'hprc': 2} power 60\n",
      "31: {'mdzc': 5} power 155\n",
      "32: {'xrlqx': 9, 'vrg': 6} power 672\n",
      "34: {'pmd': 7, 'sn': 8, 'dm': 6, 'qjv': 9, 'vpk': 7} power 3808\n",
      "35: {'rp': 7} power 245\n",
      "36: {'mbd': 9, 'qbms': 3, 'bq': 7} power 1296\n",
      "37: {'bb': 4, 'mfnkh': 1} power 222\n",
      "38: {'rxkp': 7} power 266\n",
      "39: {'xvx': 7} power 273\n",
      "40: {'mvgfg': 4, 'mz': 6} power 640\n",
      "41: {'mtkbz': 5} power 205\n",
      "44: {'bnzq': 1, 'tkl': 2} power 220\n",
      "45: {'jb': 3} power 135\n",
      "49: {'fdf': 6, 'fj': 8, 'ntbjb': 6, 'fvjj': 4, 'hpph': 5} power 3969\n",
      "51: {'xhblcq': 3, 'msb': 1} power 255\n",
      "52: {'qjh': 9} power 468\n",
      "53: {'qkkm': 6} power 318\n",
      "56: {'kmcgcr': 1, 'nhgz': 3, 'tgsdsb': 4} power 1064\n",
      "57: {'jgts': 7} power 399\n",
      "60: {'hgxd': 7, 'cbbt': 3} power 780\n",
      "61: {'zb': 7} power 427\n",
      "62: {'jc': 9} power 558\n",
      "63: {'hv': 9} power 567\n",
      "64: {'hg': 9, 'pxhkd': 5} power 1216\n",
      "65: {'jjhd': 1} power 65\n",
      "66: {'gpz': 9} power 594\n",
      "68: {'sp': 2} power 136\n",
      "69: {'rr': 4} power 276\n",
      "70: {'cb': 2, 'bs': 6} power 980\n",
      "72: {'dzrg': 3} power 216\n",
      "74: {'kqm': 3, 'sbd': 8} power 1406\n",
      "76: {'hkbf': 4} power 304\n",
      "77: {'qqz': 7} power 539\n",
      "80: {'rqbz': 4, 'nfk': 2} power 640\n",
      "81: {'hh': 9} power 729\n",
      "83: {'pnfmgj': 8, 'fl': 5, 'xnl': 5} power 2739\n",
      "85: {'nbd': 5} power 425\n",
      "86: {'sb': 6, 'cr': 8, 'jhs': 9, 'rs': 7} power 6622\n",
      "87: {'mqh': 5, 'rd': 3} power 957\n",
      "88: {'mljpt': 5} power 440\n",
      "91: {'rrv': 6} power 546\n",
      "92: {'kvtcc': 8, 'mn': 5, 'qdjff': 5} power 3036\n",
      "93: {'qnjfm': 5} power 465\n",
      "94: {'hrrmd': 1, 'kr': 4} power 846\n",
      "95: {'fhp': 9} power 855\n",
      "97: {'hx': 5} power 485\n",
      "100: {'dhg': 9} power 900\n",
      "101: {'tp': 3} power 303\n",
      "102: {'fptk': 8} power 816\n",
      "103: {'sc': 8, 'rt': 7} power 2266\n",
      "104: {'kfhn': 6} power 624\n",
      "105: {'bf': 1, 'jrqk': 3, 'px': 3, 'rfbn': 9} power 5460\n",
      "106: {'bfq': 6, 'cdr': 5} power 1696\n",
      "108: {'cbv': 6} power 648\n",
      "110: {'ztgx': 2, 'qdh': 6} power 1540\n",
      "112: {'kd': 9, 'pdk': 8} power 2800\n",
      "113: {'vvd': 6} power 678\n",
      "115: {'xpj': 2, 'hj': 3} power 920\n",
      "116: {'vm': 4, 'gl': 6} power 1856\n",
      "117: {'gql': 8, 'ktqgm': 9} power 3042\n",
      "119: {'fbn': 2, 'dr': 2} power 714\n",
      "120: {'dc': 9, 'xlc': 5} power 2280\n",
      "121: {'tnsmf': 6, 'lrz': 3, 'jhf': 3, 'rf': 8} power 6413\n",
      "122: {'qh': 7} power 854\n",
      "123: {'ksl': 4} power 492\n",
      "124: {'qvd': 7} power 868\n",
      "125: {'vkk': 4} power 500\n",
      "128: {'pmlhn': 9, 'lc': 6} power 2688\n",
      "130: {'mnmshn': 7} power 910\n",
      "131: {'stldk': 5} power 655\n",
      "133: {'gm': 7, 'klpm': 4} power 1995\n",
      "136: {'ds': 1} power 136\n",
      "137: {'rv': 9, 'fnqkh': 7} power 3151\n",
      "138: {'qx': 9, 'cf': 2, 'sndpd': 6} power 4278\n",
      "139: {'bh': 2} power 278\n",
      "140: {'vmh': 2, 'pk': 5} power 1680\n",
      "143: {'mq': 9} power 1287\n",
      "144: {'qcrvs': 8} power 1152\n",
      "145: {'zv': 2} power 290\n",
      "147: {'nscnp': 7} power 1029\n",
      "148: {'clt': 9, 'lkbj': 2} power 1924\n",
      "149: {'hl': 5} power 745\n",
      "150: {'czh': 5, 'mfr': 4, 'qvxv': 7, 'pkdf': 6, 'gn': 3} power 10950\n",
      "151: {'fp': 7} power 1057\n",
      "153: {'hnb': 1, 'qkl': 4, 'td': 9, 'cncd': 9} power 11016\n",
      "154: {'fps': 3} power 462\n",
      "157: {'gpmx': 8, 'fgdk': 7} power 3454\n",
      "159: {'bdx': 2, 'kthg': 5} power 1908\n",
      "161: {'njh': 4, 'mc': 3} power 1610\n",
      "162: {'kv': 2} power 324\n",
      "163: {'jx': 7, 'vrrqpg': 1} power 1467\n",
      "164: {'pcp': 2} power 328\n",
      "165: {'dqclp': 3, 'xl': 1} power 825\n",
      "166: {'hm': 2, 'rbpq': 6} power 2324\n",
      "167: {'kjq': 4} power 668\n",
      "168: {'dsqgh': 2, 'nsf': 4} power 1680\n",
      "169: {'kvjm': 3, 'lkmt': 1, 'tt': 4} power 2873\n",
      "170: {'hmbhhr': 1, 'xmd': 5} power 1870\n",
      "171: {'df': 9, 'hsblgj': 8, 'xlf': 6} power 7353\n",
      "172: {'zgj': 9} power 1548\n",
      "173: {'qk': 6} power 1038\n",
      "174: {'pm': 7, 'fszj': 5} power 2958\n",
      "175: {'sqz': 8} power 1400\n",
      "178: {'lmx': 9, 'nlmj': 7} power 4094\n",
      "179: {'ptn': 8, 'jbf': 8} power 4296\n",
      "180: {'kh': 8, 'qbp': 2} power 2160\n",
      "181: {'jqhkf': 6, 'nvp': 3} power 2172\n",
      "182: {'gtj': 7, 'jfjgt': 9, 'xm': 8} power 8918\n",
      "183: {'mvs': 2} power 366\n",
      "186: {'nch': 6} power 1116\n",
      "187: {'dv': 5} power 935\n",
      "188: {'xlg': 6, 'sh': 6} power 3384\n",
      "189: {'nknrvm': 4, 'cgb': 6, 'jzbv': 8} power 7560\n",
      "193: {'bdz': 5} power 965\n",
      "194: {'nxxhk': 9} power 1746\n",
      "195: {'lnh': 3} power 585\n",
      "198: {'tlhm': 4, 'tmfn': 3} power 1980\n",
      "200: {'kmmvl': 7} power 1400\n",
      "202: {'cntd': 1} power 202\n",
      "203: {'fndhj': 1} power 203\n",
      "207: {'qm': 7, 'ddf': 5, 'dsg': 9} power 9108\n",
      "210: {'fbhzcd': 7} power 1470\n",
      "213: {'qzgb': 3, 'zz': 5, 'crqn': 9} power 8520\n",
      "214: {'jpk': 6} power 1284\n",
      "215: {'jl': 2, 'xgmft': 6, 'xrl': 1} power 3655\n",
      "218: {'zlc': 7} power 1526\n",
      "219: {'jzv': 5, 'vd': 2, 'mfg': 1, 'ft': 8} power 9636\n",
      "220: {'zlqd': 5} power 1100\n",
      "221: {'dx': 3} power 663\n",
      "225: {'ksr': 2} power 450\n",
      "228: {'bdm': 1} power 228\n",
      "230: {'mzn': 4} power 920\n",
      "231: {'xsk': 7} power 1617\n",
      "232: {'krsqtb': 8, 'fgz': 3} power 3248\n",
      "236: {'gd': 4} power 944\n",
      "238: {'dvc': 6} power 1428\n",
      "239: {'dj': 9} power 2151\n",
      "240: {'tpfrc': 9, 'zbrq': 2, 'xgnr': 7} power 8160\n",
      "243: {'pb': 5} power 1215\n",
      "245: {'nf': 1} power 245\n",
      "246: {'tnc': 1} power 246\n",
      "247: {'lj': 3, 'rqc': 8, 'ftdll': 7} power 9880\n",
      "248: {'kkgj': 4} power 992\n",
      "249: {'vvl': 6, 'pldx': 1, 'hsm': 7, 'bpf': 6} power 13197\n",
      "251: {'ljd': 8, 'hbp': 7, 'jxxhbv': 7} power 10793\n",
      "252: {'sjn': 7} power 1764\n"
     ]
    },
    {
     "data": {
      "text/plain": [
       "295719"
      ]
     },
     "execution_count": 18,
     "metadata": {},
     "output_type": "execute_result"
    }
   ],
   "source": [
    "part2(puzzle_input)"
   ]
  },
  {
   "cell_type": "code",
   "execution_count": null,
   "id": "64dfe013-040c-44ad-ad07-df592879a74b",
   "metadata": {},
   "outputs": [],
   "source": []
  }
 ],
 "metadata": {
  "kernelspec": {
   "display_name": "Python 3 (ipykernel)",
   "language": "python",
   "name": "python3"
  },
  "language_info": {
   "codemirror_mode": {
    "name": "ipython",
    "version": 3
   },
   "file_extension": ".py",
   "mimetype": "text/x-python",
   "name": "python",
   "nbconvert_exporter": "python",
   "pygments_lexer": "ipython3",
   "version": "3.11.5"
  }
 },
 "nbformat": 4,
 "nbformat_minor": 5
}
