{
 "cells": [
  {
   "cell_type": "markdown",
   "id": "97cb78b1-9f92-4bd5-8986-edaebd4c0f52",
   "metadata": {},
   "source": [
    "# Day 16"
   ]
  },
  {
   "cell_type": "code",
   "execution_count": 1,
   "id": "fdf92c47-4cf6-45ae-84af-e640787db59a",
   "metadata": {},
   "outputs": [],
   "source": [
    "from ipynb.fs.defs.utils import read_lines\n",
    "puzzle_input = read_lines('day16.txt')"
   ]
  },
  {
   "cell_type": "code",
   "execution_count": 2,
   "id": "509f21d3-da4d-4a4a-9119-30cec0a99d74",
   "metadata": {},
   "outputs": [],
   "source": [
    "test_input = r\"\"\".|...\\....\n",
    "|.-.\\.....\n",
    ".....|-...\n",
    "........|.\n",
    "..........\n",
    ".........\\\n",
    "..../.\\\\..\n",
    ".-.-/..|..\n",
    ".|....-|.\\\n",
    "..//.|....\"\"\".splitlines()"
   ]
  },
  {
   "cell_type": "code",
   "execution_count": 3,
   "id": "f8c95fd9-364c-4893-b7b9-9166e7a35206",
   "metadata": {},
   "outputs": [],
   "source": [
    "def is_inside(beam, mirror_map):\n",
    "    x, y, dx, dy = beam\n",
    "    return y < len(mirror_map) and x < len(mirror_map[0]) and y >= 0 and x >= 0"
   ]
  },
  {
   "cell_type": "code",
   "execution_count": 4,
   "id": "7148efab-1015-4f35-9f21-8d75d65ea000",
   "metadata": {},
   "outputs": [],
   "source": [
    "def beam_step(beam, mirror_map):\n",
    "    x, y, dx, dy = beam\n",
    "    if not is_inside(beam, mirror_map):\n",
    "        return []\n",
    "    tile = mirror_map[y][x]\n",
    "    if tile == '.' or (tile == '-' and dx != 0) or (tile == '|' and dy != 0):\n",
    "        return [(x + dx, y + dy, dx, dy)]\n",
    "    if tile == '/':\n",
    "        return [(x - dy, y - dx, -dy, -dx)]\n",
    "    if tile == '\\\\':\n",
    "        return [(x + dy, y + dx, dy, dx)]\n",
    "    if tile == '-' and dx == 0:\n",
    "        return [(x - dy, y, -dy, dx), (x + dy, y, dy, dx)]\n",
    "    if tile == '|' and dy == 0:\n",
    "        return [(x, y - dx, dy, -dx), (x, y + dx, dy, dx)]\n",
    "    print('Unknown situation')"
   ]
  },
  {
   "cell_type": "code",
   "execution_count": 5,
   "id": "dbd7d24a-2c6d-46a9-b236-bb1616329f3e",
   "metadata": {},
   "outputs": [],
   "source": [
    "def step(beams, mirror_map, energy_map):\n",
    "    new_beams = []\n",
    "    for beam in beams:\n",
    "        new_beams += [ nb for nb in beam_step(beam, mirror_map) if is_inside(nb, mirror_map)]\n",
    "    for x, y, dx, dy in new_beams:\n",
    "        energy_map[y][x] = 1\n",
    "    return new_beams, energy_map"
   ]
  },
  {
   "cell_type": "code",
   "execution_count": 6,
   "id": "1d30b00e-0e34-4ab4-b937-60fb3e993461",
   "metadata": {},
   "outputs": [],
   "source": [
    "def part1(inp, init_beam =  (0, 0, 1, 0), v=False):\n",
    "    energy_map = [[0 for _ in range(len(inp[0]))] for _ in range(len(inp))]\n",
    "    energy_map[init_beam[1]][init_beam[0]] = 1\n",
    "    beams = [init_beam]\n",
    "    cnt = 0\n",
    "    processed_beams = set()\n",
    "    while len(beams) > 0:\n",
    "        beams, energy_map = step(beams, inp, energy_map)\n",
    "        beams = [b for b in beams if not b in processed_beams]\n",
    "        processed_beams.update(beams)\n",
    "        #print(beams)\n",
    "        #\n",
    "        cnt += 1\n",
    "        #if cnt > 25: break\n",
    "    energy = sum([sum(row) for row in energy_map])\n",
    "    if v:\n",
    "        print(init_beam, energy)\n",
    "        for row in energy_map: print(row)\n",
    "    return energy"
   ]
  },
  {
   "cell_type": "code",
   "execution_count": 7,
   "id": "db1beef2-1a0c-44cb-a493-55e60f8560bd",
   "metadata": {},
   "outputs": [
    {
     "data": {
      "text/plain": [
       "['.|...\\\\....',\n",
       " '|.-.\\\\.....',\n",
       " '.....|-...',\n",
       " '........|.',\n",
       " '..........',\n",
       " '.........\\\\',\n",
       " '..../.\\\\\\\\..',\n",
       " '.-.-/..|..',\n",
       " '.|....-|.\\\\',\n",
       " '..//.|....']"
      ]
     },
     "execution_count": 7,
     "metadata": {},
     "output_type": "execute_result"
    }
   ],
   "source": [
    "test_input"
   ]
  },
  {
   "cell_type": "code",
   "execution_count": 8,
   "id": "a39df03e-15ad-4448-bd8a-770576481cb4",
   "metadata": {},
   "outputs": [
    {
     "name": "stdout",
     "output_type": "stream",
     "text": [
      "(3, 0, 0, 1) 51\n",
      "[0, 1, 1, 1, 1, 1, 0, 0, 0, 0]\n",
      "[0, 1, 0, 1, 0, 1, 0, 0, 0, 0]\n",
      "[0, 1, 0, 1, 0, 1, 1, 1, 1, 1]\n",
      "[0, 1, 0, 1, 0, 1, 1, 0, 0, 0]\n",
      "[0, 1, 0, 1, 0, 1, 1, 0, 0, 0]\n",
      "[0, 1, 0, 1, 0, 1, 1, 0, 0, 0]\n",
      "[0, 1, 0, 1, 1, 1, 1, 1, 0, 0]\n",
      "[1, 1, 1, 1, 1, 1, 1, 1, 0, 0]\n",
      "[0, 1, 1, 1, 1, 1, 1, 1, 0, 0]\n",
      "[0, 1, 0, 0, 0, 1, 0, 1, 0, 0]\n"
     ]
    },
    {
     "data": {
      "text/plain": [
       "51"
      ]
     },
     "execution_count": 8,
     "metadata": {},
     "output_type": "execute_result"
    }
   ],
   "source": [
    "part1(test_input, (3, 0, 0, 1), True)"
   ]
  },
  {
   "cell_type": "code",
   "execution_count": 9,
   "id": "89646e0a-1ce2-47e7-882d-1c395e8dc2b9",
   "metadata": {},
   "outputs": [
    {
     "data": {
      "text/plain": [
       "7979"
      ]
     },
     "execution_count": 9,
     "metadata": {},
     "output_type": "execute_result"
    }
   ],
   "source": [
    "part1(puzzle_input)"
   ]
  },
  {
   "cell_type": "code",
   "execution_count": 10,
   "id": "ff987470-c0c7-49e0-b422-f7e7691aaae2",
   "metadata": {},
   "outputs": [],
   "source": [
    "def part2(inp):\n",
    "    max_energy = 0\n",
    "    for x in range(len(inp[0])):\n",
    "        max_energy = max(part1(inp, (x, 0, 0, 1)), max_energy)\n",
    "        max_energy = max(part1(inp, (x, len(inp) - 1, 0, -1)), max_energy)\n",
    "    for y in range(len(inp)):\n",
    "        max_energy = max(part1(inp, (0, y, 1, 0)), max_energy)\n",
    "        max_energy = max(part1(inp, (len(inp[0]) - 1, y, -1, 0)), max_energy)\n",
    "    return max_energy"
   ]
  },
  {
   "cell_type": "code",
   "execution_count": 11,
   "id": "70fd4642-60e7-4e4f-8455-3cc93895c958",
   "metadata": {},
   "outputs": [
    {
     "data": {
      "text/plain": [
       "8437"
      ]
     },
     "execution_count": 11,
     "metadata": {},
     "output_type": "execute_result"
    }
   ],
   "source": [
    "part2(puzzle_input)"
   ]
  },
  {
   "cell_type": "code",
   "execution_count": null,
   "id": "5d882197-2113-498d-b3b2-49c3f63b4e5a",
   "metadata": {},
   "outputs": [],
   "source": []
  }
 ],
 "metadata": {
  "kernelspec": {
   "display_name": "Python 3 (ipykernel)",
   "language": "python",
   "name": "python3"
  },
  "language_info": {
   "codemirror_mode": {
    "name": "ipython",
    "version": 3
   },
   "file_extension": ".py",
   "mimetype": "text/x-python",
   "name": "python",
   "nbconvert_exporter": "python",
   "pygments_lexer": "ipython3",
   "version": "3.11.5"
  }
 },
 "nbformat": 4,
 "nbformat_minor": 5
}
