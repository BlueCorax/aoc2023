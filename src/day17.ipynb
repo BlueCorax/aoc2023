{
 "cells": [
  {
   "cell_type": "markdown",
   "id": "a22d9833-7c55-4e99-8e2a-b485c771e8de",
   "metadata": {},
   "source": [
    "# Day 17"
   ]
  },
  {
   "cell_type": "code",
   "execution_count": 1,
   "id": "0620ffd2-1f95-44ea-8e67-bb509e6a8ae3",
   "metadata": {},
   "outputs": [],
   "source": [
    "from ipynb.fs.defs.utils import read_lines \n",
    "puzzle_input = read_lines('day17.txt')"
   ]
  },
  {
   "cell_type": "code",
   "execution_count": 2,
   "id": "cd6e68eb-5750-44e1-ada8-9309315b35dc",
   "metadata": {},
   "outputs": [],
   "source": [
    "test_input = \"\"\"2413432311323\n",
    "3215453535623\n",
    "3255245654254\n",
    "3446585845452\n",
    "4546657867536\n",
    "1438598798454\n",
    "4457876987766\n",
    "3637877979653\n",
    "4654967986887\n",
    "4564679986453\n",
    "1224686865563\n",
    "2546548887735\n",
    "4322674655533\"\"\".splitlines()"
   ]
  },
  {
   "cell_type": "code",
   "execution_count": 3,
   "id": "54f5ad47-2545-4f3e-af1e-e2a3a0b4583e",
   "metadata": {},
   "outputs": [],
   "source": [
    "def sign(n):\n",
    "    if n > 0:\n",
    "        return 1\n",
    "    if n < 0:\n",
    "        return -1\n",
    "    return 0"
   ]
  },
  {
   "cell_type": "code",
   "execution_count": 4,
   "id": "be011af0-aae5-42ac-9aac-54584072da1e",
   "metadata": {},
   "outputs": [
    {
     "data": {
      "text/plain": [
       "-1"
      ]
     },
     "execution_count": 4,
     "metadata": {},
     "output_type": "execute_result"
    }
   ],
   "source": [
    "sign(-5)"
   ]
  },
  {
   "cell_type": "code",
   "execution_count": 5,
   "id": "190e36ad-3eaf-443c-994c-1ed6943f6a18",
   "metadata": {},
   "outputs": [],
   "source": [
    "def get_weight(start_node, end_node, city):\n",
    "    (x1, y1), _ = start_node\n",
    "    (x2, y2), _ = end_node\n",
    "    weight = 0\n",
    "    while x1 != x2 or y1 != y2:\n",
    "        x1 += sign(x2 - x1)\n",
    "        y1 += sign(y2 - y1)\n",
    "        weight += int(city[y1][x1])\n",
    "    return weight        "
   ]
  },
  {
   "cell_type": "code",
   "execution_count": 6,
   "id": "668a874d-25bf-4878-abd7-59d1a0c445b7",
   "metadata": {},
   "outputs": [
    {
     "name": "stdout",
     "output_type": "stream",
     "text": [
      "3\n",
      "6\n",
      "9\n",
      "11\n",
      "11\n"
     ]
    }
   ],
   "source": [
    "print(get_weight(((0,0), 'S'), ((0, 1), 'A'), test_input))\n",
    "print(get_weight(((0,0), 'S'), ((0, 2), 'A'), test_input))\n",
    "print(get_weight(((0,0), 'S'), ((0, 3), 'A'), test_input))\n",
    "print(get_weight(((2,2), 'S'), ((5, 2), 'L'), test_input))\n",
    "print(get_weight(((6,2), 'S'), ((3, 2), 'R'), test_input))"
   ]
  },
  {
   "cell_type": "code",
   "execution_count": 7,
   "id": "c225bb9a-52e1-41ae-ab33-39793855cc0c",
   "metadata": {},
   "outputs": [],
   "source": [
    "def filter_valid(nodes, city):\n",
    "    return [((x, y), f) for ((x, y), f) in nodes if x >= 0 and x < len(city[0]) and y >= 0 and y < len(city)]"
   ]
  },
  {
   "cell_type": "code",
   "execution_count": 8,
   "id": "2617ff90-aec3-4873-a29c-93c42ce02b37",
   "metadata": {},
   "outputs": [],
   "source": [
    "def get_options(node, last_node, city, min_blocks, max_blocks):\n",
    "    (x, y), dir = node\n",
    "    top = [((x, i), 'B') for i in range(y - max_blocks, y + 1 - min_blocks)]\n",
    "    bot = [((x, i), 'A') for i in range(y + min_blocks, y + max_blocks + 1)]\n",
    "    left = [((i, y), 'R') for i in range(x - max_blocks, x + 1 - min_blocks)]\n",
    "    right = [((i, y), 'L') for i in range(x + min_blocks, x + max_blocks + 1)]\n",
    "    if dir == 'A':\n",
    "        node_list = [*left, *right]\n",
    "    elif dir == 'B':\n",
    "        node_list = [*left, *right]\n",
    "    elif dir == 'L':\n",
    "        node_list = [*top, *bot]\n",
    "    elif dir == 'R':\n",
    "        node_list = [*top, *bot]\n",
    "    else:\n",
    "        node_list = [*top, *bot, *left, *right]\n",
    "    valid_nodes = filter_valid(node_list, city)\n",
    "    return [(dest, get_weight(node, dest, city)) for dest in valid_nodes]"
   ]
  },
  {
   "cell_type": "code",
   "execution_count": 9,
   "id": "e224a65c-25ac-48b2-836f-441a60e272fa",
   "metadata": {},
   "outputs": [
    {
     "data": {
      "text/plain": [
       "[(((0, 1), 'A'), 3),\n",
       " (((0, 2), 'A'), 6),\n",
       " (((0, 3), 'A'), 9),\n",
       " (((1, 0), 'L'), 4),\n",
       " (((2, 0), 'L'), 5),\n",
       " (((3, 0), 'L'), 8)]"
      ]
     },
     "execution_count": 9,
     "metadata": {},
     "output_type": "execute_result"
    }
   ],
   "source": [
    "get_options(((0,0), 'S'), ((0,0), 'S'), test_input, 1, 3)"
   ]
  },
  {
   "cell_type": "code",
   "execution_count": 10,
   "id": "b96a0de0-cf86-40eb-9b29-c6160d6b6307",
   "metadata": {},
   "outputs": [
    {
     "data": {
      "text/plain": [
       "[(((2, 1), 'A'), 1), (((2, 2), 'A'), 6), (((2, 3), 'A'), 10)]"
      ]
     },
     "execution_count": 10,
     "metadata": {},
     "output_type": "execute_result"
    }
   ],
   "source": [
    "get_options(((2, 0), 'L'), ((0,0), 'S'), test_input, 1, 3)"
   ]
  },
  {
   "cell_type": "code",
   "execution_count": 11,
   "id": "d2357500-33d1-43df-ada5-aa72474f732c",
   "metadata": {},
   "outputs": [],
   "source": [
    "from collections import defaultdict\n",
    "import heapq as heap\n",
    "\n",
    "def dijkstra(startingNode, city, min_blocks = 1, max_blocks = 3 ):\n",
    "\tvisited = set()\n",
    "\tparentsMap = {startingNode: None}\n",
    "\tpq = []\n",
    "\tnodeCosts = defaultdict(lambda: float('inf'))\n",
    "\tnodeCosts[startingNode] = 0\n",
    "\theap.heappush(pq, (0, startingNode))\n",
    " \n",
    "\twhile pq:\n",
    "\t\t# go greedily by always extending the shorter cost nodes first\n",
    "\t\t_, node = heap.heappop(pq)\n",
    "\t\tvisited.add(node)\n",
    " \n",
    "\t\tfor adjNode, weight in get_options(node, parentsMap[node], city, min_blocks, max_blocks):\n",
    "\t\t\tif adjNode in visited:\tcontinue\n",
    "\t\t\t\t\n",
    "\t\t\tnewCost = nodeCosts[node] + weight\n",
    "\t\t\tif nodeCosts[adjNode] > newCost:\n",
    "\t\t\t\tparentsMap[adjNode] = node\n",
    "\t\t\t\tnodeCosts[adjNode] = newCost\n",
    "\t\t\t\theap.heappush(pq, (newCost, adjNode))\n",
    "        \n",
    "\treturn parentsMap, nodeCosts\n"
   ]
  },
  {
   "cell_type": "code",
   "execution_count": 12,
   "id": "8a1da14c-5a4d-459b-b1ed-77ec05f82b1a",
   "metadata": {},
   "outputs": [],
   "source": [
    "def part1(inp):\n",
    "    parents, costs = dijkstra(((0,0), 'S'), inp)\n",
    "    end_nodes = [(((x, y), f), c) for ((x, y), f), c in costs.items() if x == len(inp[0]) - 1 and y == len(inp) - 1]\n",
    "    print(end_nodes)\n",
    "    fastest = min(end_nodes, key=lambda x: x[1])[0]\n",
    "    parent = fastest\n",
    "    while parent != None:\n",
    "        print(parent, costs[parent])\n",
    "        parent = parents[parent]"
   ]
  },
  {
   "cell_type": "code",
   "execution_count": 13,
   "id": "505d4b92-0643-4975-82ae-91328b53c4bc",
   "metadata": {},
   "outputs": [
    {
     "name": "stdout",
     "output_type": "stream",
     "text": [
      "[(((12, 12), 'A'), 104), (((12, 12), 'L'), 102)]\n",
      "((12, 12), 'L') 102\n",
      "((11, 12), 'A') 99\n",
      "((11, 10), 'R') 93\n",
      "((12, 10), 'A') 87\n",
      "((12, 7), 'L') 74\n",
      "((11, 7), 'A') 71\n",
      "((11, 4), 'L') 55\n",
      "((10, 4), 'A') 52\n",
      "((10, 2), 'L') 43\n",
      "((8, 2), 'A') 37\n",
      "((8, 0), 'L') 29\n",
      "((5, 0), 'B') 23\n",
      "((5, 1), 'L') 20\n",
      "((2, 1), 'A') 6\n",
      "((2, 0), 'L') 5\n",
      "((0, 0), 'S') 0\n"
     ]
    }
   ],
   "source": [
    "part1(test_input)"
   ]
  },
  {
   "cell_type": "code",
   "execution_count": 14,
   "id": "281343e3-1df3-4d59-b82a-7b72251c532e",
   "metadata": {},
   "outputs": [
    {
     "name": "stdout",
     "output_type": "stream",
     "text": [
      "[(((140, 140), 'A'), 668), (((140, 140), 'L'), 668)]\n",
      "((140, 140), 'A') 668\n",
      "((140, 137), 'L') 663\n",
      "((138, 137), 'A') 661\n",
      "((138, 134), 'L') 657\n",
      "((136, 134), 'A') 654\n",
      "((136, 132), 'R') 651\n",
      "((137, 132), 'A') 649\n",
      "((137, 129), 'R') 644\n",
      "((138, 129), 'A') 642\n",
      "((138, 126), 'R') 639\n",
      "((139, 126), 'A') 638\n",
      "((139, 123), 'L') 633\n",
      "((138, 123), 'A') 632\n",
      "((138, 120), 'L') 626\n",
      "((137, 120), 'A') 625\n",
      "((137, 117), 'L') 619\n",
      "((136, 117), 'A') 618\n",
      "((136, 114), 'L') 614\n",
      "((135, 114), 'A') 612\n",
      "((135, 111), 'L') 604\n",
      "((134, 111), 'A') 602\n",
      "((134, 110), 'L') 599\n",
      "((133, 110), 'A') 597\n",
      "((133, 108), 'L') 594\n",
      "((132, 108), 'A') 593\n",
      "((132, 106), 'L') 587\n",
      "((131, 106), 'A') 585\n",
      "((131, 105), 'L') 583\n",
      "((130, 105), 'A') 582\n",
      "((130, 104), 'L') 580\n",
      "((129, 104), 'A') 579\n",
      "((129, 101), 'R') 575\n",
      "((130, 101), 'A') 573\n",
      "((130, 98), 'L') 564\n",
      "((129, 98), 'A') 563\n",
      "((129, 97), 'R') 562\n",
      "((130, 97), 'A') 561\n",
      "((130, 95), 'R') 559\n",
      "((131, 95), 'A') 557\n",
      "((131, 93), 'R') 555\n",
      "((132, 93), 'A') 554\n",
      "((132, 91), 'R') 552\n",
      "((133, 91), 'A') 549\n",
      "((133, 88), 'R') 545\n",
      "((134, 88), 'A') 541\n",
      "((134, 85), 'R') 534\n",
      "((135, 85), 'A') 529\n",
      "((135, 82), 'R') 521\n",
      "((136, 82), 'A') 518\n",
      "((136, 81), 'R') 516\n",
      "((137, 81), 'A') 515\n",
      "((137, 78), 'L') 509\n",
      "((136, 78), 'A') 507\n",
      "((136, 75), 'R') 498\n",
      "((137, 75), 'A') 496\n",
      "((137, 72), 'L') 490\n",
      "((136, 72), 'A') 488\n",
      "((136, 69), 'L') 482\n",
      "((134, 69), 'A') 479\n",
      "((134, 66), 'R') 472\n",
      "((135, 66), 'A') 470\n",
      "((135, 63), 'L') 465\n",
      "((134, 63), 'A') 463\n",
      "((134, 60), 'R') 453\n",
      "((135, 60), 'A') 451\n",
      "((135, 57), 'R') 446\n",
      "((136, 57), 'A') 445\n",
      "((136, 54), 'L') 437\n",
      "((135, 54), 'A') 435\n",
      "((135, 52), 'L') 432\n",
      "((134, 52), 'A') 429\n",
      "((134, 49), 'R') 424\n",
      "((135, 49), 'A') 421\n",
      "((135, 47), 'L') 417\n",
      "((134, 47), 'A') 416\n",
      "((134, 46), 'R') 413\n",
      "((135, 46), 'A') 411\n",
      "((135, 43), 'R') 405\n",
      "((136, 43), 'A') 401\n",
      "((136, 40), 'L') 396\n",
      "((135, 40), 'A') 394\n",
      "((135, 37), 'R') 389\n",
      "((136, 37), 'A') 387\n",
      "((136, 34), 'L') 381\n",
      "((135, 34), 'A') 379\n",
      "((135, 31), 'L') 376\n",
      "((134, 31), 'A') 375\n",
      "((134, 30), 'L') 373\n",
      "((131, 30), 'A') 367\n",
      "((131, 29), 'L') 365\n",
      "((130, 29), 'A') 364\n",
      "((130, 26), 'L') 359\n",
      "((127, 26), 'A') 355\n",
      "((127, 25), 'L') 353\n",
      "((125, 25), 'A') 349\n",
      "((125, 22), 'L') 343\n",
      "((124, 22), 'A') 342\n",
      "((124, 19), 'L') 336\n",
      "((123, 19), 'A') 335\n",
      "((123, 16), 'L') 329\n",
      "((122, 16), 'A') 328\n",
      "((122, 14), 'L') 326\n",
      "((120, 14), 'A') 324\n",
      "((120, 11), 'L') 319\n",
      "((119, 11), 'A') 318\n",
      "((119, 10), 'L') 317\n",
      "((116, 10), 'A') 312\n",
      "((116, 9), 'L') 310\n",
      "((113, 9), 'A') 304\n",
      "((113, 8), 'L') 303\n",
      "((111, 8), 'A') 299\n",
      "((111, 7), 'L') 297\n",
      "((110, 7), 'A') 294\n",
      "((110, 6), 'L') 293\n",
      "((108, 6), 'A') 289\n",
      "((108, 3), 'L') 286\n",
      "((107, 3), 'A') 283\n",
      "((107, 1), 'L') 281\n",
      "((104, 1), 'A') 274\n",
      "((104, 0), 'L') 271\n",
      "((102, 0), 'B') 268\n",
      "((102, 1), 'L') 267\n",
      "((99, 1), 'A') 263\n",
      "((99, 0), 'L') 261\n",
      "((96, 0), 'B') 256\n",
      "((96, 1), 'L') 255\n",
      "((93, 1), 'A') 250\n",
      "((93, 0), 'L') 247\n",
      "((90, 0), 'B') 239\n",
      "((90, 2), 'L') 234\n",
      "((87, 2), 'B') 228\n",
      "((87, 3), 'L') 226\n",
      "((85, 3), 'A') 220\n",
      "((85, 1), 'L') 215\n",
      "((82, 1), 'A') 211\n",
      "((82, 0), 'L') 208\n",
      "((81, 0), 'B') 207\n",
      "((81, 1), 'L') 206\n",
      "((79, 1), 'A') 204\n",
      "((79, 0), 'L') 202\n",
      "((76, 0), 'B') 197\n",
      "((76, 1), 'L') 193\n",
      "((75, 1), 'B') 191\n",
      "((75, 3), 'L') 188\n",
      "((73, 3), 'B') 182\n",
      "((73, 5), 'L') 179\n",
      "((70, 5), 'A') 172\n",
      "((70, 4), 'L') 171\n",
      "((67, 4), 'B') 166\n",
      "((67, 5), 'L') 162\n",
      "((64, 5), 'A') 157\n",
      "((64, 4), 'L') 155\n",
      "((61, 4), 'A') 150\n",
      "((61, 3), 'L') 149\n",
      "((59, 3), 'A') 146\n",
      "((59, 2), 'L') 145\n",
      "((56, 2), 'A') 138\n",
      "((56, 1), 'L') 136\n",
      "((53, 1), 'A') 129\n",
      "((53, 0), 'L') 127\n",
      "((51, 0), 'B') 121\n",
      "((51, 1), 'L') 118\n",
      "((48, 1), 'A') 112\n",
      "((48, 0), 'L') 111\n",
      "((46, 0), 'B') 107\n",
      "((46, 1), 'L') 106\n",
      "((43, 1), 'B') 99\n",
      "((43, 2), 'L') 98\n",
      "((40, 2), 'A') 94\n",
      "((40, 1), 'L') 93\n",
      "((39, 1), 'A') 89\n",
      "((39, 0), 'L') 86\n",
      "((36, 0), 'B') 81\n",
      "((36, 1), 'L') 79\n",
      "((34, 1), 'B') 74\n",
      "((34, 2), 'L') 73\n",
      "((31, 2), 'B') 67\n",
      "((31, 3), 'L') 66\n",
      "((28, 3), 'A') 62\n",
      "((28, 2), 'L') 61\n",
      "((25, 2), 'B') 55\n",
      "((25, 3), 'L') 54\n",
      "((23, 3), 'B') 50\n",
      "((23, 4), 'L') 49\n",
      "((21, 4), 'A') 47\n",
      "((21, 3), 'L') 46\n",
      "((20, 3), 'A') 44\n",
      "((20, 2), 'L') 42\n",
      "((17, 2), 'A') 37\n",
      "((17, 1), 'L') 34\n",
      "((16, 1), 'A') 33\n",
      "((16, 0), 'L') 31\n",
      "((13, 0), 'B') 26\n",
      "((13, 1), 'L') 24\n",
      "((10, 1), 'A') 19\n",
      "((10, 0), 'L') 18\n",
      "((7, 0), 'B') 14\n",
      "((7, 2), 'L') 12\n",
      "((4, 2), 'A') 8\n",
      "((4, 1), 'L') 7\n",
      "((1, 1), 'A') 2\n",
      "((1, 0), 'L') 1\n",
      "((0, 0), 'S') 0\n"
     ]
    }
   ],
   "source": [
    "part1(puzzle_input)"
   ]
  },
  {
   "cell_type": "code",
   "execution_count": 15,
   "id": "725779b0-0afa-4c24-b2ea-be64309affff",
   "metadata": {},
   "outputs": [],
   "source": [
    "def part2(inp, v = False):\n",
    "    parents, costs = dijkstra(((0,0), 'S'), inp, 4, 10)\n",
    "    end_nodes = [(((x, y), f), c) for ((x, y), f), c in costs.items() if x == len(inp[0]) - 1 and y == len(inp) - 1]\n",
    "    print(end_nodes)\n",
    "    if v:\n",
    "        fastest = min(end_nodes, key=lambda x: x[1])[0]\n",
    "        parent = fastest\n",
    "        while parent != None:\n",
    "            print(parent, costs[parent])\n",
    "            parent = parents[parent]"
   ]
  },
  {
   "cell_type": "code",
   "execution_count": 16,
   "id": "cf5dc313-c758-4a07-b5f1-47cd76b39a03",
   "metadata": {},
   "outputs": [
    {
     "name": "stdout",
     "output_type": "stream",
     "text": [
      "[(((12, 12), 'A'), 94), (((12, 12), 'L'), 110)]\n",
      "((12, 12), 'A') 94\n",
      "((12, 4), 'L') 60\n",
      "((8, 4), 'A') 39\n",
      "((8, 0), 'L') 21\n",
      "((0, 0), 'S') 0\n"
     ]
    }
   ],
   "source": [
    "part2(test_input, True)"
   ]
  },
  {
   "cell_type": "code",
   "execution_count": 17,
   "id": "571edd07-3ffc-4e8e-94ca-7d0e3fb4846e",
   "metadata": {},
   "outputs": [
    {
     "name": "stdout",
     "output_type": "stream",
     "text": [
      "[(((140, 140), 'L'), 788), (((140, 140), 'A'), 792)]\n",
      "((140, 140), 'L') 788\n",
      "((130, 140), 'A') 771\n",
      "((130, 135), 'L') 762\n",
      "((121, 135), 'A') 745\n",
      "((121, 131), 'L') 735\n",
      "((113, 131), 'B') 717\n",
      "((113, 135), 'L') 712\n",
      "((103, 135), 'B') 690\n",
      "((103, 139), 'L') 684\n",
      "((96, 139), 'A') 671\n",
      "((96, 135), 'L') 661\n",
      "((86, 135), 'B') 635\n",
      "((86, 140), 'L') 619\n",
      "((79, 140), 'A') 600\n",
      "((79, 136), 'L') 591\n",
      "((71, 136), 'B') 570\n",
      "((71, 140), 'L') 558\n",
      "((64, 140), 'A') 545\n",
      "((64, 136), 'L') 537\n",
      "((54, 136), 'A') 510\n",
      "((54, 132), 'L') 498\n",
      "((44, 132), 'A') 470\n",
      "((44, 128), 'L') 461\n",
      "((37, 128), 'A') 449\n",
      "((37, 124), 'L') 438\n",
      "((27, 124), 'A') 413\n",
      "((27, 119), 'L') 401\n",
      "((23, 119), 'A') 393\n",
      "((23, 111), 'L') 373\n",
      "((18, 111), 'A') 361\n",
      "((18, 107), 'L') 353\n",
      "((12, 107), 'A') 340\n",
      "((12, 99), 'L') 322\n",
      "((8, 99), 'A') 315\n",
      "((8, 95), 'L') 308\n",
      "((2, 95), 'A') 290\n",
      "((2, 86), 'R') 270\n",
      "((6, 86), 'A') 264\n",
      "((6, 80), 'L') 250\n",
      "((1, 80), 'A') 238\n",
      "((1, 74), 'R') 225\n",
      "((5, 74), 'A') 217\n",
      "((5, 64), 'L') 192\n",
      "((1, 64), 'A') 182\n",
      "((1, 54), 'R') 157\n",
      "((6, 54), 'A') 146\n",
      "((6, 45), 'L') 125\n",
      "((2, 45), 'A') 120\n",
      "((2, 35), 'R') 97\n",
      "((7, 35), 'A') 88\n",
      "((7, 28), 'R') 74\n",
      "((11, 28), 'A') 64\n",
      "((11, 18), 'L') 46\n",
      "((7, 18), 'A') 41\n",
      "((7, 8), 'L') 23\n",
      "((0, 8), 'A') 10\n",
      "((0, 0), 'S') 0\n"
     ]
    }
   ],
   "source": [
    "part2(puzzle_input, True)"
   ]
  },
  {
   "cell_type": "code",
   "execution_count": null,
   "id": "d4b587a0-df87-4865-9d84-dcd2fcb2b7dc",
   "metadata": {},
   "outputs": [],
   "source": []
  }
 ],
 "metadata": {
  "kernelspec": {
   "display_name": "Python 3 (ipykernel)",
   "language": "python",
   "name": "python3"
  },
  "language_info": {
   "codemirror_mode": {
    "name": "ipython",
    "version": 3
   },
   "file_extension": ".py",
   "mimetype": "text/x-python",
   "name": "python",
   "nbconvert_exporter": "python",
   "pygments_lexer": "ipython3",
   "version": "3.11.5"
  }
 },
 "nbformat": 4,
 "nbformat_minor": 5
}
