{
 "cells": [
  {
   "cell_type": "markdown",
   "id": "f211eeea-4e69-4384-8ef0-9379d886483b",
   "metadata": {},
   "source": [
    "# Day 18"
   ]
  },
  {
   "cell_type": "code",
   "execution_count": 1,
   "id": "cefd3a09-1f64-48cd-a91b-31a7682e3e4d",
   "metadata": {},
   "outputs": [],
   "source": [
    "import numpy as np"
   ]
  },
  {
   "cell_type": "code",
   "execution_count": 2,
   "id": "55c32866-21c7-4b24-8147-4a17c9cf4fe4",
   "metadata": {},
   "outputs": [],
   "source": [
    "from ipynb.fs.defs.utils import read_lines \n",
    "puzzle_input = read_lines(\"day18.txt\")"
   ]
  },
  {
   "cell_type": "code",
   "execution_count": 3,
   "id": "53ddb2aa-74a7-4ae9-931d-3947923af318",
   "metadata": {},
   "outputs": [],
   "source": [
    "test_input = \"\"\"R 6 (#70c710)\n",
    "D 5 (#0dc571)\n",
    "L 2 (#5713f0)\n",
    "D 2 (#d2c081)\n",
    "R 2 (#59c680)\n",
    "D 2 (#411b91)\n",
    "L 5 (#8ceee2)\n",
    "U 2 (#caa173)\n",
    "L 1 (#1b58a2)\n",
    "U 2 (#caa171)\n",
    "R 2 (#7807d2)\n",
    "U 3 (#a77fa3)\n",
    "L 2 (#015232)\n",
    "U 2 (#7a21e3)\"\"\".splitlines()"
   ]
  },
  {
   "cell_type": "code",
   "execution_count": 4,
   "id": "2758044f-0feb-4e21-8424-51cc41446896",
   "metadata": {},
   "outputs": [],
   "source": [
    "def parse_line(line):\n",
    "    direction, distance, color = line.split(' ')\n",
    "    return direction, int(distance), color[1:-1]"
   ]
  },
  {
   "cell_type": "code",
   "execution_count": 5,
   "id": "f171b602-9cde-4d34-be56-743e911fa38f",
   "metadata": {},
   "outputs": [],
   "source": [
    "def parse_input(inp):\n",
    "    return [parse_line(line) for line in inp]"
   ]
  },
  {
   "cell_type": "code",
   "execution_count": 6,
   "id": "a53c0be1-0799-4cc4-8a75-b034f52aa649",
   "metadata": {},
   "outputs": [],
   "source": [
    "def get_border_length(instructions):\n",
    "    directions, distances, colors = zip(*instructions)\n",
    "    return sum(distances)"
   ]
  },
  {
   "cell_type": "code",
   "execution_count": 7,
   "id": "6d6cf8b6-001a-4fed-9479-3f1b00cc8b4a",
   "metadata": {},
   "outputs": [
    {
     "data": {
      "text/plain": [
       "38"
      ]
     },
     "execution_count": 7,
     "metadata": {},
     "output_type": "execute_result"
    }
   ],
   "source": [
    "get_border_length(parse_input(test_input))"
   ]
  },
  {
   "cell_type": "code",
   "execution_count": 8,
   "id": "c89fa32d-507e-4b9b-b95c-b1902b81e303",
   "metadata": {},
   "outputs": [],
   "source": [
    "def get_coords(instructions):\n",
    "    diglines = []\n",
    "    x = 0\n",
    "    y = 0\n",
    "    for direction, distance, color in instructions:\n",
    "        if direction == 'U':\n",
    "            y -= distance\n",
    "        if direction == 'D':\n",
    "            y += distance\n",
    "        if direction == 'L':\n",
    "            x -= distance\n",
    "        if direction == 'R':\n",
    "            x += distance\n",
    "        diglines.append((x, y, color))\n",
    "    return diglines"
   ]
  },
  {
   "cell_type": "code",
   "execution_count": 9,
   "id": "d778217a-f3ce-421c-b655-0d941df1fed0",
   "metadata": {
    "scrolled": true
   },
   "outputs": [
    {
     "data": {
      "text/plain": [
       "[(6, 0, '#70c710'),\n",
       " (6, 5, '#0dc571'),\n",
       " (4, 5, '#5713f0'),\n",
       " (4, 7, '#d2c081'),\n",
       " (6, 7, '#59c680'),\n",
       " (6, 9, '#411b91'),\n",
       " (1, 9, '#8ceee2'),\n",
       " (1, 7, '#caa173'),\n",
       " (0, 7, '#1b58a2'),\n",
       " (0, 5, '#caa171'),\n",
       " (2, 5, '#7807d2'),\n",
       " (2, 2, '#a77fa3'),\n",
       " (0, 2, '#015232'),\n",
       " (0, 0, '#7a21e3')]"
      ]
     },
     "execution_count": 9,
     "metadata": {},
     "output_type": "execute_result"
    }
   ],
   "source": [
    "coord = get_coords(parse_input(test_input))\n",
    "coord"
   ]
  },
  {
   "cell_type": "code",
   "execution_count": 10,
   "id": "d50ff7e6-3a6d-4528-adc9-c9e62decfa80",
   "metadata": {},
   "outputs": [],
   "source": [
    "def to_np(arr):\n",
    "    return  np.array(arr, dtype='object')"
   ]
  },
  {
   "cell_type": "code",
   "execution_count": 11,
   "id": "59528caf-e49b-4341-920d-445a2dfda465",
   "metadata": {},
   "outputs": [],
   "source": [
    "def shoelace(points):\n",
    "    x, y, _ = zip(*points)\n",
    "    x = to_np(x)\n",
    "    y = to_np(y)\n",
    "    return np.abs(np.dot(x,np.roll(y,1))-np.dot(y,np.roll(x,1)))/2"
   ]
  },
  {
   "cell_type": "code",
   "execution_count": 12,
   "id": "6b9a90d9-5e55-4ab9-841d-d414e0bb193a",
   "metadata": {},
   "outputs": [
    {
     "data": {
      "text/plain": [
       "42.0"
      ]
     },
     "execution_count": 12,
     "metadata": {},
     "output_type": "execute_result"
    }
   ],
   "source": [
    "shoelace(coord)"
   ]
  },
  {
   "cell_type": "code",
   "execution_count": 13,
   "id": "2dd355eb-30cb-4f5b-ab66-5ebf592b89fe",
   "metadata": {},
   "outputs": [],
   "source": [
    "def get_area(instructions):\n",
    "    coords = get_coords(instructions)\n",
    "    border_length = get_border_length(instructions)\n",
    "    return shoelace(coords) + border_length/2 + 1"
   ]
  },
  {
   "cell_type": "code",
   "execution_count": 14,
   "id": "f1e5a573-1137-4603-a629-3b6157a20214",
   "metadata": {},
   "outputs": [],
   "source": [
    "def part1(inp):\n",
    "    instructions = parse_input(inp)\n",
    "    return get_area(instructions)"
   ]
  },
  {
   "cell_type": "code",
   "execution_count": 15,
   "id": "6ac8ca94-ca20-41fa-a124-9ba39856aa16",
   "metadata": {},
   "outputs": [
    {
     "data": {
      "text/plain": [
       "62.0"
      ]
     },
     "execution_count": 15,
     "metadata": {},
     "output_type": "execute_result"
    }
   ],
   "source": [
    "part1(test_input)"
   ]
  },
  {
   "cell_type": "code",
   "execution_count": 16,
   "id": "f7a2d57b-e380-4ae0-b1b6-b22399c6f3ce",
   "metadata": {},
   "outputs": [
    {
     "data": {
      "text/plain": [
       "38188.0"
      ]
     },
     "execution_count": 16,
     "metadata": {},
     "output_type": "execute_result"
    }
   ],
   "source": [
    "part1(puzzle_input)"
   ]
  },
  {
   "cell_type": "code",
   "execution_count": 17,
   "id": "92c1de3e-027a-4490-a5e2-700205634a7a",
   "metadata": {},
   "outputs": [],
   "source": [
    "def parse_color(c):\n",
    "    distance = int(c[1:6], 16)\n",
    "    if c[6] == '0':\n",
    "        dir = 'R'\n",
    "    if c[6] == '1':\n",
    "        dir = 'D'\n",
    "    if c[6] == '2':\n",
    "        dir = 'L'\n",
    "    if c[6] == '3':\n",
    "        dir = 'U'\n",
    "    return dir, distance, \"col\""
   ]
  },
  {
   "cell_type": "code",
   "execution_count": 18,
   "id": "cf2ac4a7-a97c-4bfd-8727-3d4d485345c1",
   "metadata": {},
   "outputs": [],
   "source": [
    "def parse_part2_input(inp):\n",
    "    return [parse_color(line.split(' ')[2][1:8]) for line in inp]"
   ]
  },
  {
   "cell_type": "code",
   "execution_count": 19,
   "id": "8f8c62be-1ed9-4fb8-a748-7afa2145082c",
   "metadata": {},
   "outputs": [],
   "source": [
    "def part2(inp):\n",
    "    instructions = parse_part2_input(inp)\n",
    "    return get_area(instructions)"
   ]
  },
  {
   "cell_type": "code",
   "execution_count": 20,
   "id": "fed6fee3-38d4-4fa9-8a0e-348227f46b27",
   "metadata": {},
   "outputs": [
    {
     "data": {
      "text/plain": [
       "952408144115.0"
      ]
     },
     "execution_count": 20,
     "metadata": {},
     "output_type": "execute_result"
    }
   ],
   "source": [
    "part2(test_input)"
   ]
  },
  {
   "cell_type": "code",
   "execution_count": 21,
   "id": "c1043290-b703-495a-9148-21e1ed1afbe4",
   "metadata": {},
   "outputs": [
    {
     "data": {
      "text/plain": [
       "93325849869340.0"
      ]
     },
     "execution_count": 21,
     "metadata": {},
     "output_type": "execute_result"
    }
   ],
   "source": [
    "part2(puzzle_input)"
   ]
  }
 ],
 "metadata": {
  "kernelspec": {
   "display_name": "Python 3 (ipykernel)",
   "language": "python",
   "name": "python3"
  },
  "language_info": {
   "codemirror_mode": {
    "name": "ipython",
    "version": 3
   },
   "file_extension": ".py",
   "mimetype": "text/x-python",
   "name": "python",
   "nbconvert_exporter": "python",
   "pygments_lexer": "ipython3",
   "version": "3.11.5"
  }
 },
 "nbformat": 4,
 "nbformat_minor": 5
}
