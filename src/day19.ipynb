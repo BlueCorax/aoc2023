{
 "cells": [
  {
   "cell_type": "markdown",
   "id": "89a89cda-f3e0-409c-80e9-161fdaa69d7b",
   "metadata": {},
   "source": [
    "# Day 19"
   ]
  },
  {
   "cell_type": "code",
   "execution_count": 1,
   "id": "44afa006-2ff7-4636-9f4f-e9dbe29ed33e",
   "metadata": {},
   "outputs": [],
   "source": [
    "from ipynb.fs.defs.utils import read_lines \n",
    "import re"
   ]
  },
  {
   "cell_type": "code",
   "execution_count": 2,
   "id": "41b70e13-09cf-4ac3-b4aa-4f62f9936481",
   "metadata": {},
   "outputs": [],
   "source": [
    "puzzle_input = read_lines('day19.txt')"
   ]
  },
  {
   "cell_type": "code",
   "execution_count": 3,
   "id": "deca70e2-31f2-41ab-89c7-e55c8690d2c2",
   "metadata": {},
   "outputs": [],
   "source": [
    "test_input = \"\"\"px{a<2006:qkq,m>2090:A,rfg}\n",
    "pv{a>1716:R,A}\n",
    "lnx{m>1548:A,A}\n",
    "rfg{s<537:gd,x>2440:R,A}\n",
    "qs{s>3448:A,lnx}\n",
    "qkq{x<1416:A,crn}\n",
    "crn{x>2662:A,R}\n",
    "in{s<1351:px,qqz}\n",
    "qqz{s>2770:qs,m<1801:hdj,R}\n",
    "gd{a>3333:R,R}\n",
    "hdj{m>838:A,pv}\n",
    "\n",
    "{x=787,m=2655,a=1222,s=2876}\n",
    "{x=1679,m=44,a=2067,s=496}\n",
    "{x=2036,m=264,a=79,s=2244}\n",
    "{x=2461,m=1339,a=466,s=291}\n",
    "{x=2127,m=1623,a=2188,s=1013}\"\"\".splitlines()"
   ]
  },
  {
   "cell_type": "code",
   "execution_count": 4,
   "id": "3bba9c93-6e30-4b20-b390-a76b1a2600a1",
   "metadata": {},
   "outputs": [],
   "source": [
    "rule_pattern = re.compile(r'(([xmas])(<|>)(\\d+):([a-zAR]+))|([a-zAR]+)')\n",
    "def parse_rule(inp):\n",
    "    m = rule_pattern.match(inp)\n",
    "    if m.group(6):\n",
    "        return m.group(6)\n",
    "    else:\n",
    "        var, comp, val, action = m.group(2,3,4,5)\n",
    "        return var, comp, int(val), action"
   ]
  },
  {
   "cell_type": "code",
   "execution_count": 5,
   "id": "6a1d2b91-2471-4889-a537-5fc7308eef59",
   "metadata": {},
   "outputs": [
    {
     "data": {
      "text/plain": [
       "('s', '>', 2770, 'qs')"
      ]
     },
     "execution_count": 5,
     "metadata": {},
     "output_type": "execute_result"
    }
   ],
   "source": [
    "test_rule =parse_rule('s>2770:qs')\n",
    "test_rule"
   ]
  },
  {
   "cell_type": "code",
   "execution_count": 6,
   "id": "6d2c0cd8-84f9-4464-9015-376e9bb35135",
   "metadata": {},
   "outputs": [
    {
     "data": {
      "text/plain": [
       "'R'"
      ]
     },
     "execution_count": 6,
     "metadata": {},
     "output_type": "execute_result"
    }
   ],
   "source": [
    "parse_rule('R')"
   ]
  },
  {
   "cell_type": "code",
   "execution_count": 7,
   "id": "7f97b75f-a5e7-4ed4-8761-20958e501112",
   "metadata": {},
   "outputs": [],
   "source": [
    "wf_pattern = re.compile(r'([a-z]+)\\{(.+)\\}')\n",
    "def parse_workflow(inp):\n",
    "    rules = []\n",
    "    m = wf_pattern.match(inp)\n",
    "    name, rules = m.group(1, 2)\n",
    "    rules = [parse_rule(r) for r in rules.split(',')]\n",
    "    return name, rules[:-1], rules[-1]"
   ]
  },
  {
   "cell_type": "code",
   "execution_count": 8,
   "id": "11bc82cc-2d39-438b-97b0-c96ce2c74d1d",
   "metadata": {},
   "outputs": [
    {
     "data": {
      "text/plain": [
       "('qqz', [('s', '>', 2770, 'qs'), ('m', '<', 1801, 'hdj')], 'R')"
      ]
     },
     "execution_count": 8,
     "metadata": {},
     "output_type": "execute_result"
    }
   ],
   "source": [
    "test_wf = parse_workflow('qqz{s>2770:qs,m<1801:hdj,R}')\n",
    "test_wf"
   ]
  },
  {
   "cell_type": "code",
   "execution_count": 9,
   "id": "4feb2eeb-e340-42c9-b94d-90e0cae68b40",
   "metadata": {},
   "outputs": [],
   "source": [
    "def parse_kvp(inp):\n",
    "    k, v = inp.split('=')\n",
    "    return k, int(v)"
   ]
  },
  {
   "cell_type": "code",
   "execution_count": 10,
   "id": "ba96f0a3-cc2d-4436-ba97-74666537b2d5",
   "metadata": {},
   "outputs": [],
   "source": [
    "def parse_part(inp):\n",
    "    part = {}\n",
    "    for kvp in inp[1:-1].split(','):\n",
    "        k,v = parse_kvp(kvp)\n",
    "        part[k] = v\n",
    "    return part"
   ]
  },
  {
   "cell_type": "code",
   "execution_count": 11,
   "id": "438a9775-9ebd-4869-82f0-d171cae032db",
   "metadata": {},
   "outputs": [
    {
     "data": {
      "text/plain": [
       "{'x': 787, 'm': 2655, 'a': 1222, 's': 2876}"
      ]
     },
     "execution_count": 11,
     "metadata": {},
     "output_type": "execute_result"
    }
   ],
   "source": [
    "test_part = parse_part('{x=787,m=2655,a=1222,s=2876}')\n",
    "test_part"
   ]
  },
  {
   "cell_type": "code",
   "execution_count": 12,
   "id": "29d0d29a-f6a9-44d3-8085-d6b1a005519c",
   "metadata": {},
   "outputs": [],
   "source": [
    "def parse_input(inp):\n",
    "    wfs = {}\n",
    "    parts = []\n",
    "    empty_encountered = False\n",
    "    for i in range(len(inp)):\n",
    "        if len(inp[i]) == 0:\n",
    "            empty_encountered = True\n",
    "        elif empty_encountered:\n",
    "            parts.append(parse_part(inp[i]))\n",
    "        else:\n",
    "            name, rules, default = parse_workflow(inp[i])\n",
    "            wfs[name] = (rules, default)\n",
    "    return wfs, parts"
   ]
  },
  {
   "cell_type": "code",
   "execution_count": 13,
   "id": "55456e74-6930-47c0-8434-cd656cb1c1bf",
   "metadata": {},
   "outputs": [],
   "source": [
    "def matches_rule(part, rule):\n",
    "    var, comp, val, _ = rule\n",
    "    if comp == '>':\n",
    "        return part[var] > val\n",
    "    if comp == '<':\n",
    "        return part[var] < val\n",
    "    print(f'Unknown comparator in {rule}')"
   ]
  },
  {
   "cell_type": "code",
   "execution_count": 14,
   "id": "243f9fc0-d0ae-474f-8a89-5178096d13ee",
   "metadata": {},
   "outputs": [],
   "source": [
    "def apply_wf(part, wf):\n",
    "    rules, default = wf\n",
    "    for r in rules:\n",
    "        if matches_rule(part, r):\n",
    "            return r[3]\n",
    "    return default"
   ]
  },
  {
   "cell_type": "code",
   "execution_count": 15,
   "id": "20601126-7b06-4b90-9ddf-c9e3f76d7bfe",
   "metadata": {},
   "outputs": [
    {
     "data": {
      "text/plain": [
       "'qs'"
      ]
     },
     "execution_count": 15,
     "metadata": {},
     "output_type": "execute_result"
    }
   ],
   "source": [
    "apply_wf(test_part, test_wf[1:])"
   ]
  },
  {
   "cell_type": "code",
   "execution_count": 16,
   "id": "da56497a-303a-4256-99dc-149885c718be",
   "metadata": {},
   "outputs": [],
   "source": [
    "def process_part(part, workflows):\n",
    "    wf = 'in'\n",
    "    while wf != 'R' and wf != 'A':\n",
    "        wf = apply_wf(part, workflows[wf])\n",
    "    return wf"
   ]
  },
  {
   "cell_type": "code",
   "execution_count": 17,
   "id": "18b9680f-81e0-40a0-a989-6093eb55b81c",
   "metadata": {},
   "outputs": [],
   "source": [
    "def rating_number(part):\n",
    "    return sum(part.values())"
   ]
  },
  {
   "cell_type": "code",
   "execution_count": 18,
   "id": "1d05be8e-1c63-40b1-8c7e-4fc198be9bea",
   "metadata": {},
   "outputs": [],
   "source": [
    "def part1(inp):\n",
    "    wfs, parts = parse_input(inp)\n",
    "    return sum([rating_number(p) for p in parts if process_part(p, wfs) == 'A'])"
   ]
  },
  {
   "cell_type": "code",
   "execution_count": 19,
   "id": "2632e3f0-71d7-41e8-bf54-913ec1054448",
   "metadata": {},
   "outputs": [
    {
     "data": {
      "text/plain": [
       "19114"
      ]
     },
     "execution_count": 19,
     "metadata": {},
     "output_type": "execute_result"
    }
   ],
   "source": [
    "part1(test_input)"
   ]
  },
  {
   "cell_type": "code",
   "execution_count": 20,
   "id": "add7db65-1305-488f-bc47-6a8a7844ce44",
   "metadata": {},
   "outputs": [
    {
     "data": {
      "text/plain": [
       "342650"
      ]
     },
     "execution_count": 20,
     "metadata": {},
     "output_type": "execute_result"
    }
   ],
   "source": [
    "part1(puzzle_input)"
   ]
  },
  {
   "cell_type": "code",
   "execution_count": 21,
   "id": "abd04746-eb15-4322-a42b-48e5a5b1eb19",
   "metadata": {},
   "outputs": [],
   "source": [
    "def apply_rule(p_range, rule):\n",
    "    attr, comp, v_rule, action = rule\n",
    "    v_from, v_to = p_range[attr]\n",
    "    if v_from >= v_rule and comp == '<' or v_to - 1 <= v_rule and comp == '>':\n",
    "        # Rule doesn't apply to range\n",
    "        return None, p_range\n",
    "    if v_from > v_rule and comp == '>' or v_to - 1 < v_rule and comp == '<':\n",
    "        # Whole rules applies to range\n",
    "        return (p_range, action), None\n",
    "    else:\n",
    "        if comp == '<':\n",
    "            match_range = (v_from, v_rule)\n",
    "            leftover_range = (v_rule, v_to)\n",
    "        if comp == '>':\n",
    "            match_range = (v_rule + 1, v_to)\n",
    "            leftover_range = (v_from, v_rule + 1)\n",
    "        match_part = p_range.copy()\n",
    "        leftover_part = p_range.copy()\n",
    "        match_part[attr] = match_range\n",
    "        leftover_part[attr] = leftover_range\n",
    "        return (match_part, action), leftover_part"
   ]
  },
  {
   "cell_type": "code",
   "execution_count": 22,
   "id": "27c8439d-0508-45e6-900d-9617016b7c65",
   "metadata": {},
   "outputs": [
    {
     "data": {
      "text/plain": [
       "('s', '>', 2770, 'qs')"
      ]
     },
     "execution_count": 22,
     "metadata": {},
     "output_type": "execute_result"
    }
   ],
   "source": [
    "test_rule"
   ]
  },
  {
   "cell_type": "code",
   "execution_count": 23,
   "id": "ebfe67ac-502b-41d9-80cf-1aef01e38e7b",
   "metadata": {},
   "outputs": [
    {
     "data": {
      "text/plain": [
       "(None, {'x': (0, 787), 'm': (2655, 3500), 'a': (500, 1222), 's': (0, 2771)})"
      ]
     },
     "execution_count": 23,
     "metadata": {},
     "output_type": "execute_result"
    }
   ],
   "source": [
    "apply_rule({'x': (0, 787), 'm': (2655, 3500), 'a': (500, 1222), 's': (0, 2771)}, ('s', '>', 2770, 'qs'))"
   ]
  },
  {
   "cell_type": "code",
   "execution_count": 24,
   "id": "c1cc8792-a25d-4bda-b439-38019d92270c",
   "metadata": {},
   "outputs": [
    {
     "data": {
      "text/plain": [
       "(({'x': (0, 787), 'm': (2655, 3500), 'a': (500, 1222), 's': (2771, 2772)},\n",
       "  'qs'),\n",
       " {'x': (0, 787), 'm': (2655, 3500), 'a': (500, 1222), 's': (0, 2771)})"
      ]
     },
     "execution_count": 24,
     "metadata": {},
     "output_type": "execute_result"
    }
   ],
   "source": [
    "apply_rule({'x': (0, 787), 'm': (2655, 3500), 'a': (500, 1222), 's': (0, 2772)}, ('s', '>', 2770, 'qs'))"
   ]
  },
  {
   "cell_type": "code",
   "execution_count": 25,
   "id": "e36054a5-580b-4769-b06e-d2b13eb56ff9",
   "metadata": {},
   "outputs": [
    {
     "data": {
      "text/plain": [
       "(({'x': (0, 787), 'm': (2655, 3500), 'a': (500, 1222), 's': (2771, 3000)},\n",
       "  'qs'),\n",
       " {'x': (0, 787), 'm': (2655, 3500), 'a': (500, 1222), 's': (2770, 2771)})"
      ]
     },
     "execution_count": 25,
     "metadata": {},
     "output_type": "execute_result"
    }
   ],
   "source": [
    "apply_rule({'x': (0, 787), 'm': (2655, 3500), 'a': (500, 1222), 's': (2770, 3000)}, ('s', '>', 2770, 'qs'))"
   ]
  },
  {
   "cell_type": "code",
   "execution_count": 26,
   "id": "5a3c3ac8-61b9-4718-aa6d-21eb89883500",
   "metadata": {},
   "outputs": [
    {
     "data": {
      "text/plain": [
       "(({'x': (0, 787), 'm': (2655, 3500), 'a': (500, 1222), 's': (2771, 3000)},\n",
       "  'qs'),\n",
       " None)"
      ]
     },
     "execution_count": 26,
     "metadata": {},
     "output_type": "execute_result"
    }
   ],
   "source": [
    "apply_rule({'x': (0, 787), 'm': (2655, 3500), 'a': (500, 1222), 's': (2771, 3000)}, ('s', '>', 2770, 'qs'))"
   ]
  },
  {
   "cell_type": "code",
   "execution_count": 27,
   "id": "94747ba8-2b2a-46fa-bd5c-1968e44be133",
   "metadata": {},
   "outputs": [
    {
     "data": {
      "text/plain": [
       "(({'x': (0, 787), 'm': (2655, 3500), 'a': (500, 1222), 's': (0, 2770)}, 'qs'),\n",
       " None)"
      ]
     },
     "execution_count": 27,
     "metadata": {},
     "output_type": "execute_result"
    }
   ],
   "source": [
    "apply_rule({'x': (0, 787), 'm': (2655, 3500), 'a': (500, 1222), 's': (0, 2770)}, ('s', '<', 2770, 'qs'))"
   ]
  },
  {
   "cell_type": "code",
   "execution_count": 28,
   "id": "8d7f9222-267f-4bde-85fc-f1954d5304b4",
   "metadata": {},
   "outputs": [
    {
     "data": {
      "text/plain": [
       "(({'x': (0, 787), 'm': (2655, 3500), 'a': (500, 1222), 's': (0, 2770)}, 'qs'),\n",
       " {'x': (0, 787), 'm': (2655, 3500), 'a': (500, 1222), 's': (2770, 2771)})"
      ]
     },
     "execution_count": 28,
     "metadata": {},
     "output_type": "execute_result"
    }
   ],
   "source": [
    "apply_rule({'x': (0, 787), 'm': (2655, 3500), 'a': (500, 1222), 's': (0, 2771)}, ('s', '<', 2770, 'qs'))"
   ]
  },
  {
   "cell_type": "code",
   "execution_count": 29,
   "id": "e666b92d-ec4c-43d3-9e98-cce4d8bd031e",
   "metadata": {},
   "outputs": [
    {
     "data": {
      "text/plain": [
       "(({'x': (0, 787), 'm': (2655, 3500), 'a': (500, 1222), 's': (2769, 2770)},\n",
       "  'qs'),\n",
       " {'x': (0, 787), 'm': (2655, 3500), 'a': (500, 1222), 's': (2770, 3000)})"
      ]
     },
     "execution_count": 29,
     "metadata": {},
     "output_type": "execute_result"
    }
   ],
   "source": [
    "apply_rule({'x': (0, 787), 'm': (2655, 3500), 'a': (500, 1222), 's': (2769, 3000)}, ('s', '<', 2770, 'qs'))"
   ]
  },
  {
   "cell_type": "code",
   "execution_count": 30,
   "id": "3baec50e-a21c-40f4-bec5-9eb2a179d89f",
   "metadata": {},
   "outputs": [
    {
     "data": {
      "text/plain": [
       "(None, {'x': (0, 787), 'm': (2655, 3500), 'a': (500, 1222), 's': (2770, 3000)})"
      ]
     },
     "execution_count": 30,
     "metadata": {},
     "output_type": "execute_result"
    }
   ],
   "source": [
    "apply_rule({'x': (0, 787), 'm': (2655, 3500), 'a': (500, 1222), 's': (2770, 3000)}, ('s', '<', 2770, 'qs'))"
   ]
  },
  {
   "cell_type": "code",
   "execution_count": 31,
   "id": "62d40e50-57b9-4000-9596-5d5bc0f52308",
   "metadata": {},
   "outputs": [],
   "source": [
    "def apply_wf_range(p_range, wf):\n",
    "    rules, default = wf\n",
    "    out_ranges = []\n",
    "    leftover = p_range\n",
    "    for r in rules:\n",
    "        if leftover:\n",
    "            match, leftover = apply_rule(leftover, r)\n",
    "            if match:\n",
    "                out_ranges.append(match)\n",
    "        else:\n",
    "            break\n",
    "    if leftover:\n",
    "        out_ranges.append((leftover, default))\n",
    "    return out_ranges"
   ]
  },
  {
   "cell_type": "code",
   "execution_count": 32,
   "id": "9e0e02a1-82d9-4b43-b092-e7c80fb66666",
   "metadata": {},
   "outputs": [
    {
     "data": {
      "text/plain": [
       "[({'x': (0, 787), 'm': (1000, 3500), 'a': (500, 1222), 's': (2771, 3000)},\n",
       "  'qs'),\n",
       " ({'x': (0, 787), 'm': (1000, 1801), 'a': (500, 1222), 's': (2770, 2771)},\n",
       "  'hdj'),\n",
       " ({'x': (0, 787), 'm': (1801, 3500), 'a': (500, 1222), 's': (2770, 2771)},\n",
       "  'R')]"
      ]
     },
     "execution_count": 32,
     "metadata": {},
     "output_type": "execute_result"
    }
   ],
   "source": [
    "apply_wf_range({'x': (0, 787), 'm': (1000, 3500), 'a': (500, 1222), 's': (2770, 3000)}, ([('s', '>', 2770, 'qs'), ('m', '<', 1801, 'hdj')], 'R'))"
   ]
  },
  {
   "cell_type": "code",
   "execution_count": 33,
   "id": "4b86cadf-0673-403f-a87d-f8dfecdb3054",
   "metadata": {},
   "outputs": [],
   "source": [
    "def range_rating_number(part):\n",
    "    prod = 1\n",
    "    factors = [t - f for f, t in part.values()]\n",
    "    for fac in factors:\n",
    "        prod *= fac\n",
    "    return prod"
   ]
  },
  {
   "cell_type": "code",
   "execution_count": 34,
   "id": "cd1edf16-ac28-48f1-acf9-24edd2d39cdb",
   "metadata": {},
   "outputs": [
    {
     "data": {
      "text/plain": [
       "326723050000"
      ]
     },
     "execution_count": 34,
     "metadata": {},
     "output_type": "execute_result"
    }
   ],
   "source": [
    "range_rating_number({'x': (0, 787), 'm': (1000, 3500), 'a': (500, 1222), 's': (2770, 3000)})"
   ]
  },
  {
   "cell_type": "code",
   "execution_count": 35,
   "id": "53d5c998-b950-4dec-a691-fbca6b1bdf65",
   "metadata": {},
   "outputs": [],
   "source": [
    "def part2(inp, v=False):\n",
    "    wfs, parts = parse_input(inp)\n",
    "    todo = [({'x': (1, 4001), 'm': (1, 4001), 'a': (1, 4001), 's': (1, 4001)}, 'in')]\n",
    "    res_parts = []\n",
    "    while len(todo) > 0:\n",
    "        next_todo = []\n",
    "        for part, wf in todo:\n",
    "            if wf == 'A':\n",
    "                res_parts.append(part)\n",
    "            elif wf == 'R':\n",
    "                continue\n",
    "            else:\n",
    "                next_todo += apply_wf_range(part, wfs[wf])\n",
    "        todo = next_todo\n",
    "    if v: print(res_parts)\n",
    "    return sum(range_rating_number(part) for part in res_parts)"
   ]
  },
  {
   "cell_type": "code",
   "execution_count": 36,
   "id": "328ec021-dc9b-45a2-ac6d-ed7e3ae07afe",
   "metadata": {},
   "outputs": [
    {
     "data": {
      "text/plain": [
       "167409079868000"
      ]
     },
     "execution_count": 36,
     "metadata": {},
     "output_type": "execute_result"
    }
   ],
   "source": [
    "part2(test_input)"
   ]
  },
  {
   "cell_type": "code",
   "execution_count": 37,
   "id": "54c86c3d-71fb-4f65-96d0-338ddce0b34f",
   "metadata": {},
   "outputs": [
    {
     "data": {
      "text/plain": [
       "130303473508222"
      ]
     },
     "execution_count": 37,
     "metadata": {},
     "output_type": "execute_result"
    }
   ],
   "source": [
    "part2(puzzle_input)"
   ]
  },
  {
   "cell_type": "code",
   "execution_count": null,
   "id": "af690d14-c8cb-4e38-87e5-7007cfa31b80",
   "metadata": {},
   "outputs": [],
   "source": []
  }
 ],
 "metadata": {
  "kernelspec": {
   "display_name": "Python 3 (ipykernel)",
   "language": "python",
   "name": "python3"
  },
  "language_info": {
   "codemirror_mode": {
    "name": "ipython",
    "version": 3
   },
   "file_extension": ".py",
   "mimetype": "text/x-python",
   "name": "python",
   "nbconvert_exporter": "python",
   "pygments_lexer": "ipython3",
   "version": "3.11.5"
  }
 },
 "nbformat": 4,
 "nbformat_minor": 5
}
