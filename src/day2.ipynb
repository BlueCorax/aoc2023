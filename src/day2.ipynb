{
 "cells": [
  {
   "cell_type": "code",
   "execution_count": 1,
   "id": "27993677-9800-4074-9e23-b940c15d45ab",
   "metadata": {},
   "outputs": [],
   "source": [
    "from ipynb.fs.defs.utils import read_lines\n",
    "import re"
   ]
  },
  {
   "cell_type": "code",
   "execution_count": 2,
   "id": "97a8a409-fe29-4638-8b35-b3e4ba8c6d03",
   "metadata": {},
   "outputs": [],
   "source": [
    "puzzle_input = read_lines(\"day2.txt\")"
   ]
  },
  {
   "cell_type": "code",
   "execution_count": 3,
   "id": "65375e75-ed9e-44dd-9962-512e1b7b36dd",
   "metadata": {},
   "outputs": [],
   "source": [
    "test_game = 'Game 99: 6 green, 12 red, 1 blue; 5 blue, 1 red, 7 green; 5 green, 7 red, 10 blue; 8 blue, 1 red, 7 green; 17 red, 4 blue, 9 green\\n'"
   ]
  },
  {
   "cell_type": "code",
   "execution_count": 4,
   "id": "a83dbb1d-bc4f-4eef-9ee2-2abd64d2333c",
   "metadata": {},
   "outputs": [
    {
     "data": {
      "text/plain": [
       "('Game 99',\n",
       " ' 6 green, 12 red, 1 blue; 5 blue, 1 red, 7 green; 5 green, 7 red, 10 blue; 8 blue, 1 red, 7 green; 17 red, 4 blue, 9 green\\n')"
      ]
     },
     "execution_count": 4,
     "metadata": {},
     "output_type": "execute_result"
    }
   ],
   "source": [
    "game_name, game_protocol = test_game.split(':')\n",
    "game_name, game_protocol"
   ]
  },
  {
   "cell_type": "code",
   "execution_count": 5,
   "id": "4646840b-2ab1-42ac-86ff-33ec466d8dde",
   "metadata": {},
   "outputs": [
    {
     "data": {
      "text/plain": [
       "[' 6 green, 12 red, 1 blue',\n",
       " ' 5 blue, 1 red, 7 green',\n",
       " ' 5 green, 7 red, 10 blue',\n",
       " ' 8 blue, 1 red, 7 green',\n",
       " ' 17 red, 4 blue, 9 green']"
      ]
     },
     "execution_count": 5,
     "metadata": {},
     "output_type": "execute_result"
    }
   ],
   "source": [
    "darwings = game_protocol.replace('\\n', '').split(';')\n",
    "darwings"
   ]
  },
  {
   "cell_type": "code",
   "execution_count": 6,
   "id": "7a7d469b-49da-46ca-beee-fb2c8156f72d",
   "metadata": {},
   "outputs": [],
   "source": [
    "drawing = ' 6 green, 12 red, 1 blue'"
   ]
  },
  {
   "cell_type": "code",
   "execution_count": 7,
   "id": "f933c515-22f6-49bc-88ff-e2a475528f93",
   "metadata": {},
   "outputs": [
    {
     "data": {
      "text/plain": [
       "[' 6 green', ' 12 red', ' 1 blue']"
      ]
     },
     "execution_count": 7,
     "metadata": {},
     "output_type": "execute_result"
    }
   ],
   "source": [
    "colors = drawing.split(',')\n",
    "colors"
   ]
  },
  {
   "cell_type": "code",
   "execution_count": 8,
   "id": "9018db70-027e-4854-b2d1-5d01ae30e035",
   "metadata": {},
   "outputs": [],
   "source": [
    "color = ' 6 green'"
   ]
  },
  {
   "cell_type": "code",
   "execution_count": 9,
   "id": "f8176c7a-103c-498d-8fa0-827699980f56",
   "metadata": {},
   "outputs": [],
   "source": [
    "bag_content = {\n",
    "    'red': 12,\n",
    "    'green': 13,\n",
    "    'blue': 14\n",
    "}"
   ]
  },
  {
   "cell_type": "code",
   "execution_count": 10,
   "id": "0eb55ad8-9daf-476e-b190-67dfa12b147e",
   "metadata": {},
   "outputs": [],
   "source": [
    "def is_possible(color, amount):\n",
    "    possible = amount <= bag_content[color]\n",
    "    if not possible:\n",
    "        print(f'Impossible amount {amount} for color {color}')\n",
    "    return possible"
   ]
  },
  {
   "cell_type": "code",
   "execution_count": 11,
   "id": "632c5465-1dec-4a64-9018-7b42f0d8cb81",
   "metadata": {},
   "outputs": [],
   "source": [
    "def parse_color(color_string):\n",
    "    match = re.match(' (\\d+) (\\w+)', color_string)\n",
    "    return (match.group(2), int(match.group(1)))"
   ]
  },
  {
   "cell_type": "code",
   "execution_count": 12,
   "id": "24d5eb0e-52a8-4767-9ee8-48a547f0a756",
   "metadata": {},
   "outputs": [],
   "source": [
    "def is_valid_entry(color_entry):\n",
    "    color, amount = parse_color(color_entry)\n",
    "    return is_possible(color, amount)"
   ]
  },
  {
   "cell_type": "code",
   "execution_count": 13,
   "id": "f8973208-6cc1-4eb1-b0e5-7b5fa85e4ffa",
   "metadata": {},
   "outputs": [],
   "source": [
    "def is_valid_game(drawings_string):\n",
    "    subsets = drawings_string.replace('\\n', '').split(';')\n",
    "    for set in subsets:\n",
    "        color_entries = set.split(',')\n",
    "        for entry in color_entries:\n",
    "            if not is_valid_entry(entry):\n",
    "                return False\n",
    "    return True"
   ]
  },
  {
   "cell_type": "code",
   "execution_count": 14,
   "id": "1c87232f-f72a-4bac-9cf6-d051357655bb",
   "metadata": {},
   "outputs": [],
   "source": [
    "def get_game_id(game_id_string):\n",
    "    return int(re.match('Game (\\d+)', game_id_string).group(1))"
   ]
  },
  {
   "cell_type": "code",
   "execution_count": 15,
   "id": "14b0e967-cf43-4df5-92d3-4a075bc1b386",
   "metadata": {},
   "outputs": [],
   "source": [
    "def get_game_id_if_valid(game_string):\n",
    "    game_id_string, drawings = game_string.split(':')\n",
    "    game_id = get_game_id(game_id_string)\n",
    "    print(f'Processing game {game_id}')\n",
    "    if is_valid_game(drawings):\n",
    "        print(f'Game {game_id} is valid')\n",
    "        return game_id\n",
    "    else:\n",
    "        print(f'Game {game_id} is invalid')\n",
    "        return 0"
   ]
  },
  {
   "cell_type": "code",
   "execution_count": 16,
   "id": "8ce41d3f-200d-4556-97e9-da6feff3a36b",
   "metadata": {},
   "outputs": [
    {
     "name": "stdout",
     "output_type": "stream",
     "text": [
      "Processing game 99\n",
      "Impossible amount 17 for color red\n",
      "Game 99 is invalid\n"
     ]
    },
    {
     "data": {
      "text/plain": [
       "0"
      ]
     },
     "execution_count": 16,
     "metadata": {},
     "output_type": "execute_result"
    }
   ],
   "source": [
    "get_game_id_if_valid(test_game)"
   ]
  },
  {
   "cell_type": "code",
   "execution_count": 17,
   "id": "4324a879-c7c4-40ff-8187-2dc21ab6b85c",
   "metadata": {},
   "outputs": [
    {
     "name": "stdout",
     "output_type": "stream",
     "text": [
      "Processing game 1\n",
      "Impossible amount 16 for color blue\n",
      "Game 1 is invalid\n",
      "Processing game 2\n",
      "Game 2 is valid\n",
      "Processing game 3\n",
      "Impossible amount 19 for color blue\n",
      "Game 3 is invalid\n",
      "Processing game 4\n",
      "Impossible amount 14 for color red\n",
      "Game 4 is invalid\n",
      "Processing game 5\n",
      "Impossible amount 15 for color blue\n",
      "Game 5 is invalid\n",
      "Processing game 6\n",
      "Game 6 is valid\n",
      "Processing game 7\n",
      "Impossible amount 19 for color blue\n",
      "Game 7 is invalid\n",
      "Processing game 8\n",
      "Impossible amount 15 for color blue\n",
      "Game 8 is invalid\n",
      "Processing game 9\n",
      "Game 9 is valid\n",
      "Processing game 10\n",
      "Impossible amount 15 for color blue\n",
      "Game 10 is invalid\n",
      "Processing game 11\n",
      "Game 11 is valid\n",
      "Processing game 12\n",
      "Impossible amount 13 for color red\n",
      "Game 12 is invalid\n",
      "Processing game 13\n",
      "Impossible amount 19 for color red\n",
      "Game 13 is invalid\n",
      "Processing game 14\n",
      "Impossible amount 19 for color blue\n",
      "Game 14 is invalid\n",
      "Processing game 15\n",
      "Impossible amount 15 for color red\n",
      "Game 15 is invalid\n",
      "Processing game 16\n",
      "Game 16 is valid\n",
      "Processing game 17\n",
      "Impossible amount 13 for color red\n",
      "Game 17 is invalid\n",
      "Processing game 18\n",
      "Impossible amount 18 for color blue\n",
      "Game 18 is invalid\n",
      "Processing game 19\n",
      "Impossible amount 17 for color blue\n",
      "Game 19 is invalid\n",
      "Processing game 20\n",
      "Game 20 is valid\n",
      "Processing game 21\n",
      "Impossible amount 14 for color red\n",
      "Game 21 is invalid\n",
      "Processing game 22\n",
      "Impossible amount 14 for color red\n",
      "Game 22 is invalid\n",
      "Processing game 23\n",
      "Game 23 is valid\n",
      "Processing game 24\n",
      "Game 24 is valid\n",
      "Processing game 25\n",
      "Game 25 is valid\n",
      "Processing game 26\n",
      "Impossible amount 17 for color red\n",
      "Game 26 is invalid\n",
      "Processing game 27\n",
      "Impossible amount 14 for color green\n",
      "Game 27 is invalid\n",
      "Processing game 28\n",
      "Game 28 is valid\n",
      "Processing game 29\n",
      "Impossible amount 18 for color red\n",
      "Game 29 is invalid\n",
      "Processing game 30\n",
      "Impossible amount 15 for color red\n",
      "Game 30 is invalid\n",
      "Processing game 31\n",
      "Game 31 is valid\n",
      "Processing game 32\n",
      "Impossible amount 20 for color red\n",
      "Game 32 is invalid\n",
      "Processing game 33\n",
      "Game 33 is valid\n",
      "Processing game 34\n",
      "Impossible amount 16 for color red\n",
      "Game 34 is invalid\n",
      "Processing game 35\n",
      "Impossible amount 15 for color green\n",
      "Game 35 is invalid\n",
      "Processing game 36\n",
      "Game 36 is valid\n",
      "Processing game 37\n",
      "Impossible amount 14 for color red\n",
      "Game 37 is invalid\n",
      "Processing game 38\n",
      "Game 38 is valid\n",
      "Processing game 39\n",
      "Impossible amount 16 for color red\n",
      "Game 39 is invalid\n",
      "Processing game 40\n",
      "Game 40 is valid\n",
      "Processing game 41\n",
      "Impossible amount 13 for color red\n",
      "Game 41 is invalid\n",
      "Processing game 42\n",
      "Game 42 is valid\n",
      "Processing game 43\n",
      "Game 43 is valid\n",
      "Processing game 44\n",
      "Impossible amount 13 for color red\n",
      "Game 44 is invalid\n",
      "Processing game 45\n",
      "Game 45 is valid\n",
      "Processing game 46\n",
      "Game 46 is valid\n",
      "Processing game 47\n",
      "Impossible amount 15 for color green\n",
      "Game 47 is invalid\n",
      "Processing game 48\n",
      "Game 48 is valid\n",
      "Processing game 49\n",
      "Impossible amount 17 for color green\n",
      "Game 49 is invalid\n",
      "Processing game 50\n",
      "Game 50 is valid\n",
      "Processing game 51\n",
      "Game 51 is valid\n",
      "Processing game 52\n",
      "Game 52 is valid\n",
      "Processing game 53\n",
      "Game 53 is valid\n",
      "Processing game 54\n",
      "Impossible amount 16 for color green\n",
      "Game 54 is invalid\n",
      "Processing game 55\n",
      "Impossible amount 16 for color green\n",
      "Game 55 is invalid\n",
      "Processing game 56\n",
      "Game 56 is valid\n",
      "Processing game 57\n",
      "Game 57 is valid\n",
      "Processing game 58\n",
      "Impossible amount 15 for color blue\n",
      "Game 58 is invalid\n",
      "Processing game 59\n",
      "Impossible amount 20 for color red\n",
      "Game 59 is invalid\n",
      "Processing game 60\n",
      "Impossible amount 18 for color green\n",
      "Game 60 is invalid\n",
      "Processing game 61\n",
      "Game 61 is valid\n",
      "Processing game 62\n",
      "Impossible amount 18 for color blue\n",
      "Game 62 is invalid\n",
      "Processing game 63\n",
      "Impossible amount 20 for color blue\n",
      "Game 63 is invalid\n",
      "Processing game 64\n",
      "Game 64 is valid\n",
      "Processing game 65\n",
      "Game 65 is valid\n",
      "Processing game 66\n",
      "Impossible amount 19 for color green\n",
      "Game 66 is invalid\n",
      "Processing game 67\n",
      "Game 67 is valid\n",
      "Processing game 68\n",
      "Impossible amount 14 for color red\n",
      "Game 68 is invalid\n",
      "Processing game 69\n",
      "Impossible amount 15 for color green\n",
      "Game 69 is invalid\n",
      "Processing game 70\n",
      "Game 70 is valid\n",
      "Processing game 71\n",
      "Impossible amount 18 for color green\n",
      "Game 71 is invalid\n",
      "Processing game 72\n",
      "Game 72 is valid\n",
      "Processing game 73\n",
      "Game 73 is valid\n",
      "Processing game 74\n",
      "Impossible amount 15 for color green\n",
      "Game 74 is invalid\n",
      "Processing game 75\n",
      "Impossible amount 17 for color green\n",
      "Game 75 is invalid\n",
      "Processing game 76\n",
      "Impossible amount 14 for color red\n",
      "Game 76 is invalid\n",
      "Processing game 77\n",
      "Impossible amount 14 for color green\n",
      "Game 77 is invalid\n",
      "Processing game 78\n",
      "Game 78 is valid\n",
      "Processing game 79\n",
      "Impossible amount 19 for color green\n",
      "Game 79 is invalid\n",
      "Processing game 80\n",
      "Impossible amount 15 for color blue\n",
      "Game 80 is invalid\n",
      "Processing game 81\n",
      "Impossible amount 19 for color blue\n",
      "Game 81 is invalid\n",
      "Processing game 82\n",
      "Impossible amount 18 for color red\n",
      "Game 82 is invalid\n",
      "Processing game 83\n",
      "Impossible amount 16 for color green\n",
      "Game 83 is invalid\n",
      "Processing game 84\n",
      "Game 84 is valid\n",
      "Processing game 85\n",
      "Game 85 is valid\n",
      "Processing game 86\n",
      "Game 86 is valid\n",
      "Processing game 87\n",
      "Game 87 is valid\n",
      "Processing game 88\n",
      "Impossible amount 17 for color red\n",
      "Game 88 is invalid\n",
      "Processing game 89\n",
      "Impossible amount 15 for color red\n",
      "Game 89 is invalid\n",
      "Processing game 90\n",
      "Impossible amount 17 for color blue\n",
      "Game 90 is invalid\n",
      "Processing game 91\n",
      "Game 91 is valid\n",
      "Processing game 92\n",
      "Game 92 is valid\n",
      "Processing game 93\n",
      "Impossible amount 16 for color green\n",
      "Game 93 is invalid\n",
      "Processing game 94\n",
      "Impossible amount 17 for color blue\n",
      "Game 94 is invalid\n",
      "Processing game 95\n",
      "Game 95 is valid\n",
      "Processing game 96\n",
      "Game 96 is valid\n",
      "Processing game 97\n",
      "Game 97 is valid\n",
      "Processing game 98\n",
      "Impossible amount 16 for color red\n",
      "Game 98 is invalid\n",
      "Processing game 99\n",
      "Impossible amount 17 for color red\n",
      "Game 99 is invalid\n",
      "Processing game 100\n",
      "Game 100 is valid\n"
     ]
    },
    {
     "data": {
      "text/plain": [
       "2348"
      ]
     },
     "execution_count": 17,
     "metadata": {},
     "output_type": "execute_result"
    }
   ],
   "source": [
    "sum([get_game_id_if_valid(game) for game in puzzle_input])"
   ]
  },
  {
   "cell_type": "code",
   "execution_count": 18,
   "id": "2cb1ddde-5505-4789-a849-0f9ee80f0dc3",
   "metadata": {},
   "outputs": [],
   "source": [
    "def get_game_power(game_string):\n",
    "    game_id_string, drawings = game_string.split(':')\n",
    "    game_id = get_game_id(game_id_string)\n",
    "    print(f'Processing game {game_id}')\n",
    "    red, green, blue = get_max(drawings)\n",
    "    dice_power = red * green * blue\n",
    "    print(f'Game {game_id} has power {dice_power} from colors {red=}, {green=}, {blue=}')\n",
    "    return dice_power"
   ]
  },
  {
   "cell_type": "code",
   "execution_count": 19,
   "id": "d6d00f0d-5d55-42bb-b6aa-f8865ff37853",
   "metadata": {},
   "outputs": [],
   "source": [
    "def get_max(drawings_string):\n",
    "    subsets = drawings_string.replace('\\n', '').split(';')\n",
    "    max_dice = { 'red': 0, 'green': 0, 'blue': 0 }\n",
    "    for set in subsets:\n",
    "        color_entries = set.split(',')\n",
    "        for entry in color_entries:\n",
    "            color, amount = parse_color(entry)\n",
    "            max_dice[color] = max(amount, max_dice[color])\n",
    "    return max_dice['red'], max_dice['green'], max_dice['blue']"
   ]
  },
  {
   "cell_type": "code",
   "execution_count": 20,
   "id": "fc1b9a6b-1b4e-4b9c-82dd-1998c9b03a60",
   "metadata": {},
   "outputs": [
    {
     "name": "stdout",
     "output_type": "stream",
     "text": [
      "Processing game 99\n",
      "Game 99 has power 1530 from colors red=17, green=9, blue=10\n"
     ]
    },
    {
     "data": {
      "text/plain": [
       "1530"
      ]
     },
     "execution_count": 20,
     "metadata": {},
     "output_type": "execute_result"
    }
   ],
   "source": [
    "get_game_power(test_game)"
   ]
  },
  {
   "cell_type": "code",
   "execution_count": 21,
   "id": "bce46cb5-7a69-4441-9c5d-21bc2e2a1ba7",
   "metadata": {},
   "outputs": [
    {
     "name": "stdout",
     "output_type": "stream",
     "text": [
      "Processing game 1\n",
      "Game 1 has power 80 from colors red=5, green=1, blue=16\n",
      "Processing game 2\n",
      "Game 2 has power 252 from colors red=4, green=7, blue=9\n",
      "Processing game 3\n",
      "Game 3 has power 171 from colors red=9, green=1, blue=19\n",
      "Processing game 4\n",
      "Game 4 has power 2156 from colors red=14, green=11, blue=14\n",
      "Processing game 5\n",
      "Game 5 has power 360 from colors red=12, green=2, blue=15\n",
      "Processing game 6\n",
      "Game 6 has power 32 from colors red=8, green=4, blue=1\n",
      "Processing game 7\n",
      "Game 7 has power 570 from colors red=2, green=15, blue=19\n",
      "Processing game 8\n",
      "Game 8 has power 1485 from colors red=9, green=11, blue=15\n",
      "Processing game 9\n",
      "Game 9 has power 36 from colors red=3, green=3, blue=4\n",
      "Processing game 10\n",
      "Game 10 has power 420 from colors red=7, green=4, blue=15\n",
      "Processing game 11\n",
      "Game 11 has power 200 from colors red=10, green=2, blue=10\n",
      "Processing game 12\n",
      "Game 12 has power 585 from colors red=13, green=9, blue=5\n",
      "Processing game 13\n",
      "Game 13 has power 1330 from colors red=19, green=10, blue=7\n",
      "Processing game 14\n",
      "Game 14 has power 266 from colors red=7, green=2, blue=19\n",
      "Processing game 15\n",
      "Game 15 has power 7200 from colors red=20, green=18, blue=20\n",
      "Processing game 16\n",
      "Game 16 has power 36 from colors red=6, green=6, blue=1\n",
      "Processing game 17\n",
      "Game 17 has power 1404 from colors red=13, green=9, blue=12\n",
      "Processing game 18\n",
      "Game 18 has power 1782 from colors red=11, green=9, blue=18\n",
      "Processing game 19\n",
      "Game 19 has power 714 from colors red=6, green=7, blue=17\n",
      "Processing game 20\n",
      "Game 20 has power 450 from colors red=9, green=5, blue=10\n",
      "Processing game 21\n",
      "Game 21 has power 14 from colors red=14, green=1, blue=1\n",
      "Processing game 22\n",
      "Game 22 has power 1008 from colors red=14, green=8, blue=9\n",
      "Processing game 23\n",
      "Game 23 has power 234 from colors red=3, green=13, blue=6\n",
      "Processing game 24\n",
      "Game 24 has power 392 from colors red=8, green=7, blue=7\n",
      "Processing game 25\n",
      "Game 25 has power 64 from colors red=2, green=4, blue=8\n",
      "Processing game 26\n",
      "Game 26 has power 594 from colors red=18, green=3, blue=11\n",
      "Processing game 27\n",
      "Game 27 has power 168 from colors red=2, green=14, blue=6\n",
      "Processing game 28\n",
      "Game 28 has power 208 from colors red=4, green=13, blue=4\n",
      "Processing game 29\n",
      "Game 29 has power 1080 from colors red=18, green=15, blue=4\n",
      "Processing game 30\n",
      "Game 30 has power 270 from colors red=15, green=6, blue=3\n",
      "Processing game 31\n",
      "Game 31 has power 384 from colors red=12, green=8, blue=4\n",
      "Processing game 32\n",
      "Game 32 has power 1520 from colors red=20, green=19, blue=4\n",
      "Processing game 33\n",
      "Game 33 has power 378 from colors red=9, green=6, blue=7\n",
      "Processing game 34\n",
      "Game 34 has power 1872 from colors red=18, green=8, blue=13\n",
      "Processing game 35\n",
      "Game 35 has power 1680 from colors red=7, green=15, blue=16\n",
      "Processing game 36\n",
      "Game 36 has power 351 from colors red=9, green=3, blue=13\n",
      "Processing game 37\n",
      "Game 37 has power 1232 from colors red=14, green=8, blue=11\n",
      "Processing game 38\n",
      "Game 38 has power 270 from colors red=3, green=10, blue=9\n",
      "Processing game 39\n",
      "Game 39 has power 192 from colors red=16, green=4, blue=3\n",
      "Processing game 40\n",
      "Game 40 has power 36 from colors red=9, green=2, blue=2\n",
      "Processing game 41\n",
      "Game 41 has power 1071 from colors red=17, green=7, blue=9\n",
      "Processing game 42\n",
      "Game 42 has power 18 from colors red=9, green=2, blue=1\n",
      "Processing game 43\n",
      "Game 43 has power 1008 from colors red=9, green=8, blue=14\n",
      "Processing game 44\n",
      "Game 44 has power 480 from colors red=16, green=10, blue=3\n",
      "Processing game 45\n",
      "Game 45 has power 10 from colors red=1, green=2, blue=5\n",
      "Processing game 46\n",
      "Game 46 has power 560 from colors red=4, green=10, blue=14\n",
      "Processing game 47\n",
      "Game 47 has power 270 from colors red=6, green=15, blue=3\n",
      "Processing game 48\n",
      "Game 48 has power 396 from colors red=3, green=12, blue=11\n",
      "Processing game 49\n",
      "Game 49 has power 1088 from colors red=4, green=17, blue=16\n",
      "Processing game 50\n",
      "Game 50 has power 440 from colors red=5, green=11, blue=8\n",
      "Processing game 51\n",
      "Game 51 has power 20 from colors red=2, green=10, blue=1\n",
      "Processing game 52\n",
      "Game 52 has power 792 from colors red=9, green=8, blue=11\n",
      "Processing game 53\n",
      "Game 53 has power 55 from colors red=11, green=1, blue=5\n",
      "Processing game 54\n",
      "Game 54 has power 176 from colors red=1, green=16, blue=11\n",
      "Processing game 55\n",
      "Game 55 has power 2128 from colors red=7, green=16, blue=19\n",
      "Processing game 56\n",
      "Game 56 has power 144 from colors red=1, green=12, blue=12\n",
      "Processing game 57\n",
      "Game 57 has power 30 from colors red=1, green=3, blue=10\n",
      "Processing game 58\n",
      "Game 58 has power 270 from colors red=6, green=3, blue=15\n",
      "Processing game 59\n",
      "Game 59 has power 720 from colors red=20, green=9, blue=4\n",
      "Processing game 60\n",
      "Game 60 has power 3168 from colors red=16, green=18, blue=11\n",
      "Processing game 61\n",
      "Game 61 has power 80 from colors red=10, green=1, blue=8\n",
      "Processing game 62\n",
      "Game 62 has power 72 from colors red=1, green=4, blue=18\n",
      "Processing game 63\n",
      "Game 63 has power 700 from colors red=7, green=5, blue=20\n",
      "Processing game 64\n",
      "Game 64 has power 480 from colors red=5, green=12, blue=8\n",
      "Processing game 65\n",
      "Game 65 has power 234 from colors red=9, green=2, blue=13\n",
      "Processing game 66\n",
      "Game 66 has power 969 from colors red=3, green=19, blue=17\n",
      "Processing game 67\n",
      "Game 67 has power 140 from colors red=2, green=10, blue=7\n",
      "Processing game 68\n",
      "Game 68 has power 1680 from colors red=14, green=10, blue=12\n",
      "Processing game 69\n",
      "Game 69 has power 195 from colors red=13, green=15, blue=1\n",
      "Processing game 70\n",
      "Game 70 has power 1144 from colors red=8, green=13, blue=11\n",
      "Processing game 71\n",
      "Game 71 has power 480 from colors red=4, green=20, blue=6\n",
      "Processing game 72\n",
      "Game 72 has power 32 from colors red=2, green=4, blue=4\n",
      "Processing game 73\n",
      "Game 73 has power 660 from colors red=11, green=12, blue=5\n",
      "Processing game 74\n",
      "Game 74 has power 5776 from colors red=19, green=16, blue=19\n",
      "Processing game 75\n",
      "Game 75 has power 2223 from colors red=13, green=19, blue=9\n",
      "Processing game 76\n",
      "Game 76 has power 675 from colors red=15, green=5, blue=9\n",
      "Processing game 77\n",
      "Game 77 has power 3136 from colors red=14, green=14, blue=16\n",
      "Processing game 78\n",
      "Game 78 has power 210 from colors red=7, green=3, blue=10\n",
      "Processing game 79\n",
      "Game 79 has power 2261 from colors red=7, green=19, blue=17\n",
      "Processing game 80\n",
      "Game 80 has power 480 from colors red=2, green=16, blue=15\n",
      "Processing game 81\n",
      "Game 81 has power 57 from colors red=3, green=1, blue=19\n",
      "Processing game 82\n",
      "Game 82 has power 486 from colors red=18, green=9, blue=3\n",
      "Processing game 83\n",
      "Game 83 has power 1120 from colors red=4, green=20, blue=14\n",
      "Processing game 84\n",
      "Game 84 has power 468 from colors red=6, green=13, blue=6\n",
      "Processing game 85\n",
      "Game 85 has power 250 from colors red=5, green=10, blue=5\n",
      "Processing game 86\n",
      "Game 86 has power 81 from colors red=3, green=9, blue=3\n",
      "Processing game 87\n",
      "Game 87 has power 168 from colors red=6, green=4, blue=7\n",
      "Processing game 88\n",
      "Game 88 has power 663 from colors red=17, green=13, blue=3\n",
      "Processing game 89\n",
      "Game 89 has power 1050 from colors red=15, green=7, blue=10\n",
      "Processing game 90\n",
      "Game 90 has power 153 from colors red=9, green=1, blue=17\n",
      "Processing game 91\n",
      "Game 91 has power 630 from colors red=10, green=9, blue=7\n",
      "Processing game 92\n",
      "Game 92 has power 819 from colors red=9, green=7, blue=13\n",
      "Processing game 93\n",
      "Game 93 has power 96 from colors red=6, green=16, blue=1\n",
      "Processing game 94\n",
      "Game 94 has power 1224 from colors red=6, green=12, blue=17\n",
      "Processing game 95\n",
      "Game 95 has power 392 from colors red=8, green=7, blue=7\n",
      "Processing game 96\n",
      "Game 96 has power 126 from colors red=3, green=6, blue=7\n",
      "Processing game 97\n",
      "Game 97 has power 88 from colors red=11, green=4, blue=2\n",
      "Processing game 98\n",
      "Game 98 has power 576 from colors red=18, green=8, blue=4\n",
      "Processing game 99\n",
      "Game 99 has power 1530 from colors red=17, green=9, blue=10\n",
      "Processing game 100\n",
      "Game 100 has power 84 from colors red=1, green=12, blue=7\n"
     ]
    },
    {
     "data": {
      "text/plain": [
       "76008"
      ]
     },
     "execution_count": 21,
     "metadata": {},
     "output_type": "execute_result"
    }
   ],
   "source": [
    "sum([get_game_power(game) for game in puzzle_input])"
   ]
  },
  {
   "cell_type": "code",
   "execution_count": null,
   "id": "90b2b8b8-941d-400d-a38f-7796341ad525",
   "metadata": {},
   "outputs": [],
   "source": []
  }
 ],
 "metadata": {
  "kernelspec": {
   "display_name": "Python 3 (ipykernel)",
   "language": "python",
   "name": "python3"
  },
  "language_info": {
   "codemirror_mode": {
    "name": "ipython",
    "version": 3
   },
   "file_extension": ".py",
   "mimetype": "text/x-python",
   "name": "python",
   "nbconvert_exporter": "python",
   "pygments_lexer": "ipython3",
   "version": "3.11.6"
  }
 },
 "nbformat": 4,
 "nbformat_minor": 5
}
