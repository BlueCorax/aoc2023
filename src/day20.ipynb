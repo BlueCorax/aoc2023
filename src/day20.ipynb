{
 "cells": [
  {
   "cell_type": "markdown",
   "id": "2e0182ac-1a34-4e8a-8444-5e7e2d8d0db7",
   "metadata": {},
   "source": [
    "# Day 20"
   ]
  },
  {
   "cell_type": "code",
   "execution_count": 1,
   "id": "df0b372d-ab0f-48cc-bbbd-1eb2e223a5db",
   "metadata": {},
   "outputs": [],
   "source": [
    "from ipynb.fs.defs.utils import read_lines \n",
    "from collections import deque \n",
    "from collections import defaultdict\n",
    "from math import lcm"
   ]
  },
  {
   "cell_type": "code",
   "execution_count": 2,
   "id": "d98eee68-5d21-4bfc-a4d6-d7f1f0e61758",
   "metadata": {},
   "outputs": [],
   "source": [
    "puzzle_input = read_lines('day20.txt')"
   ]
  },
  {
   "cell_type": "code",
   "execution_count": 3,
   "id": "9aa5ac94-dcd6-4dc2-846c-cdb5b58efc29",
   "metadata": {},
   "outputs": [],
   "source": [
    "test_input = \"\"\"broadcaster -> a, b, c\n",
    "%a -> b\n",
    "%b -> c\n",
    "%c -> inv\n",
    "&inv -> a\"\"\".splitlines()"
   ]
  },
  {
   "cell_type": "code",
   "execution_count": 4,
   "id": "5bddd74e-b42e-4c58-b8b4-240b7bcd4188",
   "metadata": {},
   "outputs": [],
   "source": [
    "def parse_module(line):\n",
    "    name, dest_list = line.split(' -> ')\n",
    "    if name == 'broadcaster':\n",
    "        type = 'b'\n",
    "        id = name\n",
    "    else:\n",
    "        type = name[0]\n",
    "        id = name[1:]\n",
    "    dests = dest_list.split(', ')\n",
    "    return id, type, dests"
   ]
  },
  {
   "cell_type": "code",
   "execution_count": 5,
   "id": "a1e71653-d860-46e9-b57a-6aea231e7fe0",
   "metadata": {},
   "outputs": [],
   "source": [
    "def parse_input(inp):\n",
    "    return [parse_module(l) for l in inp]"
   ]
  },
  {
   "cell_type": "code",
   "execution_count": 6,
   "id": "863d42f3-bebe-48a5-9b79-9c6c45d216cf",
   "metadata": {},
   "outputs": [
    {
     "data": {
      "text/plain": [
       "[('broadcaster', 'b', ['a', 'b', 'c']),\n",
       " ('a', '%', ['b']),\n",
       " ('b', '%', ['c']),\n",
       " ('c', '%', ['inv']),\n",
       " ('inv', '&', ['a'])]"
      ]
     },
     "execution_count": 6,
     "metadata": {},
     "output_type": "execute_result"
    }
   ],
   "source": [
    "test_defs = parse_input(test_input)\n",
    "test_defs"
   ]
  },
  {
   "cell_type": "code",
   "execution_count": 7,
   "id": "4b35eb40-79f6-4349-97ce-e3fb344c4453",
   "metadata": {},
   "outputs": [],
   "source": [
    "def init(module_definitions):\n",
    "    modules = { id: {'type': type, 'mem': None, 'out': dests } for id, type, dests in module_definitions }\n",
    "    modules['rx'] = {'type': 'x', 'mem': 0, 'out': [] }\n",
    "    input_modules = defaultdict(list)\n",
    "    for id, state in modules.items():\n",
    "        for o in state['out']:\n",
    "            input_modules[o].append(id)\n",
    "    for id, state in modules.items():\n",
    "        if state['type'] == '%':\n",
    "            state['mem'] = False\n",
    "        elif state['type'] == '&':\n",
    "            state['mem'] = {inp: 0 for inp in input_modules[id]}\n",
    "    return modules"
   ]
  },
  {
   "cell_type": "code",
   "execution_count": 8,
   "id": "84455dd3-efea-469d-87fe-b3c424b0c84b",
   "metadata": {},
   "outputs": [
    {
     "data": {
      "text/plain": [
       "{'broadcaster': {'type': 'b', 'mem': None, 'out': ['a', 'b', 'c']},\n",
       " 'a': {'type': '%', 'mem': False, 'out': ['b']},\n",
       " 'b': {'type': '%', 'mem': False, 'out': ['c']},\n",
       " 'c': {'type': '%', 'mem': False, 'out': ['inv']},\n",
       " 'inv': {'type': '&', 'mem': {'c': 0}, 'out': ['a']},\n",
       " 'rx': {'type': 'x', 'mem': 0, 'out': []}}"
      ]
     },
     "execution_count": 8,
     "metadata": {},
     "output_type": "execute_result"
    }
   ],
   "source": [
    "test_modules = init(test_defs)\n",
    "test_modules"
   ]
  },
  {
   "cell_type": "code",
   "execution_count": 9,
   "id": "d4d0ab3a-c820-4029-9075-158eaf6230c5",
   "metadata": {},
   "outputs": [],
   "source": [
    "def consume(event, modules, i):\n",
    "    id, pulse, src = event\n",
    "    #print(f'{src} -- {pulse} --> {id}')\n",
    "    actions = []\n",
    "    state = modules[id]\n",
    "    type = state['type']\n",
    "    if type == 'b':\n",
    "        actions = [(o, pulse, id) for o in state['out']]\n",
    "    elif type == '%':\n",
    "        if pulse == 0:\n",
    "            state['mem'] = not state['mem']\n",
    "            out_p = 1 if state['mem']  else 0\n",
    "            actions = [(o, out_p, id) for o in state['out']]\n",
    "    elif type == '&':\n",
    "        if id == 'll' and  pulse == 1:\n",
    "            print(f'{src}, {i}')\n",
    "        state['mem'][src] = pulse\n",
    "        if not any(v == 0 for v in state['mem'].values()): # all 1\n",
    "            out_p = 0\n",
    "        else:\n",
    "            out_p = 1\n",
    "        actions = [(o, out_p, id) for o in state['out']]\n",
    "    return actions, modules"
   ]
  },
  {
   "cell_type": "code",
   "execution_count": 10,
   "id": "b1c88c68-658d-4b16-9e9c-5276eef74544",
   "metadata": {},
   "outputs": [
    {
     "data": {
      "text/plain": [
       "([('a', 0, 'inv')],\n",
       " {'broadcaster': {'type': 'b', 'mem': None, 'out': ['a', 'b', 'c']},\n",
       "  'a': {'type': '%', 'mem': False, 'out': ['b']},\n",
       "  'b': {'type': '%', 'mem': False, 'out': ['c']},\n",
       "  'c': {'type': '%', 'mem': False, 'out': ['inv']},\n",
       "  'inv': {'type': '&', 'mem': {'c': 1}, 'out': ['a']},\n",
       "  'rx': {'type': 'x', 'mem': 0, 'out': []}})"
      ]
     },
     "execution_count": 10,
     "metadata": {},
     "output_type": "execute_result"
    }
   ],
   "source": [
    "test_modules = init(test_defs)\n",
    "consume(('inv', 1, 'c'), test_modules, 0)"
   ]
  },
  {
   "cell_type": "code",
   "execution_count": 11,
   "id": "f36f3bd3-9319-4666-9d0f-22bf7954cc8e",
   "metadata": {},
   "outputs": [],
   "source": [
    "def push_button(modules, i):\n",
    "    actions = deque()\n",
    "    actions.append(('broadcaster', 0, None))\n",
    "    l_pulse = 0\n",
    "    h_pulse = 0\n",
    "    while len(actions) > 0:\n",
    "        event = actions.popleft()\n",
    "        if event[1] == 0:\n",
    "            l_pulse += 1\n",
    "        else:\n",
    "            h_pulse += 1\n",
    "        new_actions, modules = consume(event, modules, i)\n",
    "        for act in new_actions:\n",
    "            actions.append(act)\n",
    "    return modules, l_pulse, h_pulse"
   ]
  },
  {
   "cell_type": "code",
   "execution_count": 12,
   "id": "dea8e384-04b2-4750-ad15-026e474d90d1",
   "metadata": {},
   "outputs": [
    {
     "data": {
      "text/plain": [
       "({'broadcaster': {'type': 'b', 'mem': None, 'out': ['a', 'b', 'c']},\n",
       "  'a': {'type': '%', 'mem': False, 'out': ['b']},\n",
       "  'b': {'type': '%', 'mem': False, 'out': ['c']},\n",
       "  'c': {'type': '%', 'mem': False, 'out': ['inv']},\n",
       "  'inv': {'type': '&', 'mem': {'c': 0}, 'out': ['a']},\n",
       "  'rx': {'type': 'x', 'mem': 0, 'out': []}},\n",
       " 8,\n",
       " 4)"
      ]
     },
     "execution_count": 12,
     "metadata": {},
     "output_type": "execute_result"
    }
   ],
   "source": [
    "push_button(init(test_defs), 0)"
   ]
  },
  {
   "cell_type": "code",
   "execution_count": 13,
   "id": "5f9bde2c-c382-4928-9d68-f197723f3e63",
   "metadata": {},
   "outputs": [
    {
     "name": "stdout",
     "output_type": "stream",
     "text": [
      "{'broadcaster': {'type': 'b', 'mem': None, 'out': ['a', 'b', 'c']}, 'a': {'type': '%', 'mem': False, 'out': ['b']}, 'b': {'type': '%', 'mem': False, 'out': ['c']}, 'c': {'type': '%', 'mem': False, 'out': ['inv']}, 'inv': {'type': '&', 'mem': {'c': 0}, 'out': ['a']}, 'rx': {'type': 'x', 'mem': 0, 'out': []}} 8 4\n",
      "second push\n",
      "{'broadcaster': {'type': 'b', 'mem': None, 'out': ['a', 'b', 'c']}, 'a': {'type': '%', 'mem': False, 'out': ['b']}, 'b': {'type': '%', 'mem': False, 'out': ['c']}, 'c': {'type': '%', 'mem': False, 'out': ['inv']}, 'inv': {'type': '&', 'mem': {'c': 0}, 'out': ['a']}, 'rx': {'type': 'x', 'mem': 0, 'out': []}} 8 4\n"
     ]
    }
   ],
   "source": [
    "test2_defs = test_defs\n",
    "modules, l, h = push_button(init(test2_defs), 0)\n",
    "print(modules, l, h)\n",
    "print('second push')\n",
    "modules, l, h = push_button(init(test2_defs), 0)\n",
    "print(modules, l, h)"
   ]
  },
  {
   "cell_type": "code",
   "execution_count": 14,
   "id": "1b2bb102-000a-4058-acf4-4324a49bdca0",
   "metadata": {},
   "outputs": [],
   "source": [
    "def part1(inp):\n",
    "    defs = parse_input(inp)\n",
    "    modules = init(defs)\n",
    "    l_pulse = 0\n",
    "    h_pulse = 0\n",
    "    for _ in range(1000):\n",
    "        modules, l, h = push_button(modules,0 )\n",
    "        l_pulse += l\n",
    "        h_pulse += h\n",
    "    return l_pulse * h_pulse"
   ]
  },
  {
   "cell_type": "code",
   "execution_count": 15,
   "id": "3882e93c-da0c-427f-9de0-5e187cb53439",
   "metadata": {},
   "outputs": [
    {
     "data": {
      "text/plain": [
       "743090292"
      ]
     },
     "execution_count": 15,
     "metadata": {},
     "output_type": "execute_result"
    }
   ],
   "source": [
    "part1(puzzle_input)"
   ]
  },
  {
   "cell_type": "code",
   "execution_count": 16,
   "id": "96403750-18e1-4a92-98b3-5312ab2f77e0",
   "metadata": {},
   "outputs": [],
   "source": [
    "def print_graph(modules):\n",
    "    todo = deque()\n",
    "    processed = []\n",
    "    output_lines = []\n",
    "    todo.append('broadcaster')\n",
    "    while len(todo) > 0:\n",
    "        node = todo.popleft()\n",
    "        if not node in processed:\n",
    "            output_lines += [f'{node} {o}' for o in modules[node]['out']]\n",
    "            processed.append(node)\n",
    "            for o in modules[node]['out']:\n",
    "                todo.append(o)\n",
    "    print('\\n'.join(output_lines))"
   ]
  },
  {
   "cell_type": "code",
   "execution_count": 17,
   "id": "50569b89-067d-4247-b8de-68dab461220f",
   "metadata": {},
   "outputs": [
    {
     "name": "stdout",
     "output_type": "stream",
     "text": [
      "broadcaster lp\n",
      "broadcaster fn\n",
      "broadcaster tp\n",
      "broadcaster zz\n",
      "lp gv\n",
      "lp tj\n",
      "fn th\n",
      "fn bv\n",
      "tp hb\n",
      "tp sv\n",
      "zz fj\n",
      "zz ff\n",
      "gv ct\n",
      "tj xh\n",
      "tj gv\n",
      "tj gz\n",
      "tj bt\n",
      "tj ct\n",
      "tj vb\n",
      "tj lp\n",
      "th tq\n",
      "th lr\n",
      "th vm\n",
      "th fn\n",
      "th qr\n",
      "bv th\n",
      "bv lr\n",
      "hb sv\n",
      "hb xf\n",
      "hb kv\n",
      "hb tp\n",
      "hb mx\n",
      "sv ch\n",
      "fj rs\n",
      "ff kl\n",
      "ff zd\n",
      "ff lg\n",
      "ff zz\n",
      "ff fj\n",
      "ff zp\n",
      "ct xh\n",
      "xh js\n",
      "gz dg\n",
      "bt kc\n",
      "vb ll\n",
      "tq mf\n",
      "lr tq\n",
      "vm ll\n",
      "qr jj\n",
      "xf km\n",
      "kv ll\n",
      "mx xp\n",
      "ch hb\n",
      "ch mv\n",
      "rs sq\n",
      "rs ff\n",
      "kl ll\n",
      "zd zp\n",
      "lg vd\n",
      "zp bn\n",
      "js tj\n",
      "js bt\n",
      "dg rf\n",
      "dg tj\n",
      "kc qm\n",
      "kc tj\n",
      "ll rx\n",
      "mf th\n",
      "mf qr\n",
      "jj xt\n",
      "jj th\n",
      "km fz\n",
      "km hb\n",
      "xp hb\n",
      "xp xf\n",
      "mv hb\n",
      "mv mx\n",
      "sq zd\n",
      "sq ff\n",
      "vd ff\n",
      "vd mb\n",
      "bn ff\n",
      "bn lg\n",
      "rf lq\n",
      "rf tj\n",
      "qm gz\n",
      "qm tj\n",
      "xt rk\n",
      "xt th\n",
      "fz hb\n",
      "fz dx\n",
      "mb ld\n",
      "mb ff\n",
      "lq tj\n",
      "rk rc\n",
      "rk th\n",
      "dx hb\n",
      "dx fx\n",
      "ld fq\n",
      "ld ff\n",
      "rc st\n",
      "rc th\n",
      "fx rl\n",
      "fx hb\n",
      "fq ff\n",
      "st th\n",
      "st jh\n",
      "rl hb\n",
      "jh th\n"
     ]
    }
   ],
   "source": [
    "print_graph(init(parse_input(puzzle_input)))"
   ]
  },
  {
   "cell_type": "code",
   "execution_count": 18,
   "id": "43dd0c53-bc8a-42ba-87d3-78c54771eaba",
   "metadata": {},
   "outputs": [],
   "source": [
    "def part2(inp):\n",
    "    defs = parse_input(inp)\n",
    "    modules = init(defs)\n",
    "    l_pulse = 0\n",
    "    h_pulse = 0\n",
    "    i = 1\n",
    "    #invocs = defaultdict(list)\n",
    "    while i < 20000:\n",
    "        modules, l, h = push_button(modules, i)\n",
    "        i += 1\n",
    "    return "
   ]
  },
  {
   "cell_type": "code",
   "execution_count": 19,
   "id": "2f3fd8c0-b1f6-491f-bb88-7d3d269de054",
   "metadata": {},
   "outputs": [
    {
     "name": "stdout",
     "output_type": "stream",
     "text": [
      "vb, 3793\n",
      "kl, 3917\n",
      "kv, 4013\n",
      "vm, 4051\n",
      "vb, 7586\n",
      "kl, 7834\n",
      "kv, 8026\n",
      "vm, 8102\n",
      "vb, 11379\n",
      "kl, 11751\n",
      "kv, 12039\n",
      "vm, 12153\n",
      "vb, 15172\n",
      "kl, 15668\n",
      "kv, 16052\n",
      "vm, 16204\n",
      "vb, 18965\n",
      "kl, 19585\n"
     ]
    }
   ],
   "source": [
    "part2(puzzle_input)"
   ]
  },
  {
   "cell_type": "code",
   "execution_count": 20,
   "id": "b7fc41d0-46bd-40e0-a1ea-3bc953511cef",
   "metadata": {},
   "outputs": [
    {
     "data": {
      "text/plain": [
       "3793"
      ]
     },
     "execution_count": 20,
     "metadata": {},
     "output_type": "execute_result"
    }
   ],
   "source": [
    "7586 - 3793"
   ]
  },
  {
   "cell_type": "code",
   "execution_count": 21,
   "id": "d44cb63a-b6af-4779-8802-04a1ed6e3ddc",
   "metadata": {},
   "outputs": [
    {
     "data": {
      "text/plain": [
       "3917"
      ]
     },
     "execution_count": 21,
     "metadata": {},
     "output_type": "execute_result"
    }
   ],
   "source": [
    "7834 - 3917"
   ]
  },
  {
   "cell_type": "code",
   "execution_count": 22,
   "id": "66b3ab62-0d1a-435f-929a-3391c14f502d",
   "metadata": {},
   "outputs": [
    {
     "data": {
      "text/plain": [
       "4013"
      ]
     },
     "execution_count": 22,
     "metadata": {},
     "output_type": "execute_result"
    }
   ],
   "source": [
    "8026 - 4013"
   ]
  },
  {
   "cell_type": "code",
   "execution_count": 23,
   "id": "aef21183-0329-47a2-aadc-e33b1ecf02cf",
   "metadata": {},
   "outputs": [
    {
     "data": {
      "text/plain": [
       "4051"
      ]
     },
     "execution_count": 23,
     "metadata": {},
     "output_type": "execute_result"
    }
   ],
   "source": [
    "8102 - 4051"
   ]
  },
  {
   "cell_type": "code",
   "execution_count": 24,
   "id": "99393f3f-076c-4272-9784-5fd3858918b0",
   "metadata": {},
   "outputs": [
    {
     "data": {
      "text/plain": [
       "241528184647003"
      ]
     },
     "execution_count": 24,
     "metadata": {},
     "output_type": "execute_result"
    }
   ],
   "source": [
    "lcm(3793, 3917, 4013, 4051)"
   ]
  }
 ],
 "metadata": {
  "kernelspec": {
   "display_name": "Python 3 (ipykernel)",
   "language": "python",
   "name": "python3"
  },
  "language_info": {
   "codemirror_mode": {
    "name": "ipython",
    "version": 3
   },
   "file_extension": ".py",
   "mimetype": "text/x-python",
   "name": "python",
   "nbconvert_exporter": "python",
   "pygments_lexer": "ipython3",
   "version": "3.11.5"
  }
 },
 "nbformat": 4,
 "nbformat_minor": 5
}
