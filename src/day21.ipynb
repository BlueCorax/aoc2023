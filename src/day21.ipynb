{
 "cells": [
  {
   "cell_type": "markdown",
   "id": "8bee859c-92ac-423e-811c-1dd44a25e066",
   "metadata": {},
   "source": [
    "# Day 21"
   ]
  },
  {
   "cell_type": "code",
   "execution_count": 1,
   "id": "8f801739-3cf3-4b9e-a32b-2f0208cbad4c",
   "metadata": {},
   "outputs": [],
   "source": [
    "import time"
   ]
  },
  {
   "cell_type": "code",
   "execution_count": 2,
   "id": "3be42a3b-1f5e-4892-b6c6-e571246c6627",
   "metadata": {},
   "outputs": [],
   "source": [
    "from ipynb.fs.defs.utils import read_lines\n",
    "puzzle_input = read_lines('day21.txt')"
   ]
  },
  {
   "cell_type": "code",
   "execution_count": 3,
   "id": "2e4ee095-6eba-4800-bda5-6fa2d4710ddf",
   "metadata": {},
   "outputs": [],
   "source": [
    "test_input = \"\"\"...........\n",
    ".....###.#.\n",
    ".###.##..#.\n",
    "..#.#...#..\n",
    "....#.#....\n",
    ".##..S####.\n",
    ".##..#...#.\n",
    ".......##..\n",
    ".##.#.####.\n",
    ".##..##.##.\n",
    "...........\"\"\".splitlines()"
   ]
  },
  {
   "cell_type": "code",
   "execution_count": 4,
   "id": "b563ff0d-f605-4c87-88bc-96ca1f1d9d80",
   "metadata": {},
   "outputs": [],
   "source": [
    "def add_border(farm, m, n):\n",
    "    for y in range(m):\n",
    "        farm.add((-1, y))\n",
    "        farm.add((n, y))\n",
    "    for x in range(n):\n",
    "        farm.add((x, -1))\n",
    "        farm.add((x, m))"
   ]
  },
  {
   "cell_type": "code",
   "execution_count": 5,
   "id": "59868c46-a7d4-4eab-83df-072476110315",
   "metadata": {},
   "outputs": [],
   "source": [
    "def translate(p, center):\n",
    "    x, y = p\n",
    "    cx, cy = center\n",
    "    return  (x-cx, y-cy)"
   ]
  },
  {
   "cell_type": "code",
   "execution_count": 6,
   "id": "c959aca1-7a17-4eb4-a80a-a56e2e417179",
   "metadata": {},
   "outputs": [],
   "source": [
    "def center_farm(farm, center):\n",
    "    cx, cy = center\n",
    "    return set(map(lambda p: translate(p, center), farm))"
   ]
  },
  {
   "cell_type": "code",
   "execution_count": 7,
   "id": "dded2727-1c9c-484d-b9c0-c21ae850b66f",
   "metadata": {},
   "outputs": [],
   "source": [
    "def parse_farm(inp):\n",
    "    m, n =  len(inp), len(inp[0])\n",
    "    farm = set()\n",
    "    for y in range(m):\n",
    "        for x in range(n):\n",
    "            if inp[y][x] == '#':\n",
    "                farm.add((x, y))\n",
    "            elif inp[y][x] == 'S':\n",
    "                start = (x, y)\n",
    "    add_border(farm, m, n)\n",
    "    return center_farm(farm, start)"
   ]
  },
  {
   "cell_type": "code",
   "execution_count": 8,
   "id": "f41b7773-3e87-4ceb-8e78-59d31f2c3a81",
   "metadata": {},
   "outputs": [],
   "source": [
    "def get_possible_plots(loc, farm):\n",
    "    x, y = loc\n",
    "    locs = [(x - 1, y), (x, y - 1), (x + 1, y), (x, y + 1)]\n",
    "    return [ l for l in locs if not l in farm ]"
   ]
  },
  {
   "cell_type": "code",
   "execution_count": 9,
   "id": "bd4a5b5b-bab6-4964-9adb-8e999de9d2c4",
   "metadata": {},
   "outputs": [],
   "source": [
    "def do_step(locations, farm):\n",
    "    new_locations = set()\n",
    "    for loc in locations:\n",
    "        new_locations.update(get_possible_plots(loc, farm))\n",
    "    return new_locations"
   ]
  },
  {
   "cell_type": "code",
   "execution_count": 10,
   "id": "79237a36-ce4b-4111-b0a5-a3f534489be9",
   "metadata": {},
   "outputs": [],
   "source": [
    "def part1(inp, steps=64, v=False):\n",
    "    farm = parse_farm(inp)\n",
    "    locations = set()\n",
    "    locations.add((0,0))\n",
    "    prev_loc_cnts = [0, 0]\n",
    "    parity = (steps - 1)%2\n",
    "    for s in range(steps):\n",
    "        locations = do_step(locations, farm)\n",
    "        if v: print(locations)\n",
    "        loc_cnt = len(locations)\n",
    "        if s%2 == parity and loc_cnt== prev_loc_cnts[1]:\n",
    "            return loc_cnt, s - 1\n",
    "        prev_loc_cnts[1] = prev_loc_cnts[0]\n",
    "        prev_loc_cnts[0] = loc_cnt\n",
    "    return len(locations), s + 1"
   ]
  },
  {
   "cell_type": "code",
   "execution_count": 11,
   "id": "365ad248-128c-420e-9f8b-dd673cef1ee8",
   "metadata": {},
   "outputs": [
    {
     "name": "stdout",
     "output_type": "stream",
     "text": [
      "(-6, 1)\n"
     ]
    },
    {
     "data": {
      "text/plain": [
       "(1, -6)"
      ]
     },
     "execution_count": 11,
     "metadata": {},
     "output_type": "execute_result"
    }
   ],
   "source": [
    "farm = parse_farm(test_input)\n",
    "print(min(farm, key=lambda x: x[0]))\n",
    "min(farm, key=lambda x: x[1])"
   ]
  },
  {
   "cell_type": "code",
   "execution_count": 12,
   "id": "fdfa2b5b-9fcb-468d-bc1a-37312402680d",
   "metadata": {},
   "outputs": [
    {
     "name": "stdout",
     "output_type": "stream",
     "text": [
      "{(-1, 0), (0, -1)}\n",
      "{(-2, 0), (-1, 1), (0, -2), (0, 0)}\n",
      "{(-2, -1), (-2, 1), (1, -2), (-1, 0), (-1, 2), (0, -1)}\n",
      "{(2, -2), (-3, -1), (-2, -2), (0, 0), (-1, 1), (-2, 0), (0, 2), (-2, 2), (0, -2)}\n",
      "{(-4, -1), (2, -1), (1, 2), (-2, -1), (2, -3), (-2, 1), (0, 3), (1, -2), (-1, 0), (-2, 3), (-3, 2), (-1, 2), (0, -1)}\n",
      "{(-4, -2), (2, -2), (-3, -1), (3, -1), (-2, -2), (-2, 4), (0, 0), (-1, 1), (1, 1), (3, -3), (-2, 0), (0, 2), (-4, 2), (-2, 2), (0, -2), (-5, -1)}\n"
     ]
    },
    {
     "data": {
      "text/plain": [
       "(16, 6)"
      ]
     },
     "execution_count": 12,
     "metadata": {},
     "output_type": "execute_result"
    }
   ],
   "source": [
    "part1(test_input, 6, True)"
   ]
  },
  {
   "cell_type": "code",
   "execution_count": 13,
   "id": "16be8e71-c310-4cc1-8ed4-fbf5fa65c29f",
   "metadata": {},
   "outputs": [
    {
     "data": {
      "text/plain": [
       "(3687, 64)"
      ]
     },
     "execution_count": 13,
     "metadata": {},
     "output_type": "execute_result"
    }
   ],
   "source": [
    "part1(puzzle_input)"
   ]
  },
  {
   "cell_type": "code",
   "execution_count": 14,
   "id": "04ce68d2-b71e-4207-9501-252b8caf2980",
   "metadata": {},
   "outputs": [
    {
     "name": "stdout",
     "output_type": "stream",
     "text": [
      "(7490, 130)\n",
      "0.8657510280609131\n"
     ]
    }
   ],
   "source": [
    "startt = time.time()\n",
    "print(part1(puzzle_input, 1000))\n",
    "endt = time.time()\n",
    "print(endt - startt)"
   ]
  },
  {
   "cell_type": "code",
   "execution_count": 15,
   "id": "7c90955d-5455-4419-bb31-e38a05717c07",
   "metadata": {},
   "outputs": [
    {
     "data": {
      "text/plain": [
       "(7423, 129)"
      ]
     },
     "execution_count": 15,
     "metadata": {},
     "output_type": "execute_result"
    }
   ],
   "source": [
    "part1(puzzle_input, 1001)"
   ]
  },
  {
   "cell_type": "code",
   "execution_count": 16,
   "id": "46e4750c-40b4-427d-9d86-d276af50ab6e",
   "metadata": {},
   "outputs": [
    {
     "data": {
      "text/plain": [
       "(7490, 130)"
      ]
     },
     "execution_count": 16,
     "metadata": {},
     "output_type": "execute_result"
    }
   ],
   "source": [
    "part1(puzzle_input, 1002)"
   ]
  },
  {
   "cell_type": "code",
   "execution_count": 17,
   "id": "28114e2f-03a5-406e-9d48-c6ebffce7b84",
   "metadata": {},
   "outputs": [
    {
     "data": {
      "text/plain": [
       "131"
      ]
     },
     "execution_count": 17,
     "metadata": {},
     "output_type": "execute_result"
    }
   ],
   "source": [
    "len(puzzle_input)"
   ]
  },
  {
   "cell_type": "code",
   "execution_count": 18,
   "id": "36fe3299-a146-4dba-b1c5-04b0ca9cc3ef",
   "metadata": {},
   "outputs": [
    {
     "data": {
      "text/plain": [
       "131"
      ]
     },
     "execution_count": 18,
     "metadata": {},
     "output_type": "execute_result"
    }
   ],
   "source": [
    "len(puzzle_input[0])"
   ]
  },
  {
   "cell_type": "code",
   "execution_count": 19,
   "id": "bbc064fc-0494-4cb8-a13a-4024220ae8f3",
   "metadata": {},
   "outputs": [
    {
     "data": {
      "text/plain": [
       "202300.4961832061"
      ]
     },
     "execution_count": 19,
     "metadata": {},
     "output_type": "execute_result"
    }
   ],
   "source": [
    "26501365 / 131"
   ]
  },
  {
   "cell_type": "code",
   "execution_count": 20,
   "id": "b9e8c0f5-bf19-4db0-b2c2-79be76b9da4b",
   "metadata": {},
   "outputs": [
    {
     "data": {
      "text/plain": [
       "0"
      ]
     },
     "execution_count": 20,
     "metadata": {},
     "output_type": "execute_result"
    }
   ],
   "source": [
    "(26501365 - 65) % 131"
   ]
  },
  {
   "cell_type": "code",
   "execution_count": 21,
   "id": "d2d4f7b3-4359-4a64-91de-c98b14c69c56",
   "metadata": {},
   "outputs": [
    {
     "data": {
      "text/plain": [
       "202300.0"
      ]
     },
     "execution_count": 21,
     "metadata": {},
     "output_type": "execute_result"
    }
   ],
   "source": [
    "(26501365 - 65) / 131"
   ]
  },
  {
   "cell_type": "code",
   "execution_count": null,
   "id": "e39f7b6f-9259-45be-b73e-b80dddea0fd7",
   "metadata": {},
   "outputs": [],
   "source": []
  }
 ],
 "metadata": {
  "kernelspec": {
   "display_name": "Python 3 (ipykernel)",
   "language": "python",
   "name": "python3"
  },
  "language_info": {
   "codemirror_mode": {
    "name": "ipython",
    "version": 3
   },
   "file_extension": ".py",
   "mimetype": "text/x-python",
   "name": "python",
   "nbconvert_exporter": "python",
   "pygments_lexer": "ipython3",
   "version": "3.11.5"
  }
 },
 "nbformat": 4,
 "nbformat_minor": 5
}
