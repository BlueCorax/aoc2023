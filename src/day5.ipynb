{
 "cells": [
  {
   "cell_type": "markdown",
   "id": "4794a7e5-f25e-46ae-8886-406e74cf6253",
   "metadata": {},
   "source": [
    "# Day 5"
   ]
  },
  {
   "cell_type": "code",
   "execution_count": 1,
   "id": "67d18948-87a0-4ae1-81de-d8a9d29652f8",
   "metadata": {},
   "outputs": [],
   "source": [
    "import re"
   ]
  },
  {
   "cell_type": "code",
   "execution_count": 2,
   "id": "d68db729-6c94-4096-a067-e3e7cce6d3f9",
   "metadata": {},
   "outputs": [],
   "source": [
    "from ipynb.fs.defs.utils import read_lines \n",
    "puzzle_input = read_lines(\"day5.txt\")"
   ]
  },
  {
   "cell_type": "code",
   "execution_count": 3,
   "id": "179de293-12c7-4dc6-9488-4e5967905e20",
   "metadata": {},
   "outputs": [],
   "source": [
    "test_input = \"\"\"seeds: 79 14 55 13\n",
    "\n",
    "seed-to-soil map:\n",
    "50 98 2\n",
    "52 50 48\n",
    "\n",
    "soil-to-fertilizer map:\n",
    "0 15 37\n",
    "37 52 2\n",
    "39 0 15\n",
    "\n",
    "fertilizer-to-water map:\n",
    "49 53 8\n",
    "0 11 42\n",
    "42 0 7\n",
    "57 7 4\n",
    "\n",
    "water-to-light map:\n",
    "88 18 7\n",
    "18 25 70\n",
    "\n",
    "light-to-temperature map:\n",
    "45 77 23\n",
    "81 45 19\n",
    "68 64 13\n",
    "\n",
    "temperature-to-humidity map:\n",
    "0 69 1\n",
    "1 0 69\n",
    "\n",
    "humidity-to-location map:\n",
    "60 56 37\n",
    "56 93 4\"\"\".splitlines()"
   ]
  },
  {
   "cell_type": "code",
   "execution_count": 4,
   "id": "36549d1a-789e-43d4-906c-9d7faff11aad",
   "metadata": {},
   "outputs": [],
   "source": [
    "def get_min_location_seed(almanac):\n",
    "    seeds = map(int, almanac[0].split()[1:])\n",
    "    mappings = get_mappings(almanac[2:])\n",
    "    location_to_seed = {map_forward(seed, mappings): seed for seed in seeds}\n",
    "    return min(location_to_seed) # location_to_seed[min(location_to_seed)]"
   ]
  },
  {
   "cell_type": "code",
   "execution_count": 5,
   "id": "f851a3d6-0a00-4fe4-a2b5-e31c79363187",
   "metadata": {},
   "outputs": [],
   "source": [
    "def get_mappings(map_defs):\n",
    "    mappings = []\n",
    "    for l in map_defs:\n",
    "        if 'map' in l:\n",
    "            current_map = []\n",
    "        elif len(l) > 0:\n",
    "            to_start, from_start, length = map(int, l.split())\n",
    "            current_map.append((to_start, from_start, length))\n",
    "        elif len(current_map) > 0:\n",
    "            mappings.append(current_map)\n",
    "            current_map = {}\n",
    "        else:\n",
    "            print('unable to handle line:' + l)\n",
    "\n",
    "    if len(current_map) > 0:\n",
    "        mappings.append(current_map)\n",
    "    return mappings"
   ]
  },
  {
   "cell_type": "code",
   "execution_count": 6,
   "id": "2767562b-dc21-4e71-b0ce-7757c2b76a89",
   "metadata": {},
   "outputs": [],
   "source": [
    "def map_forward(seed, mappings):\n",
    "    value = seed\n",
    "    for map_step in mappings:\n",
    "        value = map_value(value, map_step)\n",
    "    print(f'seed {seed} maps to location {value}')\n",
    "    return value"
   ]
  },
  {
   "cell_type": "code",
   "execution_count": 7,
   "id": "eaf3f31d-8f34-47ba-b1a8-c2fe3318ea3b",
   "metadata": {},
   "outputs": [],
   "source": [
    "def map_value(value, map_def):\n",
    "    for to_start, from_start, length in map_def:\n",
    "        if value >= from_start and value < from_start + length:\n",
    "            return value - from_start + to_start\n",
    "    return value"
   ]
  },
  {
   "cell_type": "code",
   "execution_count": 8,
   "id": "06cf0b85-5693-4356-b36e-a756c2ac33b0",
   "metadata": {},
   "outputs": [
    {
     "data": {
      "text/plain": [
       "[[(50, 98, 2), (52, 50, 48)],\n",
       " [(0, 15, 37), (37, 52, 2), (39, 0, 15)],\n",
       " [(49, 53, 8), (0, 11, 42), (42, 0, 7), (57, 7, 4)],\n",
       " [(88, 18, 7), (18, 25, 70)],\n",
       " [(45, 77, 23), (81, 45, 19), (68, 64, 13)],\n",
       " [(0, 69, 1), (1, 0, 69)],\n",
       " [(60, 56, 37), (56, 93, 4)]]"
      ]
     },
     "execution_count": 8,
     "metadata": {},
     "output_type": "execute_result"
    }
   ],
   "source": [
    "get_mappings(test_input[2:])"
   ]
  },
  {
   "cell_type": "code",
   "execution_count": 9,
   "id": "4c57d5e4-7034-48fe-b9c3-4432fd93958a",
   "metadata": {},
   "outputs": [
    {
     "name": "stdout",
     "output_type": "stream",
     "text": [
      "seed 79 maps to location 82\n"
     ]
    },
    {
     "data": {
      "text/plain": [
       "82"
      ]
     },
     "execution_count": 9,
     "metadata": {},
     "output_type": "execute_result"
    }
   ],
   "source": [
    "map_forward(79, get_mappings(test_input[2:]))"
   ]
  },
  {
   "cell_type": "code",
   "execution_count": 10,
   "id": "6a41b4b8-e55a-41ea-8acb-6db727a4dfc7",
   "metadata": {},
   "outputs": [
    {
     "data": {
      "text/plain": [
       "81"
      ]
     },
     "execution_count": 10,
     "metadata": {},
     "output_type": "execute_result"
    }
   ],
   "source": [
    "map_value(79, [(50, 98, 2), (52, 50, 48)])"
   ]
  },
  {
   "cell_type": "code",
   "execution_count": 11,
   "id": "a8bf8058-1aba-47cd-b826-bbab38fa38dd",
   "metadata": {},
   "outputs": [
    {
     "name": "stdout",
     "output_type": "stream",
     "text": [
      "seed 1778931867 maps to location 3527214727\n",
      "seed 1436999653 maps to location 411334602\n",
      "seed 3684516104 maps to location 1846863896\n",
      "seed 2759374 maps to location 1011130144\n",
      "seed 1192793053 maps to location 107430936\n",
      "seed 358764985 maps to location 2144123292\n",
      "seed 1698790056 maps to location 2030474631\n",
      "seed 76369598 maps to location 2256093975\n",
      "seed 3733854793 maps to location 905605726\n",
      "seed 214008036 maps to location 3270099765\n",
      "seed 4054174000 maps to location 633691295\n",
      "seed 171202266 maps to location 235972814\n",
      "seed 3630057255 maps to location 3827359985\n",
      "seed 25954395 maps to location 2918856711\n",
      "seed 798587440 maps to location 2586721517\n",
      "seed 316327323 maps to location 3414553015\n",
      "seed 290129780 maps to location 2926997052\n",
      "seed 7039123 maps to location 1015409893\n",
      "seed 3334326492 maps to location 3315197680\n",
      "seed 246125391 maps to location 3101317175\n"
     ]
    },
    {
     "data": {
      "text/plain": [
       "107430936"
      ]
     },
     "execution_count": 11,
     "metadata": {},
     "output_type": "execute_result"
    }
   ],
   "source": [
    "get_min_location_seed(puzzle_input)"
   ]
  },
  {
   "cell_type": "code",
   "execution_count": 12,
   "id": "b31693a2-7bde-4716-89ee-ff178e84fd73",
   "metadata": {},
   "outputs": [],
   "source": [
    "def get_seed_ranges(seed_defs):\n",
    "    seed_list = list(map(int, seed_defs.split()[1:]))\n",
    "    return [seed_list[i:i + 2] for i in range(0, len(seed_list), 2)]"
   ]
  },
  {
   "cell_type": "code",
   "execution_count": 13,
   "id": "341d83e7-8357-4d7b-a1b9-3e6956dfadbd",
   "metadata": {},
   "outputs": [],
   "source": [
    "def get_overlap(range1, range2):\n",
    "    s1, l1 = range1\n",
    "    s2, l2 = range2\n",
    "    overlap = (max(s1, s2), min(s1 + l1, s2 + l2) - max(s1, s2))\n",
    "    if overlap[1] <= 0:\n",
    "        return None\n",
    "    return overlap"
   ]
  },
  {
   "cell_type": "code",
   "execution_count": 14,
   "id": "0207ed0b-67ce-496d-a4ea-c1f5f88a173a",
   "metadata": {},
   "outputs": [],
   "source": [
    "def map_range(in_range, map_defs):\n",
    "    out_ranges = []\n",
    "    processed_ranges = []\n",
    "    for to_start, from_start, length in map_defs:\n",
    "        overlap = get_overlap(in_range, (from_start, length))\n",
    "        if overlap:\n",
    "            out_ranges.append((overlap[0] - from_start + to_start, overlap[1]))\n",
    "            processed_ranges.append(overlap)\n",
    "    processed_ranges = sorted(processed_ranges,key=lambda x: x[0])\n",
    "    c_value = in_range[0]\n",
    "    for p_range in processed_ranges:\n",
    "        if c_value < p_range[0]:\n",
    "            out_ranges.append((c_value, p_range[0] - c_value))\n",
    "            c_value = p_range[0] + p_range[1]\n",
    "        elif c_value == p_range[0]:\n",
    "            c_value += p_range[1]\n",
    "        else:\n",
    "            print(f'error overlapping mapping {in_range} using {map_def} to {out_ranges}. processed {processed_ranges}')\n",
    "    if c_value < in_range[0] + in_range[1]:\n",
    "        out_ranges.append((c_value, in_range[0] + in_range[1] - c_value))\n",
    "    return out_ranges"
   ]
  },
  {
   "cell_type": "code",
   "execution_count": 15,
   "id": "95bf0e7d-4049-4b71-86e8-9f8b85eaa12b",
   "metadata": {},
   "outputs": [],
   "source": [
    "def map_ranges(in_ranges, map_def):\n",
    "    out_ranges = []\n",
    "    for r in in_ranges:\n",
    "        out_ranges += map_range(r, map_def)\n",
    "    return out_ranges"
   ]
  },
  {
   "cell_type": "code",
   "execution_count": 16,
   "id": "e84e0eb1-2ed5-45d4-a8f0-0751de9b4386",
   "metadata": {},
   "outputs": [],
   "source": [
    "def map_range_forward(seed_range, mappings):\n",
    "    c_ranges = [seed_range]\n",
    "    for map_def in mappings:\n",
    "        c_ranges = map_ranges(c_ranges, map_def)\n",
    "    return c_ranges"
   ]
  },
  {
   "cell_type": "code",
   "execution_count": 17,
   "id": "c0e90340-143c-4473-9a5b-ba990b989a47",
   "metadata": {},
   "outputs": [
    {
     "data": {
      "text/plain": [
       "[(86, 4), (94, 3), (56, 4), (97, 2)]"
      ]
     },
     "execution_count": 17,
     "metadata": {},
     "output_type": "execute_result"
    }
   ],
   "source": [
    "map_range_forward((55, 13), get_mappings(test_input[2:]))"
   ]
  },
  {
   "cell_type": "code",
   "execution_count": 18,
   "id": "659ff7b5-d913-4c2b-b9cf-0eae1e87c8cd",
   "metadata": {},
   "outputs": [],
   "source": [
    "def get_min_location_seed_range(almanac):\n",
    "    seed_ranges = get_seed_ranges(almanac[0])\n",
    "    mappings = get_mappings(almanac[2:])\n",
    "    min_location = None\n",
    "    for seed_range in seed_ranges:\n",
    "        mappend_ranges = map_range_forward(seed_range, mappings)\n",
    "        min_range = min(mappend_ranges, key= lambda x: x[0])\n",
    "        if min_location is None or min_range[0] < min_location:\n",
    "            min_location = min_range[0]\n",
    "    return min_location"
   ]
  },
  {
   "cell_type": "code",
   "execution_count": 19,
   "id": "d05a351b-8037-4dfc-9b00-32a674fec7a4",
   "metadata": {},
   "outputs": [
    {
     "data": {
      "text/plain": [
       "[(29, 1), (120, 3), (80, 5), (88, 5)]"
      ]
     },
     "execution_count": 19,
     "metadata": {},
     "output_type": "execute_result"
    }
   ],
   "source": [
    "map_range((79, 14), [(10, 60, 20), (120, 85, 3)])"
   ]
  },
  {
   "cell_type": "code",
   "execution_count": 20,
   "id": "f10161da-0d10-46f1-989a-b867341bceb1",
   "metadata": {},
   "outputs": [
    {
     "data": {
      "text/plain": [
       "[[(50, 98, 2), (52, 50, 48)],\n",
       " [(0, 15, 37), (37, 52, 2), (39, 0, 15)],\n",
       " [(49, 53, 8), (0, 11, 42), (42, 0, 7), (57, 7, 4)],\n",
       " [(88, 18, 7), (18, 25, 70)],\n",
       " [(45, 77, 23), (81, 45, 19), (68, 64, 13)],\n",
       " [(0, 69, 1), (1, 0, 69)],\n",
       " [(60, 56, 37), (56, 93, 4)]]"
      ]
     },
     "execution_count": 20,
     "metadata": {},
     "output_type": "execute_result"
    }
   ],
   "source": [
    "get_mappings(test_input[2:])"
   ]
  },
  {
   "cell_type": "code",
   "execution_count": 21,
   "id": "03716c31-90f5-4e14-86a4-ac51adffcf8a",
   "metadata": {},
   "outputs": [
    {
     "data": {
      "text/plain": [
       "23738616"
      ]
     },
     "execution_count": 21,
     "metadata": {},
     "output_type": "execute_result"
    }
   ],
   "source": [
    "get_min_location_seed_range(puzzle_input)"
   ]
  },
  {
   "cell_type": "code",
   "execution_count": 22,
   "id": "6497ebdc-eea6-4628-8faf-2a55cbdcb68c",
   "metadata": {},
   "outputs": [
    {
     "data": {
      "text/plain": [
       "[[79, 14], [55, 13]]"
      ]
     },
     "execution_count": 22,
     "metadata": {},
     "output_type": "execute_result"
    }
   ],
   "source": [
    "get_seed_ranges(test_input[0])"
   ]
  },
  {
   "cell_type": "code",
   "execution_count": null,
   "id": "beb2dc6b-1369-41bf-982e-8b5af3432f6c",
   "metadata": {},
   "outputs": [],
   "source": []
  }
 ],
 "metadata": {
  "kernelspec": {
   "display_name": "Python 3 (ipykernel)",
   "language": "python",
   "name": "python3"
  },
  "language_info": {
   "codemirror_mode": {
    "name": "ipython",
    "version": 3
   },
   "file_extension": ".py",
   "mimetype": "text/x-python",
   "name": "python",
   "nbconvert_exporter": "python",
   "pygments_lexer": "ipython3",
   "version": "3.11.5"
  }
 },
 "nbformat": 4,
 "nbformat_minor": 5
}
