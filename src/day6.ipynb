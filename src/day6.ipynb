{
 "cells": [
  {
   "cell_type": "markdown",
   "id": "0a146697-7404-4f96-a750-42cfae907ac2",
   "metadata": {},
   "source": [
    "# Day 6"
   ]
  },
  {
   "cell_type": "code",
   "execution_count": 1,
   "id": "39de96a5-2079-46f2-9aa5-0f53ee9f4514",
   "metadata": {},
   "outputs": [],
   "source": [
    "import re"
   ]
  },
  {
   "cell_type": "code",
   "execution_count": 2,
   "id": "128eeaed-48d9-4841-a934-42d2c55186bc",
   "metadata": {},
   "outputs": [],
   "source": [
    "from ipynb.fs.defs.utils import read_lines \n",
    "puzzle_input = read_lines(\"day6.txt\")"
   ]
  },
  {
   "cell_type": "code",
   "execution_count": 3,
   "id": "e2f64751-13b4-4bf0-9c5e-b8a769f41513",
   "metadata": {},
   "outputs": [],
   "source": [
    "test_input = \"\"\"Time:      7  15   30\n",
    "Distance:  9  40  200\n",
    "\"\"\".splitlines()"
   ]
  },
  {
   "cell_type": "code",
   "execution_count": 4,
   "id": "36716564-8b30-41f2-9b58-e0c7a33406d4",
   "metadata": {},
   "outputs": [],
   "source": [
    "def parse_race (recording):\n",
    "    return list(zip(*[map(int,r.split()[1:]) for r in recording]))"
   ]
  },
  {
   "cell_type": "code",
   "execution_count": 5,
   "id": "9c525c80-46b3-465a-8380-8245513e6b76",
   "metadata": {},
   "outputs": [
    {
     "data": {
      "text/plain": [
       "[(7, 9), (15, 40), (30, 200)]"
      ]
     },
     "execution_count": 5,
     "metadata": {},
     "output_type": "execute_result"
    }
   ],
   "source": [
    "races = parse_race(test_input)\n",
    "races"
   ]
  },
  {
   "cell_type": "code",
   "execution_count": 6,
   "id": "59927d90-8a50-4df8-8387-1ceef28f8829",
   "metadata": {},
   "outputs": [],
   "source": [
    "def wins_race(press, time, record):\n",
    "    return press * (time - press) > record"
   ]
  },
  {
   "cell_type": "code",
   "execution_count": 7,
   "id": "1bdb7f2b-98a8-437d-99de-570179dee244",
   "metadata": {},
   "outputs": [],
   "source": [
    "def get_winning_races(time, record):\n",
    "    return [press for press in range(1, time) if wins_race(press, time, record)]"
   ]
  },
  {
   "cell_type": "code",
   "execution_count": 8,
   "id": "f8c0264c-def2-4348-8df4-e4fe169ab50a",
   "metadata": {},
   "outputs": [],
   "source": [
    "def mult_list(inp_list):\n",
    "    prod = 1\n",
    "    for i in inp_list:\n",
    "        prod *= i\n",
    "    return prod"
   ]
  },
  {
   "cell_type": "code",
   "execution_count": 9,
   "id": "dbbcc616-d864-41f7-9df5-e4b3f183f28e",
   "metadata": {},
   "outputs": [],
   "source": [
    "def calc_part1(recordings):\n",
    "    races = parse_race(recordings)\n",
    "    winning_press = [get_winning_races(*race) for race in races]\n",
    "    print(winning_press)\n",
    "    return mult_list([len(l) for l in winning_press])"
   ]
  },
  {
   "cell_type": "code",
   "execution_count": 10,
   "id": "f7880d58-5bb3-4384-a543-cfa1a49a4117",
   "metadata": {},
   "outputs": [
    {
     "name": "stdout",
     "output_type": "stream",
     "text": [
      "[[7, 8, 9, 10, 11, 12, 13, 14, 15, 16, 17, 18, 19, 20, 21, 22, 23, 24, 25, 26, 27, 28, 29, 30, 31, 32, 33], [14, 15, 16, 17, 18, 19, 20, 21, 22, 23, 24, 25, 26, 27, 28, 29, 30, 31, 32, 33, 34, 35, 36, 37, 38, 39, 40, 41, 42, 43, 44, 45, 46, 47, 48, 49, 50, 51, 52, 53, 54, 55, 56, 57, 58, 59, 60, 61, 62, 63, 64, 65, 66, 67, 68, 69, 70, 71, 72, 73, 74, 75, 76, 77, 78], [20, 21, 22, 23, 24, 25, 26, 27, 28, 29, 30, 31, 32, 33, 34, 35, 36, 37, 38, 39, 40, 41, 42, 43, 44, 45, 46, 47, 48, 49, 50, 51, 52, 53, 54, 55, 56, 57, 58, 59, 60, 61, 62, 63, 64, 65, 66, 67, 68, 69, 70, 71, 72, 73, 74, 75, 76, 77], [15, 16, 17, 18, 19, 20, 21, 22, 23, 24, 25, 26, 27, 28, 29, 30, 31, 32, 33, 34, 35, 36, 37, 38, 39, 40, 41, 42, 43, 44, 45, 46, 47, 48, 49, 50, 51, 52, 53, 54, 55, 56, 57, 58, 59, 60, 61, 62, 63, 64, 65, 66, 67, 68, 69, 70, 71, 72, 73, 74, 75]]\n"
     ]
    },
    {
     "data": {
      "text/plain": [
       "6209190"
      ]
     },
     "execution_count": 10,
     "metadata": {},
     "output_type": "execute_result"
    }
   ],
   "source": [
    "calc_part1(puzzle_input)"
   ]
  },
  {
   "cell_type": "markdown",
   "id": "265d5331-de6a-47b2-b02e-b2db883f4d71",
   "metadata": {},
   "source": [
    "x * (t - x) > r  \n",
    "x*71530 - x**2 - 940200 = 0"
   ]
  },
  {
   "cell_type": "code",
   "execution_count": 11,
   "id": "cc2130b9-d91d-4a43-ba6e-5f90f5c2d40f",
   "metadata": {},
   "outputs": [
    {
     "data": {
      "text/plain": [
       "28545089"
      ]
     },
     "execution_count": 11,
     "metadata": {},
     "output_type": "execute_result"
    }
   ],
   "source": [
    "len(get_winning_races(40929790, 215106415051100))"
   ]
  },
  {
   "cell_type": "code",
   "execution_count": null,
   "id": "a53740af-cc34-4f40-b5b2-00cb4f7de8bc",
   "metadata": {},
   "outputs": [],
   "source": []
  }
 ],
 "metadata": {
  "kernelspec": {
   "display_name": "Python 3 (ipykernel)",
   "language": "python",
   "name": "python3"
  },
  "language_info": {
   "codemirror_mode": {
    "name": "ipython",
    "version": 3
   },
   "file_extension": ".py",
   "mimetype": "text/x-python",
   "name": "python",
   "nbconvert_exporter": "python",
   "pygments_lexer": "ipython3",
   "version": "3.11.5"
  }
 },
 "nbformat": 4,
 "nbformat_minor": 5
}
