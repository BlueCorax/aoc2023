{
 "cells": [
  {
   "cell_type": "markdown",
   "id": "3702b2ee-7794-41f6-9d2f-57d1ceaab169",
   "metadata": {},
   "source": [
    "# Day 8"
   ]
  },
  {
   "cell_type": "code",
   "execution_count": 1,
   "id": "9e0cf633-f98a-4572-98d2-8e05a1192507",
   "metadata": {},
   "outputs": [],
   "source": [
    "from ipynb.fs.defs.utils import read_lines \n",
    "import re\n",
    "import math"
   ]
  },
  {
   "cell_type": "code",
   "execution_count": 2,
   "id": "8d9d9bdd-cb7c-4ca9-8d2b-7c60bf663b1b",
   "metadata": {},
   "outputs": [],
   "source": [
    "puzzle_input = read_lines('day8.txt')"
   ]
  },
  {
   "cell_type": "code",
   "execution_count": 3,
   "id": "f1c5297c-49f7-43dc-96ab-4c243006fe02",
   "metadata": {},
   "outputs": [],
   "source": [
    "test1_input = \"\"\"RL\n",
    "\n",
    "AAA = (BBB, CCC)\n",
    "BBB = (DDD, EEE)\n",
    "CCC = (ZZZ, GGG)\n",
    "DDD = (DDD, DDD)\n",
    "EEE = (EEE, EEE)\n",
    "GGG = (GGG, GGG)\n",
    "ZZZ = (ZZZ, ZZZ)\"\"\".splitlines()"
   ]
  },
  {
   "cell_type": "code",
   "execution_count": 4,
   "id": "8eece60d-e85f-4f54-bad9-2ad427c14d50",
   "metadata": {},
   "outputs": [],
   "source": [
    "test2_input = \"\"\"LLR\n",
    "\n",
    "AAA = (BBB, BBB)\n",
    "BBB = (AAA, ZZZ)\n",
    "ZZZ = (ZZZ, ZZZ)\"\"\".splitlines()"
   ]
  },
  {
   "cell_type": "code",
   "execution_count": 5,
   "id": "ca97d4e5-8345-495c-88c6-fe7064237558",
   "metadata": {},
   "outputs": [],
   "source": [
    "def part1(instructions):\n",
    "    sequence = instructions[0]\n",
    "    desert_map = parse_map(instructions[2:])\n",
    "    i = 0\n",
    "    total_steps = 0\n",
    "    loc = 'AAA'\n",
    "    while loc != 'ZZZ':\n",
    "        loc = do_step(loc, sequence[i], desert_map)\n",
    "        i = (i + 1) % len(sequence)\n",
    "        total_steps += 1\n",
    "       # print(loc, i, total_steps)\n",
    "    return total_steps"
   ]
  },
  {
   "cell_type": "code",
   "execution_count": 6,
   "id": "d38ee6e7-0937-450e-99e1-93ce79679f68",
   "metadata": {},
   "outputs": [],
   "source": [
    "map_entry_pattern = '(\\w{3}) = \\((\\w{3}), (\\w{3})\\)'\n",
    "def parse_map(desert_map):\n",
    "    mapping = {}\n",
    "    for l in desert_map:\n",
    "        m = re.search(map_entry_pattern, l)\n",
    "        mapping[m.group(1)] = (m.group(2), m.group(3))\n",
    "    return mapping"
   ]
  },
  {
   "cell_type": "code",
   "execution_count": 7,
   "id": "3a8a8d13-63d2-40fc-8d07-d538f4b6068a",
   "metadata": {},
   "outputs": [],
   "source": [
    "def do_step(loc, instr, desert_map):\n",
    "    entry = desert_map[loc]\n",
    "    return  entry[0] if instr == 'L' else entry[1]"
   ]
  },
  {
   "cell_type": "code",
   "execution_count": 8,
   "id": "dea40972-ec77-4222-9b05-99d48a18a4e9",
   "metadata": {},
   "outputs": [
    {
     "data": {
      "text/plain": [
       "19199"
      ]
     },
     "execution_count": 8,
     "metadata": {},
     "output_type": "execute_result"
    }
   ],
   "source": [
    "part1(puzzle_input)"
   ]
  },
  {
   "cell_type": "code",
   "execution_count": 9,
   "id": "6dc3c706-c110-417a-902e-5cb60f7bfc40",
   "metadata": {},
   "outputs": [],
   "source": [
    "def part2(instructions, start_at = 'A'):\n",
    "    sequence = instructions[0]\n",
    "    desert_map = parse_map(instructions[2:])\n",
    "    locs = [loc for loc in desert_map if loc[2] == start_at]\n",
    "    locations_step_counts = [get_destination(loc, sequence, desert_map) for loc in locs]\n",
    "    print(locations_step_counts)\n",
    "    steps = [ e[2] for e in locations_step_counts ]\n",
    "    return math.lcm(*steps)"
   ]
  },
  {
   "cell_type": "code",
   "execution_count": 10,
   "id": "a5ddbd14-ea97-4fec-a5d5-20376461f9d1",
   "metadata": {},
   "outputs": [],
   "source": [
    "def get_destination(init_loc, sequence, desert_map):\n",
    "    i = 0\n",
    "    total_steps = 0\n",
    "    destinations = []\n",
    "    loc = init_loc\n",
    "    while True:\n",
    "        loc = do_step(loc, sequence[i], desert_map)\n",
    "        i = (i + 1) % len(sequence)\n",
    "        total_steps += 1\n",
    "        if loc[2] == 'Z':\n",
    "            destinations.append(total_steps)\n",
    "            return (init_loc, loc, total_steps)"
   ]
  },
  {
   "cell_type": "code",
   "execution_count": 11,
   "id": "4129a92b-3311-4856-8e1a-f0a75bd61621",
   "metadata": {},
   "outputs": [],
   "source": [
    "def do_steps(locs, instr, desert_map):\n",
    "    entries = [desert_map[loc] for loc in locs]\n",
    "    return [entry[0] if instr == 'L' else entry[1] for entry in entries]"
   ]
  },
  {
   "cell_type": "code",
   "execution_count": 12,
   "id": "b3e0499d-ab69-44f0-b9ca-cd52bd634a4b",
   "metadata": {},
   "outputs": [],
   "source": [
    "test3_input = \"\"\"LR\n",
    "\n",
    "11A = (11B, XXX)\n",
    "11B = (XXX, 11Z)\n",
    "11Z = (11B, XXX)\n",
    "22A = (22B, XXX)\n",
    "22B = (22C, 22C)\n",
    "22C = (22Z, 22Z)\n",
    "22Z = (22B, 22B)\n",
    "XXX = (XXX, XXX)\"\"\".splitlines()"
   ]
  },
  {
   "cell_type": "code",
   "execution_count": 13,
   "id": "5460b009-5795-473b-85c2-e50727ac2ae0",
   "metadata": {},
   "outputs": [
    {
     "name": "stdout",
     "output_type": "stream",
     "text": [
      "[('PSZ', 'PSZ', 15517), ('VTZ', 'VTZ', 11309), ('ZZZ', 'ZZZ', 19199), ('VGZ', 'VGZ', 17621), ('BVZ', 'BVZ', 13939), ('BPZ', 'BPZ', 20777)]\n"
     ]
    },
    {
     "data": {
      "text/plain": [
       "13663968099527"
      ]
     },
     "execution_count": 13,
     "metadata": {},
     "output_type": "execute_result"
    }
   ],
   "source": [
    "part2(puzzle_input, 'Z')"
   ]
  },
  {
   "cell_type": "code",
   "execution_count": 14,
   "id": "dc647cbc-2117-4f0f-ad0d-6d66efacdc27",
   "metadata": {},
   "outputs": [
    {
     "name": "stdout",
     "output_type": "stream",
     "text": [
      "[('NBA', 'BVZ', 13939), ('SXA', 'VGZ', 17621), ('JVA', 'VTZ', 11309), ('XVA', 'BPZ', 20777), ('AAA', 'ZZZ', 19199), ('GRA', 'PSZ', 15517)]\n"
     ]
    },
    {
     "data": {
      "text/plain": [
       "13663968099527"
      ]
     },
     "execution_count": 14,
     "metadata": {},
     "output_type": "execute_result"
    }
   ],
   "source": [
    "part2(puzzle_input)"
   ]
  }
 ],
 "metadata": {
  "kernelspec": {
   "display_name": "Python 3 (ipykernel)",
   "language": "python",
   "name": "python3"
  },
  "language_info": {
   "codemirror_mode": {
    "name": "ipython",
    "version": 3
   },
   "file_extension": ".py",
   "mimetype": "text/x-python",
   "name": "python",
   "nbconvert_exporter": "python",
   "pygments_lexer": "ipython3",
   "version": "3.11.5"
  }
 },
 "nbformat": 4,
 "nbformat_minor": 5
}
