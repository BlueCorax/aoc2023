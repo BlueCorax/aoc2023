{
 "cells": [
  {
   "cell_type": "markdown",
   "id": "ec3a8ca6-d8d2-49a4-b6b1-e05135de62b6",
   "metadata": {},
   "source": [
    "# Day 9"
   ]
  },
  {
   "cell_type": "code",
   "execution_count": 1,
   "id": "23c66c4f-393a-4853-a3d4-17694148ad3a",
   "metadata": {},
   "outputs": [],
   "source": [
    "from ipynb.fs.defs.utils import read_lines "
   ]
  },
  {
   "cell_type": "code",
   "execution_count": 2,
   "id": "ad1e5169-e8b1-41b5-9de2-aa8190b40976",
   "metadata": {},
   "outputs": [],
   "source": [
    "puzzle_input = read_lines(\"day9.txt\")"
   ]
  },
  {
   "cell_type": "code",
   "execution_count": 3,
   "id": "f3dee232-dd58-4af8-8e52-f6cb9d85029c",
   "metadata": {},
   "outputs": [],
   "source": [
    "test_input = \"\"\"0 3 6 9 12 15\n",
    "1 3 6 10 15 21\n",
    "10 13 16 21 30 45\"\"\".splitlines()"
   ]
  },
  {
   "cell_type": "code",
   "execution_count": 4,
   "id": "88198b2d-31b1-45c7-91cc-b76ba380fd94",
   "metadata": {},
   "outputs": [],
   "source": [
    "def part1(inp):\n",
    "    rows = parse_input(inp)\n",
    "    return sum([next_value(row) for row in rows])"
   ]
  },
  {
   "cell_type": "code",
   "execution_count": 5,
   "id": "d1f18cf0-8755-4ce2-a413-2085e2e625ba",
   "metadata": {},
   "outputs": [],
   "source": [
    "def parse_input(inp):\n",
    "    return [ list(map(int, i.split(' '))) for i in inp ]"
   ]
  },
  {
   "cell_type": "code",
   "execution_count": 6,
   "id": "41b34751-619f-457e-ab03-234ac1a03ad7",
   "metadata": {},
   "outputs": [],
   "source": [
    "def next_value(seq):\n",
    "    if is_zeroes(seq):\n",
    "        return 0\n",
    "    diff = get_diff(seq)\n",
    "    return seq[-1] + next_value(diff)"
   ]
  },
  {
   "cell_type": "code",
   "execution_count": 7,
   "id": "41c54e19-95c8-4223-accd-c27ba753238f",
   "metadata": {},
   "outputs": [],
   "source": [
    "def is_zeroes(seq):\n",
    "    return all([ i == 0 for i in seq])"
   ]
  },
  {
   "cell_type": "code",
   "execution_count": 8,
   "id": "3af4c01f-3a58-4b7c-91f4-ee3b696d182a",
   "metadata": {},
   "outputs": [],
   "source": [
    "def get_diff(seq):\n",
    "    return [ seq[i+1] - seq[i] for i in range(len(seq) - 1) ]"
   ]
  },
  {
   "cell_type": "code",
   "execution_count": 9,
   "id": "e4470574-39e1-4ccc-a32b-5a6c1b8d50f0",
   "metadata": {},
   "outputs": [
    {
     "data": {
      "text/plain": [
       "2098530125"
      ]
     },
     "execution_count": 9,
     "metadata": {},
     "output_type": "execute_result"
    }
   ],
   "source": [
    "part1(puzzle_input)"
   ]
  },
  {
   "cell_type": "code",
   "execution_count": 10,
   "id": "20150905-fdc8-416d-bd01-2b77df6738ad",
   "metadata": {},
   "outputs": [],
   "source": [
    "def part2(inp):\n",
    "    rows = parse_input(inp)\n",
    "    return sum([prev_value(row) for row in rows])"
   ]
  },
  {
   "cell_type": "code",
   "execution_count": 11,
   "id": "0460559e-a340-4336-afcf-ae71406bc0ed",
   "metadata": {},
   "outputs": [],
   "source": [
    "def prev_value(seq):\n",
    "    if is_zeroes(seq):\n",
    "        return 0\n",
    "    diff = get_diff(seq)\n",
    "    return seq[0] - prev_value(diff)"
   ]
  },
  {
   "cell_type": "code",
   "execution_count": 12,
   "id": "f66f1581-ed22-47f6-894c-dae52a2ae551",
   "metadata": {},
   "outputs": [
    {
     "data": {
      "text/plain": [
       "1016"
      ]
     },
     "execution_count": 12,
     "metadata": {},
     "output_type": "execute_result"
    }
   ],
   "source": [
    "part2(puzzle_input)"
   ]
  },
  {
   "cell_type": "code",
   "execution_count": null,
   "id": "4c11fea0-330a-4b04-9496-61abcf34d5cc",
   "metadata": {},
   "outputs": [],
   "source": []
  }
 ],
 "metadata": {
  "kernelspec": {
   "display_name": "Python 3 (ipykernel)",
   "language": "python",
   "name": "python3"
  },
  "language_info": {
   "codemirror_mode": {
    "name": "ipython",
    "version": 3
   },
   "file_extension": ".py",
   "mimetype": "text/x-python",
   "name": "python",
   "nbconvert_exporter": "python",
   "pygments_lexer": "ipython3",
   "version": "3.11.5"
  }
 },
 "nbformat": 4,
 "nbformat_minor": 5
}
