{
 "cells": [
  {
   "cell_type": "code",
   "execution_count": 3,
   "id": "5459d8fa-4587-4d3c-9e3b-ab9210e29a61",
   "metadata": {},
   "outputs": [],
   "source": [
    "def read_lines(file_name, folder = '../data/'):\n",
    "    with open(folder + file_name) as f:\n",
    "        return f.read().splitlines()"
   ]
  }
 ],
 "metadata": {
  "kernelspec": {
   "display_name": "Python 3 (ipykernel)",
   "language": "python",
   "name": "python3"
  },
  "language_info": {
   "codemirror_mode": {
    "name": "ipython",
    "version": 3
   },
   "file_extension": ".py",
   "mimetype": "text/x-python",
   "name": "python",
   "nbconvert_exporter": "python",
   "pygments_lexer": "ipython3",
   "version": "3.11.6"
  }
 },
 "nbformat": 4,
 "nbformat_minor": 5
}
